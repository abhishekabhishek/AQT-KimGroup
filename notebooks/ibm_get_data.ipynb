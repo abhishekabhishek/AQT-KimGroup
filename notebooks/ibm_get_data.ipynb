{
 "cells": [
  {
   "cell_type": "code",
   "execution_count": 1,
   "metadata": {},
   "outputs": [
    {
     "name": "stdout",
     "output_type": "stream",
     "text": [
      "/home/abhishekabhishek/git/AQT-KimGroup\n"
     ]
    }
   ],
   "source": [
    "cd .."
   ]
  },
  {
   "cell_type": "markdown",
   "metadata": {},
   "source": [
    "This notebook can be used to run different quantum circuits (e.g. GHZ, W) on IBMQ simulators or hardware, and construct a dataset of POVM measurements which can be used to perform quantum state tomography using attention-based models."
   ]
  },
  {
   "cell_type": "code",
   "execution_count": 2,
   "metadata": {},
   "outputs": [],
   "source": [
    "from qiskit import IBMQ, QuantumCircuit\n",
    "from qiskit.quantum_info import DensityMatrix\n",
    "from qiskit_experiments.library.tomography import StateTomographyAnalysis\n",
    "import numpy as np\n",
    "import os, time\n",
    "\n",
    "from circuits import state_prep\n",
    "\n",
    "%matplotlib inline"
   ]
  },
  {
   "cell_type": "markdown",
   "metadata": {},
   "source": [
    "Setup access to IBM"
   ]
  },
  {
   "cell_type": "code",
   "execution_count": 3,
   "metadata": {},
   "outputs": [
    {
     "name": "stdout",
     "output_type": "stream",
     "text": [
      "ibmq_qasm_simulator 32 2\n",
      "ibmq_lima 5 153\n",
      "ibmq_belem 5 8\n",
      "ibmq_quito 5 24\n",
      "simulator_statevector 32 2\n",
      "simulator_mps 100 2\n",
      "simulator_extended_stabilizer 63 2\n",
      "simulator_stabilizer 5000 2\n",
      "ibmq_manila 5 9\n",
      "ibm_nairobi 7 22\n",
      "ibm_oslo 7 54\n"
     ]
    }
   ],
   "source": [
    "# Setup account\n",
    "IBMQ.load_account()\n",
    "provider = IBMQ.get_provider(hub='ibm-q')\n",
    "\n",
    "# Find available devices\n",
    "devices = provider.backends(operational=True)\n",
    "for x in devices:\n",
    "    print(x.name(), x.configuration().n_qubits, x.status().pending_jobs)"
   ]
  },
  {
   "cell_type": "code",
   "execution_count": 4,
   "metadata": {},
   "outputs": [
    {
     "name": "stdout",
     "output_type": "stream",
     "text": [
      "Using backend ibmq_qasm_simulator\n"
     ]
    }
   ],
   "source": [
    "# Use one of the backends above\n",
    "REAL = False\n",
    "if REAL:\n",
    "    sim_backend = provider.backend.ibmq_belem\n",
    "else:\n",
    "    sim_backend = provider.backend.ibmq_qasm_simulator\n",
    "    \n",
    "print(f'Using backend {sim_backend}')"
   ]
  },
  {
   "cell_type": "markdown",
   "metadata": {},
   "source": [
    "Use the qiskit_experiments library to collect the tomography data"
   ]
  },
  {
   "cell_type": "code",
   "execution_count": 5,
   "metadata": {},
   "outputs": [],
   "source": [
    "from qiskit_experiments.library import StateTomography"
   ]
  },
  {
   "cell_type": "code",
   "execution_count": 30,
   "metadata": {},
   "outputs": [],
   "source": [
    "# System setup\n",
    "n_qubits = 6\n",
    "n_shots = 100\n",
    "\n",
    "# Initialize the circuit\n",
    "circ = QuantumCircuit(n_qubits)\n",
    "\n",
    "# Choose which type of state to prepare\n",
    "# One of ghz, w, bisep, random\n",
    "state = 'bisep'"
   ]
  },
  {
   "cell_type": "code",
   "execution_count": 31,
   "metadata": {},
   "outputs": [
    {
     "data": {
      "text/html": [
       "<pre style=\"word-wrap: normal;white-space: pre;background: #fff0;line-height: 1.1;font-family: &quot;Courier New&quot;,Courier,monospace\">     ┌───┐          \n",
       "q_0: ┤ H ├──■───────\n",
       "     └───┘┌─┴─┐     \n",
       "q_1: ─────┤ X ├──■──\n",
       "          └───┘┌─┴─┐\n",
       "q_2: ──────────┤ X ├\n",
       "     ┌───┐     └───┘\n",
       "q_3: ┤ H ├──■───────\n",
       "     └───┘┌─┴─┐     \n",
       "q_4: ─────┤ X ├──■──\n",
       "          └───┘┌─┴─┐\n",
       "q_5: ──────────┤ X ├\n",
       "               └───┘</pre>"
      ],
      "text/plain": [
       "     ┌───┐          \n",
       "q_0: ┤ H ├──■───────\n",
       "     └───┘┌─┴─┐     \n",
       "q_1: ─────┤ X ├──■──\n",
       "          └───┘┌─┴─┐\n",
       "q_2: ──────────┤ X ├\n",
       "     ┌───┐     └───┘\n",
       "q_3: ┤ H ├──■───────\n",
       "     └───┘┌─┴─┐     \n",
       "q_4: ─────┤ X ├──■──\n",
       "          └───┘┌─┴─┐\n",
       "q_5: ──────────┤ X ├\n",
       "               └───┘"
      ]
     },
     "execution_count": 31,
     "metadata": {},
     "output_type": "execute_result"
    }
   ],
   "source": [
    "if state == 'ghz':\n",
    "    circ.h(0)\n",
    "    for idx in range(n_qubits-1):\n",
    "        circ.cx(idx, idx+1)\n",
    "elif state == 'w':\n",
    "    if n_qubits == 2:\n",
    "        circ.ry(1.9106332362490184, 0)\n",
    "        circ.cu((np.pi/2), (np.pi/2), (np.pi/2), 0, 0, 1)\n",
    "        circ.cx(1, 2)\n",
    "        circ.cx(0, 1)\n",
    "        circ.x(0)\n",
    "    else:\n",
    "        circ = state_prep.create_w_state(n_qubits)\n",
    "elif state == 'bisep':\n",
    "    if n_qubits == 3:\n",
    "        circ.h(0)\n",
    "        circ.h(1)\n",
    "        for idx in range(1, n_qubits-1):\n",
    "            circ.cx(idx, idx+1)\n",
    "    elif n_qubits == 6:\n",
    "        circ.h(0)\n",
    "        for idx in range(int(n_qubits/2)-1):\n",
    "            circ.cx(idx, idx+1)\n",
    "        circ.h(3)\n",
    "        for idx in range(int(n_qubits/2), n_qubits-1):\n",
    "            circ.cx(idx, idx+1)\n",
    "    else:\n",
    "        raise NotImplementedError\n",
    "elif state == 'random':\n",
    "    for idx in range(n_qubits):\n",
    "        circ.h(idx)\n",
    "        \n",
    "# Draw the circuit\n",
    "circ.draw() "
   ]
  },
  {
   "cell_type": "markdown",
   "metadata": {},
   "source": [
    "Start saving density matrices to the disk"
   ]
  },
  {
   "cell_type": "code",
   "execution_count": 24,
   "metadata": {},
   "outputs": [],
   "source": [
    "# save options\n",
    "overwrite = True\n",
    "data_dir = 'data'\n",
    "if REAL:\n",
    "    state_dir = data_dir + f'/{state}_{n_qubits}_{sim_backend.name()}'\n",
    "else:\n",
    "    state_dir = data_dir + f'/{state}_{n_qubits}'\n",
    "\n",
    "if not os.path.isdir(data_dir):\n",
    "    print(f'{data_dir} does not exist. Creating the directory.')\n",
    "    os.mkdir(f'{data_dir}')\n",
    "    \n",
    "if not os.path.isdir(state_dir):\n",
    "    print(f'{state_dir} does not exist. Creating the directory.')\n",
    "    os.mkdir(f'{state_dir}')"
   ]
  },
  {
   "cell_type": "code",
   "execution_count": 25,
   "metadata": {},
   "outputs": [
    {
     "name": "stdout",
     "output_type": "stream",
     "text": [
      "overwriting existing ideal dm\n"
     ]
    }
   ],
   "source": [
    "ideal_dm_np = DensityMatrix(circ).data\n",
    "ideal_dm_path = f'{state_dir}/{n_qubits}_{(3**n_qubits)*n_shots}_ideal_dm.npy'\n",
    "if os.path.exists(ideal_dm_path):\n",
    "    if overwrite:\n",
    "        print('overwriting existing ideal dm')\n",
    "        np.save(ideal_dm_path, ideal_dm_np)\n",
    "else:\n",
    "    print('saving new ideal dm')\n",
    "    np.save(ideal_dm_path, ideal_dm_np)"
   ]
  },
  {
   "cell_type": "code",
   "execution_count": 26,
   "metadata": {},
   "outputs": [
    {
     "name": "stdout",
     "output_type": "stream",
     "text": [
      "     ┌───┐      ░ ┌────────────┐ ░ ┌─┐      \n",
      "q_0: ┤ H ├──────░─┤ PauliMeasZ ├─░─┤M├──────\n",
      "     ├───┤      ░ ├────────────┤ ░ └╥┘┌─┐   \n",
      "q_1: ┤ H ├──■───░─┤ PauliMeasZ ├─░──╫─┤M├───\n",
      "     └───┘┌─┴─┐ ░ ├────────────┤ ░  ║ └╥┘┌─┐\n",
      "q_2: ─────┤ X ├─░─┤ PauliMeasZ ├─░──╫──╫─┤M├\n",
      "          └───┘ ░ └────────────┘ ░  ║  ║ └╥┘\n",
      "c_0: ═══════════════════════════════╩══╬══╬═\n",
      "                                       ║  ║ \n",
      "c_1: ══════════════════════════════════╩══╬═\n",
      "                                          ║ \n",
      "c_2: ═════════════════════════════════════╩═\n",
      "                                            \n",
      "Linear inversion : took 0.0 minutes 6.642184495925903 seconds\n"
     ]
    }
   ],
   "source": [
    "t1 = time.time()\n",
    "\n",
    "# No. of tomography circuits to draw\n",
    "n_draw = 1\n",
    "\n",
    "# POVM to use\n",
    "povm = 'pauli6'\n",
    "\n",
    "# Initalize the tomography circuits\n",
    "qst_exp = StateTomography(circ)\n",
    "\n",
    "# Use standard linear inversion fitter\n",
    "qst_exp.analysis.set_options(fitter='linear_inversion')\n",
    "\n",
    "qst_data = qst_exp.run(sim_backend, seed_simulation=100, \n",
    "                       shots=n_shots).block_for_results()\n",
    "\n",
    "# Draw the tomogrpahy circuits\n",
    "for circuit in qst_exp.circuits()[:n_draw]:\n",
    "    print(circuit.draw())\n",
    "    \n",
    "t = divmod(time.time() - t1, 60)\n",
    "print(f'Linear inversion : took {t[0]} minutes {t[1]} seconds')"
   ]
  },
  {
   "cell_type": "code",
   "execution_count": 27,
   "metadata": {},
   "outputs": [
    {
     "name": "stdout",
     "output_type": "stream",
     "text": [
      "overwriting existing linear dm\n"
     ]
    }
   ],
   "source": [
    "# Save the linear inversion dm to the disk\n",
    "overwrite_linear = True\n",
    "linear_dm_np = qst_data.analysis_results(\"state\").value.data\n",
    "linear_dm_path = f'{state_dir}/{n_qubits}_{(3**n_qubits)*n_shots}_linear_dm.npy'\n",
    "\n",
    "if os.path.exists(linear_dm_path):\n",
    "    if overwrite_linear:\n",
    "        print('overwriting existing linear dm')\n",
    "        np.save(linear_dm_path, linear_dm_np)\n",
    "else:\n",
    "    print('saving new linear dm')\n",
    "    np.save(linear_dm_path, linear_dm_np)"
   ]
  },
  {
   "cell_type": "markdown",
   "metadata": {},
   "source": [
    "Save the POVM measurment data to the disk"
   ]
  },
  {
   "cell_type": "code",
   "execution_count": 28,
   "metadata": {},
   "outputs": [],
   "source": [
    "# Get the results from the experiments\n",
    "counts_dict = {}\n",
    "header_dict = {}\n",
    "\n",
    "idx = 0\n",
    "for job_id in qst_data.job_ids:\n",
    "    result = sim_backend.retrieve_job(job_id).result()\n",
    "    counts, exp_results = result.get_counts(), result.results\n",
    "    \n",
    "    for count, exp_result in zip(counts, exp_results):\n",
    "        counts_dict[idx] = count\n",
    "        header_dict[idx] = exp_result.header.name.split('_')[1][1:-1].split(', ')\n",
    "        idx+= 1"
   ]
  },
  {
   "cell_type": "code",
   "execution_count": 29,
   "metadata": {},
   "outputs": [
    {
     "name": "stdout",
     "output_type": "stream",
     "text": [
      "     ┌───┐      ░ ┌────────────┐ ░ ┌─┐      \n",
      "q_0: ┤ H ├──────░─┤ PauliMeasZ ├─░─┤M├──────\n",
      "     ├───┤      ░ ├────────────┤ ░ └╥┘┌─┐   \n",
      "q_1: ┤ H ├──■───░─┤ PauliMeasZ ├─░──╫─┤M├───\n",
      "     └───┘┌─┴─┐ ░ ├────────────┤ ░  ║ └╥┘┌─┐\n",
      "q_2: ─────┤ X ├─░─┤ PauliMeasZ ├─░──╫──╫─┤M├\n",
      "          └───┘ ░ └────────────┘ ░  ║  ║ └╥┘\n",
      "c_0: ═══════════════════════════════╩══╬══╬═\n",
      "                                       ║  ║ \n",
      "c_1: ══════════════════════════════════╩══╬═\n",
      "                                          ║ \n",
      "c_2: ═════════════════════════════════════╩═\n",
      "                                            \n",
      "{'000': 23, '001': 33, '110': 23, '111': 21} ['0', '0', '0']\n",
      "     ┌───┐      ░ ┌────────────┐ ░ ┌─┐      \n",
      "q_0: ┤ H ├──────░─┤ PauliMeasZ ├─░─┤M├──────\n",
      "     ├───┤      ░ ├────────────┤ ░ └╥┘┌─┐   \n",
      "q_1: ┤ H ├──■───░─┤ PauliMeasZ ├─░──╫─┤M├───\n",
      "     └───┘┌─┴─┐ ░ ├────────────┤ ░  ║ └╥┘┌─┐\n",
      "q_2: ─────┤ X ├─░─┤ PauliMeasX ├─░──╫──╫─┤M├\n",
      "          └───┘ ░ └────────────┘ ░  ║  ║ └╥┘\n",
      "c_0: ═══════════════════════════════╩══╬══╬═\n",
      "                                       ║  ║ \n",
      "c_1: ══════════════════════════════════╩══╬═\n",
      "                                          ║ \n",
      "c_2: ═════════════════════════════════════╩═\n",
      "                                            \n",
      "{'000': 13, '001': 13, '010': 12, '011': 10, '100': 15, '101': 7, '110': 17, '111': 13} ['0', '0', '1']\n",
      "     ┌───┐      ░ ┌────────────┐ ░ ┌─┐      \n",
      "q_0: ┤ H ├──────░─┤ PauliMeasZ ├─░─┤M├──────\n",
      "     ├───┤      ░ ├────────────┤ ░ └╥┘┌─┐   \n",
      "q_1: ┤ H ├──■───░─┤ PauliMeasZ ├─░──╫─┤M├───\n",
      "     └───┘┌─┴─┐ ░ ├────────────┤ ░  ║ └╥┘┌─┐\n",
      "q_2: ─────┤ X ├─░─┤ PauliMeasY ├─░──╫──╫─┤M├\n",
      "          └───┘ ░ └────────────┘ ░  ║  ║ └╥┘\n",
      "c_0: ═══════════════════════════════╩══╬══╬═\n",
      "                                       ║  ║ \n",
      "c_1: ══════════════════════════════════╩══╬═\n",
      "                                          ║ \n",
      "c_2: ═════════════════════════════════════╩═\n",
      "                                            \n",
      "{'000': 16, '001': 21, '010': 9, '011': 7, '100': 16, '101': 9, '110': 7, '111': 15} ['0', '0', '2']\n"
     ]
    }
   ],
   "source": [
    "circuits = qst_exp.circuits()\n",
    "for i in range(3):\n",
    "    print(circuits[i].draw())\n",
    "    print(counts_dict[i], header_dict[i])"
   ]
  },
  {
   "cell_type": "markdown",
   "metadata": {},
   "source": [
    "Map the outcomes of the QST experiments into sequences that can be used to train the Transformer model"
   ]
  },
  {
   "cell_type": "code",
   "execution_count": 14,
   "metadata": {},
   "outputs": [
    {
     "name": "stdout",
     "output_type": "stream",
     "text": [
      "No. of measurements in the dataset 2700\n"
     ]
    }
   ],
   "source": [
    "# No. of measurement sets for Pauli-6 POVM\n",
    "n_sets = 3**n_qubits\n",
    "\n",
    "data = np.zeros((n_sets*n_shots, n_qubits), dtype=int)\n",
    "idx = 0\n",
    "\n",
    "for n_set in range(n_sets):\n",
    "    # Raw measurement counts for 1 experiment e.g. {'0...0':X, '1...1':Y}\n",
    "    meas_dict = counts_dict[n_set]\n",
    "    \n",
    "    # Measurement setup e.g. ['0', ..., '0'] -> [Z, ..., Z]\n",
    "    meas_setting = header_dict[n_set]\n",
    "    # Try the different method - meas_setting.reverse()\n",
    "    \n",
    "    for bitstring, count in meas_dict.items():\n",
    "        # Map the projective outcomes to POVM outcomes\n",
    "        # e.g. given setting [1...], map outcome [0..] to [2..] and [1..] to [3..]\n",
    "        # outcome = [2*int(meas_setting[i]) + int(bitstring[i]) for i in range(n_qubits)]\n",
    "        # Try the different mapping from the get_data notebook - totally works - reconstruction is good again\n",
    "        outcome = [3*int(bitstring[(n_qubits-1)-i]) + int(meas_setting[i]) for i in range(n_qubits)]\n",
    "        data[idx:idx+count] = np.array(outcome)\n",
    "        idx += count\n",
    "\n",
    "print('No. of measurements in the dataset', len(data))"
   ]
  },
  {
   "cell_type": "markdown",
   "metadata": {},
   "source": [
    "Save the generated dataset to disk"
   ]
  },
  {
   "cell_type": "code",
   "execution_count": 15,
   "metadata": {},
   "outputs": [
    {
     "name": "stdout",
     "output_type": "stream",
     "text": [
      "overwriting existing dataset\n"
     ]
    }
   ],
   "source": [
    "# save options\n",
    "overwrite_data = True\n",
    "if os.path.exists(f'{state_dir}/{n_qubits}_{len(data)}.npy'):\n",
    "    if overwrite_data:\n",
    "        print('overwriting existing dataset')\n",
    "        np.save(f'{state_dir}/{n_qubits}_{len(data)}.npy', data)\n",
    "else:\n",
    "    print('creating new dataset')\n",
    "    np.save(f'{state_dir}/{n_qubits}_{len(data)}.npy', data)"
   ]
  },
  {
   "cell_type": "markdown",
   "metadata": {},
   "source": [
    "Run standard MLE"
   ]
  },
  {
   "cell_type": "code",
   "execution_count": 16,
   "metadata": {},
   "outputs": [
    {
     "name": "stdout",
     "output_type": "stream",
     "text": [
      "Linear MLE : took 1.0 minutes 7.71126651763916 seconds\n"
     ]
    }
   ],
   "source": [
    "t1 = time.time()\n",
    "try:\n",
    "    import cvxpy\n",
    "\n",
    "    # Set analysis option for cvxpy fitter\n",
    "    qst_exp.analysis.set_options(fitter='cvxpy_linear_lstsq')\n",
    "    \n",
    "    # Re-run experiment\n",
    "    qst_data_2 = qst_exp.run(sim_backend, seed_simulation=100).block_for_results()\n",
    "except ModuleNotFoundError:\n",
    "    print(\"CVXPY is not installed\")\n",
    "t = divmod(time.time() - t1, 60)\n",
    "print(f'Linear MLE : took {t[0]} minutes {t[1]} seconds')\n",
    "\n"
   ]
  },
  {
   "cell_type": "code",
   "execution_count": 17,
   "metadata": {},
   "outputs": [
    {
     "name": "stdout",
     "output_type": "stream",
     "text": [
      "overwriting existing mle dm\n"
     ]
    }
   ],
   "source": [
    "# Save the constrained MLE dm to the disk\n",
    "overwrite_mle = True\n",
    "mle_dm_np = qst_data_2.analysis_results(\"state\").value.data\n",
    "mle_dm_path = f'{state_dir}/{n_qubits}_{(3**n_qubits)*n_shots}_linear_mle_dm.npy'\n",
    "\n",
    "if os.path.exists(mle_dm_path):\n",
    "    if overwrite_mle:\n",
    "        print('overwriting existing mle dm')\n",
    "        np.save(mle_dm_path, mle_dm_np)\n",
    "else:\n",
    "    print('saving new mle dm')\n",
    "    np.save(mle_dm_path, mle_dm_np)"
   ]
  },
  {
   "cell_type": "markdown",
   "metadata": {},
   "source": [
    "Run Gaussian MLE"
   ]
  },
  {
   "cell_type": "code",
   "execution_count": 18,
   "metadata": {},
   "outputs": [
    {
     "name": "stdout",
     "output_type": "stream",
     "text": [
      "Gaussian MLE : took 0.0 minutes 6.17926287651062 seconds\n"
     ]
    }
   ],
   "source": [
    "t1 = time.time()\n",
    "try:\n",
    "    import cvxpy\n",
    "\n",
    "    # Set analysis option for cvxpy fitter\n",
    "    qst_exp.analysis.set_options(fitter='cvxpy_gaussian_lstsq')\n",
    "    \n",
    "    # Re-run experiment\n",
    "    qst_data_3 = qst_exp.run(sim_backend, seed_simulation=100).block_for_results()\n",
    "except ModuleNotFoundError:\n",
    "    print(\"CVXPY is not installed\")\n",
    "t = divmod(time.time() - t1, 60)\n",
    "print(f'Gaussian MLE : took {t[0]} minutes {t[1]} seconds')"
   ]
  },
  {
   "cell_type": "code",
   "execution_count": 19,
   "metadata": {},
   "outputs": [
    {
     "name": "stdout",
     "output_type": "stream",
     "text": [
      "overwriting existing mle dm\n"
     ]
    }
   ],
   "source": [
    "# Save the constrained MLE dm to the disk\n",
    "overwrite_mle = True\n",
    "mle_dm_np = qst_data_3.analysis_results(\"state\").value.data\n",
    "mle_dm_path = f'{state_dir}/{n_qubits}_{(3**n_qubits)*n_shots}_gaussian_mle_dm.npy'\n",
    "\n",
    "if os.path.exists(mle_dm_path):\n",
    "    if overwrite_mle:\n",
    "        print('overwriting existing mle dm')\n",
    "        np.save(mle_dm_path, mle_dm_np)\n",
    "else:\n",
    "    print('saving new mle dm')\n",
    "    np.save(mle_dm_path, mle_dm_np)"
   ]
  }
 ],
 "metadata": {
  "kernelspec": {
   "display_name": "Python 3.8.13 ('qsar')",
   "language": "python",
   "name": "python3"
  },
  "language_info": {
   "codemirror_mode": {
    "name": "ipython",
    "version": 3
   },
   "file_extension": ".py",
   "mimetype": "text/x-python",
   "name": "python",
   "nbconvert_exporter": "python",
   "pygments_lexer": "ipython3",
   "version": "3.8.13"
  },
  "orig_nbformat": 4,
  "vscode": {
   "interpreter": {
    "hash": "7dd5b4facb55a7ee9dc192750a18a69a765275ec5ae75bed654023c88176ceb4"
   }
  }
 },
 "nbformat": 4,
 "nbformat_minor": 2
}
