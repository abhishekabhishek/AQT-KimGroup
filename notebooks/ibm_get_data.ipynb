{
 "cells": [
  {
   "cell_type": "code",
   "execution_count": 1,
   "metadata": {},
   "outputs": [
    {
     "name": "stdout",
     "output_type": "stream",
     "text": [
      "/home/abhishekabhishek/git/AQT-KimGroup\n"
     ]
    }
   ],
   "source": [
    "cd .."
   ]
  },
  {
   "cell_type": "markdown",
   "metadata": {},
   "source": [
    "This notebook can be used to run different quantum circuits (e.g. GHZ, W) on IBMQ simulators or hardware, and construct a dataset of POVM measurements which can be used to perform quantum state tomography using attention-based models."
   ]
  },
  {
   "cell_type": "code",
   "execution_count": 2,
   "metadata": {},
   "outputs": [],
   "source": [
    "from qiskit import IBMQ, QuantumCircuit\n",
    "import numpy as np\n",
    "import os\n",
    "\n",
    "from circuits import state_prep\n",
    "\n",
    "%matplotlib inline"
   ]
  },
  {
   "cell_type": "markdown",
   "metadata": {},
   "source": [
    "Setup access to IBM"
   ]
  },
  {
   "cell_type": "code",
   "execution_count": 3,
   "metadata": {},
   "outputs": [
    {
     "name": "stdout",
     "output_type": "stream",
     "text": [
      "ibmq_qasm_simulator 32 4\n",
      "ibmq_lima 5 152\n",
      "ibmq_belem 5 11\n",
      "ibmq_quito 5 1\n",
      "simulator_statevector 32 4\n",
      "simulator_mps 100 4\n",
      "simulator_extended_stabilizer 63 4\n",
      "simulator_stabilizer 5000 4\n",
      "ibmq_manila 5 26\n",
      "ibm_nairobi 7 33\n",
      "ibm_oslo 7 28\n"
     ]
    }
   ],
   "source": [
    "# Setup account\n",
    "IBMQ.load_account()\n",
    "provider = IBMQ.get_provider(hub='ibm-q')\n",
    "\n",
    "# Find available devices\n",
    "devices = provider.backends(operational=True)\n",
    "for x in devices:\n",
    "    print(x.name(), x.configuration().n_qubits, x.status().pending_jobs)"
   ]
  },
  {
   "cell_type": "code",
   "execution_count": 4,
   "metadata": {},
   "outputs": [],
   "source": [
    "# Use one of the backends above\n",
    "sim_backend = provider.backend.ibmq_qasm_simulator"
   ]
  },
  {
   "cell_type": "markdown",
   "metadata": {},
   "source": [
    "Use the qiskit_experiments library to collect the tomography data"
   ]
  },
  {
   "cell_type": "code",
   "execution_count": 5,
   "metadata": {},
   "outputs": [],
   "source": [
    "from qiskit_experiments.library import StateTomography"
   ]
  },
  {
   "cell_type": "code",
   "execution_count": 6,
   "metadata": {},
   "outputs": [],
   "source": [
    "# System setup\n",
    "n_qubits = 4\n",
    "n_shots = 100\n",
    "\n",
    "# Initialize the circuit\n",
    "circ = QuantumCircuit(n_qubits)\n",
    "\n",
    "# Choose which type of state to prepare\n",
    "# One of ghz, w, bisep, random\n",
    "state = 'w'"
   ]
  },
  {
   "cell_type": "code",
   "execution_count": 7,
   "metadata": {},
   "outputs": [
    {
     "data": {
      "text/html": [
       "<pre style=\"word-wrap: normal;white-space: pre;background: #fff0;line-height: 1.1;font-family: &quot;Courier New&quot;,Courier,monospace\">     ┌───┐┌─────┐       ┌───┐┌───┐┌───┐\n",
       "q_0: ┤ X ├┤0    ├───────┤ X ├┤ X ├┤ X ├\n",
       "     └───┘│  CF │┌─────┐└─┬─┘└─┬─┘└─┬─┘\n",
       "q_1: ─────┤1    ├┤0    ├──■────┼────┼──\n",
       "          └─────┘│     │       │    │  \n",
       "q_2: ────────────┤1 w3 ├───────■────┼──\n",
       "                 │     │            │  \n",
       "q_3: ────────────┤2    ├────────────■──\n",
       "                 └─────┘               </pre>"
      ],
      "text/plain": [
       "     ┌───┐┌─────┐       ┌───┐┌───┐┌───┐\n",
       "q_0: ┤ X ├┤0    ├───────┤ X ├┤ X ├┤ X ├\n",
       "     └───┘│  CF │┌─────┐└─┬─┘└─┬─┘└─┬─┘\n",
       "q_1: ─────┤1    ├┤0    ├──■────┼────┼──\n",
       "          └─────┘│     │       │    │  \n",
       "q_2: ────────────┤1 w3 ├───────■────┼──\n",
       "                 │     │            │  \n",
       "q_3: ────────────┤2    ├────────────■──\n",
       "                 └─────┘               "
      ]
     },
     "execution_count": 7,
     "metadata": {},
     "output_type": "execute_result"
    }
   ],
   "source": [
    "if state == 'ghz':\n",
    "    circ.h(0)\n",
    "    for idx in range(n_qubits-1):\n",
    "        circ.cx(idx, idx+1)\n",
    "elif state == 'w':\n",
    "    if n_qubits == 3:\n",
    "        circ.ry(1.9106332362490184, 0)\n",
    "        circ.cu((np.pi/2), (np.pi/2), (np.pi/2), (np.pi/2), 0, 1)\n",
    "        circ.cx(1, 2)\n",
    "        circ.cx(0, 1)\n",
    "        circ.x(0)\n",
    "    else:\n",
    "        circ = state_prep.create_w_state(n_qubits)\n",
    "elif state == 'bisep':\n",
    "    raise NotImplementedError\n",
    "elif state == 'random':\n",
    "    for idx in range(n_qubits):\n",
    "        circ.h(idx)\n",
    "        \n",
    "# Draw the circuit\n",
    "circ.draw() "
   ]
  },
  {
   "cell_type": "code",
   "execution_count": 8,
   "metadata": {},
   "outputs": [
    {
     "name": "stdout",
     "output_type": "stream",
     "text": [
      "     ┌───┐┌─────┐       ┌───┐┌───┐┌───┐ ░ ┌────────────┐ ░ ┌─┐         \n",
      "q_0: ┤ X ├┤0    ├───────┤ X ├┤ X ├┤ X ├─░─┤ PauliMeasZ ├─░─┤M├─────────\n",
      "     └───┘│  CF │┌─────┐└─┬─┘└─┬─┘└─┬─┘ ░ ├────────────┤ ░ └╥┘┌─┐      \n",
      "q_1: ─────┤1    ├┤0    ├──■────┼────┼───░─┤ PauliMeasZ ├─░──╫─┤M├──────\n",
      "          └─────┘│     │       │    │   ░ ├────────────┤ ░  ║ └╥┘┌─┐   \n",
      "q_2: ────────────┤1 w3 ├───────■────┼───░─┤ PauliMeasZ ├─░──╫──╫─┤M├───\n",
      "                 │     │            │   ░ ├────────────┤ ░  ║  ║ └╥┘┌─┐\n",
      "q_3: ────────────┤2    ├────────────■───░─┤ PauliMeasZ ├─░──╫──╫──╫─┤M├\n",
      "                 └─────┘                ░ └────────────┘ ░  ║  ║  ║ └╥┘\n",
      "c_0: ═══════════════════════════════════════════════════════╩══╬══╬══╬═\n",
      "                                                               ║  ║  ║ \n",
      "c_1: ══════════════════════════════════════════════════════════╩══╬══╬═\n",
      "                                                                  ║  ║ \n",
      "c_2: ═════════════════════════════════════════════════════════════╩══╬═\n",
      "                                                                     ║ \n",
      "c_3: ════════════════════════════════════════════════════════════════╩═\n",
      "                                                                       \n",
      "     ┌───┐┌─────┐       ┌───┐┌───┐┌───┐ ░ ┌────────────┐ ░ ┌─┐         \n",
      "q_0: ┤ X ├┤0    ├───────┤ X ├┤ X ├┤ X ├─░─┤ PauliMeasZ ├─░─┤M├─────────\n",
      "     └───┘│  CF │┌─────┐└─┬─┘└─┬─┘└─┬─┘ ░ ├────────────┤ ░ └╥┘┌─┐      \n",
      "q_1: ─────┤1    ├┤0    ├──■────┼────┼───░─┤ PauliMeasZ ├─░──╫─┤M├──────\n",
      "          └─────┘│     │       │    │   ░ ├────────────┤ ░  ║ └╥┘┌─┐   \n",
      "q_2: ────────────┤1 w3 ├───────■────┼───░─┤ PauliMeasZ ├─░──╫──╫─┤M├───\n",
      "                 │     │            │   ░ ├────────────┤ ░  ║  ║ └╥┘┌─┐\n",
      "q_3: ────────────┤2    ├────────────■───░─┤ PauliMeasX ├─░──╫──╫──╫─┤M├\n",
      "                 └─────┘                ░ └────────────┘ ░  ║  ║  ║ └╥┘\n",
      "c_0: ═══════════════════════════════════════════════════════╩══╬══╬══╬═\n",
      "                                                               ║  ║  ║ \n",
      "c_1: ══════════════════════════════════════════════════════════╩══╬══╬═\n",
      "                                                                  ║  ║ \n",
      "c_2: ═════════════════════════════════════════════════════════════╩══╬═\n",
      "                                                                     ║ \n",
      "c_3: ════════════════════════════════════════════════════════════════╩═\n",
      "                                                                       \n",
      "     ┌───┐┌─────┐       ┌───┐┌───┐┌───┐ ░ ┌────────────┐ ░ ┌─┐         \n",
      "q_0: ┤ X ├┤0    ├───────┤ X ├┤ X ├┤ X ├─░─┤ PauliMeasZ ├─░─┤M├─────────\n",
      "     └───┘│  CF │┌─────┐└─┬─┘└─┬─┘└─┬─┘ ░ ├────────────┤ ░ └╥┘┌─┐      \n",
      "q_1: ─────┤1    ├┤0    ├──■────┼────┼───░─┤ PauliMeasZ ├─░──╫─┤M├──────\n",
      "          └─────┘│     │       │    │   ░ ├────────────┤ ░  ║ └╥┘┌─┐   \n",
      "q_2: ────────────┤1 w3 ├───────■────┼───░─┤ PauliMeasZ ├─░──╫──╫─┤M├───\n",
      "                 │     │            │   ░ ├────────────┤ ░  ║  ║ └╥┘┌─┐\n",
      "q_3: ────────────┤2    ├────────────■───░─┤ PauliMeasY ├─░──╫──╫──╫─┤M├\n",
      "                 └─────┘                ░ └────────────┘ ░  ║  ║  ║ └╥┘\n",
      "c_0: ═══════════════════════════════════════════════════════╩══╬══╬══╬═\n",
      "                                                               ║  ║  ║ \n",
      "c_1: ══════════════════════════════════════════════════════════╩══╬══╬═\n",
      "                                                                  ║  ║ \n",
      "c_2: ═════════════════════════════════════════════════════════════╩══╬═\n",
      "                                                                     ║ \n",
      "c_3: ════════════════════════════════════════════════════════════════╩═\n",
      "                                                                       \n"
     ]
    }
   ],
   "source": [
    "# No. of tomography circuits to draw\n",
    "n_draw = 3\n",
    "\n",
    "# POVM to use\n",
    "povm = 'pauli6'\n",
    "\n",
    "# Initalize the tomography circuits\n",
    "qst_exp = StateTomography(circ)\n",
    "qst_data = qst_exp.run(sim_backend, seed_simulation=100, \n",
    "                       shots=n_shots).block_for_results()\n",
    "\n",
    "# Draw the tomogrpahy circuits\n",
    "for circuit in qst_exp.circuits()[:n_draw]:\n",
    "    print(circuit.draw())"
   ]
  },
  {
   "cell_type": "code",
   "execution_count": 9,
   "metadata": {},
   "outputs": [],
   "source": [
    "# Get the results from the experiments\n",
    "counts_dict = {}\n",
    "header_dict = {}\n",
    "\n",
    "idx = 0\n",
    "for job_id in qst_data.job_ids:\n",
    "    result = sim_backend.retrieve_job(job_id).result()\n",
    "    counts, exp_results = result.get_counts(), result.results\n",
    "    \n",
    "    for count, exp_result in zip(counts, exp_results):\n",
    "        counts_dict[idx] = count\n",
    "        header_dict[idx] = exp_result.header.name.split('_')[1][1:-1].split(', ')\n",
    "        idx+= 1"
   ]
  },
  {
   "cell_type": "code",
   "execution_count": 10,
   "metadata": {},
   "outputs": [
    {
     "data": {
      "text/plain": [
       "({'0001': 31, '0010': 29, '0100': 22, '1000': 18}, ['0', '0', '0', '0'])"
      ]
     },
     "execution_count": 10,
     "metadata": {},
     "output_type": "execute_result"
    }
   ],
   "source": [
    "counts_dict[0], header_dict[0]"
   ]
  },
  {
   "cell_type": "markdown",
   "metadata": {},
   "source": [
    "Map the outcomes of the QST experiments into sequences that can be used to train the Transformer model"
   ]
  },
  {
   "cell_type": "code",
   "execution_count": 11,
   "metadata": {},
   "outputs": [
    {
     "name": "stdout",
     "output_type": "stream",
     "text": [
      "No. of measurements in the dataset 8100\n"
     ]
    }
   ],
   "source": [
    "# No. of measurement sets for Pauli-6 POVM\n",
    "n_sets = 3**n_qubits\n",
    "\n",
    "data = np.zeros((n_sets*n_shots, n_qubits), dtype=int)\n",
    "idx = 0\n",
    "\n",
    "for n_set in range(n_sets):\n",
    "    # Raw measurement counts for 1 experiment e.g. {'0...0':X, '1...1':Y}\n",
    "    meas_dict = counts_dict[n_set]\n",
    "    \n",
    "    # Measurement setup e.g. ['0', ..., '0'] -> [Z, ..., Z]\n",
    "    meas_setting = header_dict[n_set]\n",
    "    meas_setting.reverse()\n",
    "    \n",
    "    for bitstring, count in meas_dict.items():\n",
    "        # Map the projective outcomes to POVM outcomes\n",
    "        # e.g. given setting [1...], map outcome [0..] to [2..] and [1..] to [3..]\n",
    "        outcome = np.array([2*int(meas_setting[i]) + int(bitstring[i]) for i in range(n_qubits)])\n",
    "        data[idx:idx+count] = outcome\n",
    "        idx += count\n",
    "\n",
    "print('No. of measurements in the dataset', len(data))"
   ]
  },
  {
   "cell_type": "markdown",
   "metadata": {},
   "source": [
    "Save the generated dataset to disk"
   ]
  },
  {
   "cell_type": "code",
   "execution_count": 12,
   "metadata": {},
   "outputs": [
    {
     "name": "stdout",
     "output_type": "stream",
     "text": [
      "data/w_4 does not exist. Creating the directory.\n",
      "creating new dataset\n"
     ]
    }
   ],
   "source": [
    "# save options\n",
    "overwrite = False\n",
    "data_dir = 'data'\n",
    "state_dir = data_dir + f'/{state}_{n_qubits}'\n",
    "\n",
    "if not os.path.isdir(data_dir):\n",
    "    print(f'{data_dir} does not exist. Creating the directory.')\n",
    "    os.mkdir(f'{data_dir}')\n",
    "    \n",
    "if not os.path.isdir(state_dir):\n",
    "    print(f'{state_dir} does not exist. Creating the directory.')\n",
    "    os.mkdir(f'{state_dir}')\n",
    "    \n",
    "if os.path.exists(f'{state_dir}/{povm}_{len(data)}.npy'):\n",
    "    if overwrite:\n",
    "        print('overwriting existing dataset')\n",
    "        np.save(f'{state_dir}/{povm}_{len(data)}.npy', data)\n",
    "else:\n",
    "    print('creating new dataset')\n",
    "    np.save(f'{state_dir}/{povm}_{len(data)}.npy', data)"
   ]
  }
 ],
 "metadata": {
  "kernelspec": {
   "display_name": "Python 3.8.13 ('qsar')",
   "language": "python",
   "name": "python3"
  },
  "language_info": {
   "codemirror_mode": {
    "name": "ipython",
    "version": 3
   },
   "file_extension": ".py",
   "mimetype": "text/x-python",
   "name": "python",
   "nbconvert_exporter": "python",
   "pygments_lexer": "ipython3",
   "version": "3.8.13"
  },
  "orig_nbformat": 4,
  "vscode": {
   "interpreter": {
    "hash": "7dd5b4facb55a7ee9dc192750a18a69a765275ec5ae75bed654023c88176ceb4"
   }
  }
 },
 "nbformat": 4,
 "nbformat_minor": 2
}
