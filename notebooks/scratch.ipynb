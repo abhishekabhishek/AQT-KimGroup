{
 "cells": [
  {
   "cell_type": "code",
   "execution_count": null,
   "metadata": {},
   "outputs": [],
   "source": [
    "def myfunc(a, b, c=0):\n",
    "    \"Return a-b if a>b, otherwise return a+b\"\n",
    "    if a > b:\n",
    "        return np.array([a - b - c, a - b - c])\n",
    "    else:\n",
    "        return np.array([a + b + c, a - b - c])"
   ]
  },
  {
   "cell_type": "code",
   "execution_count": null,
   "metadata": {},
   "outputs": [],
   "source": [
    "def myfunc(a, b=2):\n",
    "    \"Return a-b if a>b, otherwise return a+b\"\n",
    "    return a*5 + b"
   ]
  },
  {
   "cell_type": "code",
   "execution_count": null,
   "metadata": {},
   "outputs": [
    {
     "data": {
      "text/plain": [
       "array([7., 7., 7., 7., 7.])"
      ]
     },
     "metadata": {},
     "output_type": "display_data"
    }
   ],
   "source": [
    "a = np.ones(5)\n",
    "myfunc(a)"
   ]
  },
  {
   "cell_type": "code",
   "execution_count": null,
   "metadata": {},
   "outputs": [
    {
     "ename": "ValueError",
     "evalue": "Invalid otype specification",
     "output_type": "error",
     "traceback": [
      "\u001b[0;31m---------------------------------------------------------------------------\u001b[0m\n",
      "\u001b[0;31mValueError\u001b[0m                                Traceback (most recent call last)\n",
      "Cell \u001b[0;32mIn [70], line 2\u001b[0m\n",
      "\u001b[1;32m      1\u001b[0m \u001b[39mimport\u001b[39;00m \u001b[39mnumpy\u001b[39;00m \u001b[39mas\u001b[39;00m \u001b[39mnp\u001b[39;00m\n",
      "\u001b[0;32m----> 2\u001b[0m vfunc \u001b[39m=\u001b[39m np\u001b[39m.\u001b[39;49mvectorize(myfunc, otypes\u001b[39m=\u001b[39;49mnp\u001b[39m.\u001b[39;49mndarray)\n",
      "\n",
      "File \u001b[0;32m~/anaconda3/envs/qsar/lib/python3.8/site-packages/numpy/lib/function_base.py:2287\u001b[0m, in \u001b[0;36mvectorize.__init__\u001b[0;34m(self, pyfunc, otypes, doc, excluded, cache, signature)\u001b[0m\n",
      "\u001b[1;32m   2285\u001b[0m     otypes \u001b[39m=\u001b[39m \u001b[39m'\u001b[39m\u001b[39m'\u001b[39m\u001b[39m.\u001b[39mjoin([_nx\u001b[39m.\u001b[39mdtype(x)\u001b[39m.\u001b[39mchar \u001b[39mfor\u001b[39;00m x \u001b[39min\u001b[39;00m otypes])\n",
      "\u001b[1;32m   2286\u001b[0m \u001b[39melif\u001b[39;00m otypes \u001b[39mis\u001b[39;00m \u001b[39mnot\u001b[39;00m \u001b[39mNone\u001b[39;00m:\n",
      "\u001b[0;32m-> 2287\u001b[0m     \u001b[39mraise\u001b[39;00m \u001b[39mValueError\u001b[39;00m(\u001b[39m\"\u001b[39m\u001b[39mInvalid otype specification\u001b[39m\u001b[39m\"\u001b[39m)\n",
      "\u001b[1;32m   2288\u001b[0m \u001b[39mself\u001b[39m\u001b[39m.\u001b[39motypes \u001b[39m=\u001b[39m otypes\n",
      "\u001b[1;32m   2290\u001b[0m \u001b[39m# Excluded variable support\u001b[39;00m\n",
      "\n",
      "\u001b[0;31mValueError\u001b[0m: Invalid otype specification"
     ]
    }
   ],
   "source": [
    "import numpy as np\n",
    "vfunc = np.vectorize(myfunc, otypes=[np.ndarray])"
   ]
  },
  {
   "cell_type": "code",
   "execution_count": null,
   "metadata": {},
   "outputs": [
    {
     "data": {
      "text/plain": [
       "array([array([ 5, -3]), array([ 6, -2]), array([-1, -1]), array([0, 0])],\n",
       "      dtype=object)"
      ]
     },
     "metadata": {},
     "output_type": "display_data"
    }
   ],
   "source": [
    "ret = vfunc([1, 2, 3, 4], 2, c=2)\n",
    "ret"
   ]
  },
  {
   "cell_type": "code",
   "execution_count": null,
   "metadata": {},
   "outputs": [],
   "source": [
    "seq = np.zeros((4, 2))\n",
    "for i in range(4):\n",
    "    seq[i] = ret[i]"
   ]
  },
  {
   "cell_type": "code",
   "execution_count": null,
   "metadata": {},
   "outputs": [
    {
     "data": {
      "text/plain": [
       "array([[ 5., -3.],\n",
       "       [ 6., -2.],\n",
       "       [-1., -1.],\n",
       "       [ 0.,  0.]])"
      ]
     },
     "metadata": {},
     "output_type": "display_data"
    }
   ],
   "source": [
    "seq"
   ]
  },
  {
   "cell_type": "code",
   "execution_count": null,
   "metadata": {},
   "outputs": [
    {
     "ename": "AxisError",
     "evalue": "axis 1 is out of bounds for array of dimension 1",
     "output_type": "error",
     "traceback": [
      "\u001b[0;31m---------------------------------------------------------------------------\u001b[0m\n",
      "\u001b[0;31mAxisError\u001b[0m                                 Traceback (most recent call last)\n",
      "Cell \u001b[0;32mIn [68], line 2\u001b[0m\n",
      "\u001b[1;32m      1\u001b[0m vfunc([\u001b[39m1\u001b[39m, \u001b[39m2\u001b[39m, \u001b[39m3\u001b[39m, \u001b[39m4\u001b[39m], \u001b[39m2\u001b[39m, c\u001b[39m=\u001b[39m\u001b[39m2\u001b[39m)\n",
      "\u001b[0;32m----> 2\u001b[0m np\u001b[39m.\u001b[39;49mconcatenate(vfunc([\u001b[39m1\u001b[39;49m, \u001b[39m2\u001b[39;49m, \u001b[39m3\u001b[39;49m, \u001b[39m4\u001b[39;49m], \u001b[39m2\u001b[39;49m, c\u001b[39m=\u001b[39;49m\u001b[39m2\u001b[39;49m), axis\u001b[39m=\u001b[39;49m\u001b[39m1\u001b[39;49m)\n",
      "\n",
      "File \u001b[0;32m<__array_function__ internals>:180\u001b[0m, in \u001b[0;36mconcatenate\u001b[0;34m(*args, **kwargs)\u001b[0m\n",
      "\n",
      "\u001b[0;31mAxisError\u001b[0m: axis 1 is out of bounds for array of dimension 1"
     ]
    }
   ],
   "source": [
    "vfunc([1, 2, 3, 4], 2, c=2)\n",
    "np.concatenate(vfunc([1, 2, 3, 4], 2, c=2), axis=1)"
   ]
  },
  {
   "cell_type": "code",
   "execution_count": null,
   "metadata": {},
   "outputs": [],
   "source": [
    "import torch"
   ]
  },
  {
   "cell_type": "code",
   "execution_count": null,
   "metadata": {},
   "outputs": [
    {
     "data": {
      "text/plain": [
       "tensor([1., 1., 1., 1.])"
      ]
     },
     "metadata": {},
     "output_type": "display_data"
    }
   ],
   "source": [
    "torch.ones(4)"
   ]
  },
  {
   "cell_type": "code",
   "execution_count": null,
   "metadata": {},
   "outputs": [
    {
     "data": {
      "text/plain": [
       "array([0, 1, 2, 3, 4, 5, 6, 7, 8, 9])"
      ]
     },
     "metadata": {},
     "output_type": "display_data"
    }
   ],
   "source": [
    "np.arange(10)"
   ]
  },
  {
   "cell_type": "code",
   "execution_count": null,
   "metadata": {},
   "outputs": [
    {
     "data": {
      "text/plain": [
       "array([1., 1., 1., 1., 1., 1., 1., 1., 1., 1.])"
      ]
     },
     "metadata": {},
     "output_type": "display_data"
    }
   ],
   "source": [
    "a = np.ones(10)\n",
    "a"
   ]
  },
  {
   "cell_type": "code",
   "execution_count": null,
   "metadata": {},
   "outputs": [
    {
     "data": {
      "text/plain": [
       "array([1., 1., 1.])"
      ]
     },
     "metadata": {},
     "output_type": "display_data"
    }
   ],
   "source": [
    "a[7:12]"
   ]
  },
  {
   "cell_type": "code",
   "execution_count": null,
   "metadata": {},
   "outputs": [],
   "source": [
    "Na, Nq = 6, 3"
   ]
  },
  {
   "cell_type": "code",
   "execution_count": null,
   "metadata": {},
   "outputs": [
    {
     "data": {
      "text/plain": [
       "216"
      ]
     },
     "metadata": {},
     "output_type": "display_data"
    }
   ],
   "source": [
    "Na**Nq"
   ]
  },
  {
   "cell_type": "code",
   "execution_count": null,
   "metadata": {},
   "outputs": [
    {
     "data": {
      "text/plain": [
       "0"
      ]
     },
     "metadata": {},
     "output_type": "display_data"
    }
   ],
   "source": [
    "4//5"
   ]
  },
  {
   "cell_type": "code",
   "execution_count": null,
   "metadata": {},
   "outputs": [
    {
     "data": {
      "text/plain": [
       "2"
      ]
     },
     "metadata": {},
     "output_type": "display_data"
    }
   ],
   "source": [
    "-(7 // -5)"
   ]
  },
  {
   "cell_type": "code",
   "execution_count": null,
   "metadata": {},
   "outputs": [],
   "source": [
    "import math"
   ]
  },
  {
   "cell_type": "code",
   "execution_count": null,
   "metadata": {},
   "outputs": [
    {
     "data": {
      "text/plain": [
       "2"
      ]
     },
     "metadata": {},
     "output_type": "display_data"
    }
   ],
   "source": [
    "math.ceil(7/5)"
   ]
  },
  {
   "cell_type": "code",
   "execution_count": null,
   "metadata": {},
   "outputs": [],
   "source": [
    "def int2basestr(n, base, l=0):\n",
    "    \"\"\"Convert int n into a b-nary list of size l e.g. returns [0, 1, 0] for\n",
    "    (2, 2, l=3)\n",
    "\n",
    "    Args:\n",
    "        n (int) : Integer to convert to a b-nary representation\n",
    "        b (int) : Base of the b-nary representation e.g. 2 -> {0, 1},\n",
    "                  3 -> {0, 1, 2}\n",
    "        l (int) : Length of the b-nary list, if precision is not enough, \n",
    "                  it overflows\n",
    "\n",
    "    Returns:\n",
    "        (list) : List of size l? i.e. the b-nary representation of n\n",
    "    \"\"\"\n",
    "    d = int(n % base)\n",
    "    if d == n:\n",
    "        return [0 for _ in range(l-1)] + [d]\n",
    "    else:\n",
    "        a = int2basestr(int((n-d)/base), base) + [d]\n",
    "        return [0 for _ in range(l-len(a))] + a\n",
    "\n",
    "def basestr2int(st, base):\n",
    "    return sum([st[i] * base**(len(st)-i-1) for i in range(len(st))])"
   ]
  },
  {
   "cell_type": "code",
   "execution_count": null,
   "metadata": {},
   "outputs": [],
   "source": [
    "Na, Nq = 4, 2\n",
    "outcomes, probs = np.arange(Na**Nq), np.ones(Na**Nq)"
   ]
  },
  {
   "cell_type": "code",
   "execution_count": null,
   "metadata": {},
   "outputs": [
    {
     "data": {
      "text/plain": [
       "array([ 0,  1,  2,  3,  4,  5,  6,  7,  8,  9, 10, 11, 12, 13, 14, 15])"
      ]
     },
     "metadata": {},
     "output_type": "display_data"
    }
   ],
   "source": [
    "outcomes"
   ]
  },
  {
   "cell_type": "code",
   "execution_count": null,
   "metadata": {},
   "outputs": [
    {
     "data": {
      "text/plain": [
       "array([list([0, 0]), list([0, 1]), list([0, 2]), list([0, 3]),\n",
       "       list([1, 0]), list([1, 1]), list([1, 2]), list([1, 3]),\n",
       "       list([2, 0]), list([2, 1]), list([2, 2]), list([2, 3]),\n",
       "       list([3, 0]), list([3, 1]), list([3, 2]), list([3, 3])],\n",
       "      dtype=object)"
      ]
     },
     "metadata": {},
     "output_type": "display_data"
    }
   ],
   "source": [
    "v_int2basestr = np.vectorize(int2basestr, otypes=[np.ndarray])\n",
    "batch_sequences = np.zeros((len(outcomes), Nq))\n",
    "ret = v_int2basestr(outcomes, Na, l=Nq)\n",
    "ret"
   ]
  },
  {
   "cell_type": "code",
   "execution_count": null,
   "metadata": {},
   "outputs": [],
   "source": [
    "for i in range(len(outcomes)):\n",
    "    batch_sequences[i] = ret[i]"
   ]
  },
  {
   "cell_type": "code",
   "execution_count": null,
   "metadata": {},
   "outputs": [
    {
     "data": {
      "text/plain": [
       "tensor([[0., 0.],\n",
       "        [0., 1.],\n",
       "        [0., 2.],\n",
       "        [0., 3.],\n",
       "        [1., 0.],\n",
       "        [1., 1.],\n",
       "        [1., 2.],\n",
       "        [1., 3.],\n",
       "        [2., 0.],\n",
       "        [2., 1.],\n",
       "        [2., 2.],\n",
       "        [2., 3.],\n",
       "        [3., 0.],\n",
       "        [3., 1.],\n",
       "        [3., 2.],\n",
       "        [3., 3.]], dtype=torch.float64)"
      ]
     },
     "metadata": {},
     "output_type": "display_data"
    }
   ],
   "source": [
    "torch.as_tensor(batch_sequences)"
   ]
  },
  {
   "cell_type": "code",
   "execution_count": null,
   "metadata": {},
   "outputs": [],
   "source": [
    "def GenPOVMProbTable(batch_size):\n",
    "    \"\"\"Build POVM probability table using the generator\n",
    "\n",
    "    Args:\n",
    "        gen (nn.Module) : Generative model under which to calculate the \n",
    "                          probabilities for all possible POVM outcomes\n",
    "    Returns:\n",
    "        (np.ndarray) : Shape (Na**Nq, 1) with prob. for each possible possible\n",
    "                       tensor product POVM outcome\n",
    "    \"\"\"\n",
    "    # No. of qubits and no. of POVM elements\n",
    "    Nq, Na = 3, 6\n",
    "    outcomes, probs = np.arange(Na**Nq), np.ones(Na**Nq)\n",
    "    n_batches = math.ceil(len(outcomes)/batch_size)\n",
    "\n",
    "    # Trying to vectorize int2basestr\n",
    "    v_int2basestr = np.vectorize(int2basestr, otypes=[np.ndarray])\n",
    "    batch_sequences = np.zeros((batch_size, Nq))\n",
    "\n",
    "    for i in range(n_batches):\n",
    "        if i == n_batches-1:\n",
    "            batch_outcomes = outcomes[i*batch_size:]\n",
    "        else:\n",
    "            batch_outcomes = outcomes[i*batch_size:(i+1)*batch_size]\n",
    "            \n",
    "        ret = v_int2basestr(batch_outcomes, Na, l=Nq)\n",
    "        print(ret)\n",
    "        for j in range(batch_size):\n",
    "            batch_sequences[j] = ret[j]\n",
    "            \n",
    "        if i == n_batches-1:\n",
    "            probs[i*batch_size:] = batch_sequences[:, 0]\n",
    "        else:\n",
    "            probs[i*batch_size:(i+1)*batch_size] = batch_sequences[:, 0]\n",
    "\n",
    "    # Vector of dimension (Na**Nq x 1) - main place that could be taking too\n",
    "    # Note that the samples are not being batched - batch_size = 1\n",
    "    return probs"
   ]
  },
  {
   "cell_type": "code",
   "execution_count": null,
   "metadata": {},
   "outputs": [
    {
     "name": "stdout",
     "output_type": "stream",
     "text": [
      "[list([0, 0, 0]) list([0, 0, 1]) list([0, 0, 2]) list([0, 0, 3])\n",
      " list([0, 0, 4]) list([0, 0, 5]) list([0, 1, 0]) list([0, 1, 1])\n",
      " list([0, 1, 2]) list([0, 1, 3])]\n",
      "[list([0, 1, 4]) list([0, 1, 5]) list([0, 2, 0]) list([0, 2, 1])\n",
      " list([0, 2, 2]) list([0, 2, 3]) list([0, 2, 4]) list([0, 2, 5])\n",
      " list([0, 3, 0]) list([0, 3, 1])]\n",
      "[list([0, 3, 2]) list([0, 3, 3]) list([0, 3, 4]) list([0, 3, 5])\n",
      " list([0, 4, 0]) list([0, 4, 1]) list([0, 4, 2]) list([0, 4, 3])\n",
      " list([0, 4, 4]) list([0, 4, 5])]\n",
      "[list([0, 5, 0]) list([0, 5, 1]) list([0, 5, 2]) list([0, 5, 3])\n",
      " list([0, 5, 4]) list([0, 5, 5]) list([1, 0, 0]) list([1, 0, 1])\n",
      " list([1, 0, 2]) list([1, 0, 3])]\n",
      "[list([1, 0, 4]) list([1, 0, 5]) list([1, 1, 0]) list([1, 1, 1])\n",
      " list([1, 1, 2]) list([1, 1, 3]) list([1, 1, 4]) list([1, 1, 5])\n",
      " list([1, 2, 0]) list([1, 2, 1])]\n",
      "[list([1, 2, 2]) list([1, 2, 3]) list([1, 2, 4]) list([1, 2, 5])\n",
      " list([1, 3, 0]) list([1, 3, 1]) list([1, 3, 2]) list([1, 3, 3])\n",
      " list([1, 3, 4]) list([1, 3, 5])]\n",
      "[list([1, 4, 0]) list([1, 4, 1]) list([1, 4, 2]) list([1, 4, 3])\n",
      " list([1, 4, 4]) list([1, 4, 5]) list([1, 5, 0]) list([1, 5, 1])\n",
      " list([1, 5, 2]) list([1, 5, 3])]\n",
      "[list([1, 5, 4]) list([1, 5, 5]) list([2, 0, 0]) list([2, 0, 1])\n",
      " list([2, 0, 2]) list([2, 0, 3]) list([2, 0, 4]) list([2, 0, 5])\n",
      " list([2, 1, 0]) list([2, 1, 1])]\n",
      "[list([2, 1, 2]) list([2, 1, 3]) list([2, 1, 4]) list([2, 1, 5])\n",
      " list([2, 2, 0]) list([2, 2, 1]) list([2, 2, 2]) list([2, 2, 3])\n",
      " list([2, 2, 4]) list([2, 2, 5])]\n",
      "[list([2, 3, 0]) list([2, 3, 1]) list([2, 3, 2]) list([2, 3, 3])\n",
      " list([2, 3, 4]) list([2, 3, 5]) list([2, 4, 0]) list([2, 4, 1])\n",
      " list([2, 4, 2]) list([2, 4, 3])]\n",
      "[list([2, 4, 4]) list([2, 4, 5]) list([2, 5, 0]) list([2, 5, 1])\n",
      " list([2, 5, 2]) list([2, 5, 3]) list([2, 5, 4]) list([2, 5, 5])\n",
      " list([3, 0, 0]) list([3, 0, 1])]\n",
      "[list([3, 0, 2]) list([3, 0, 3]) list([3, 0, 4]) list([3, 0, 5])\n",
      " list([3, 1, 0]) list([3, 1, 1]) list([3, 1, 2]) list([3, 1, 3])\n",
      " list([3, 1, 4]) list([3, 1, 5])]\n",
      "[list([3, 2, 0]) list([3, 2, 1]) list([3, 2, 2]) list([3, 2, 3])\n",
      " list([3, 2, 4]) list([3, 2, 5]) list([3, 3, 0]) list([3, 3, 1])\n",
      " list([3, 3, 2]) list([3, 3, 3])]\n",
      "[list([3, 3, 4]) list([3, 3, 5]) list([3, 4, 0]) list([3, 4, 1])\n",
      " list([3, 4, 2]) list([3, 4, 3]) list([3, 4, 4]) list([3, 4, 5])\n",
      " list([3, 5, 0]) list([3, 5, 1])]\n",
      "[list([3, 5, 2]) list([3, 5, 3]) list([3, 5, 4]) list([3, 5, 5])\n",
      " list([4, 0, 0]) list([4, 0, 1]) list([4, 0, 2]) list([4, 0, 3])\n",
      " list([4, 0, 4]) list([4, 0, 5])]\n",
      "[list([4, 1, 0]) list([4, 1, 1]) list([4, 1, 2]) list([4, 1, 3])\n",
      " list([4, 1, 4]) list([4, 1, 5]) list([4, 2, 0]) list([4, 2, 1])\n",
      " list([4, 2, 2]) list([4, 2, 3])]\n",
      "[list([4, 2, 4]) list([4, 2, 5]) list([4, 3, 0]) list([4, 3, 1])\n",
      " list([4, 3, 2]) list([4, 3, 3]) list([4, 3, 4]) list([4, 3, 5])\n",
      " list([4, 4, 0]) list([4, 4, 1])]\n",
      "[list([4, 4, 2]) list([4, 4, 3]) list([4, 4, 4]) list([4, 4, 5])\n",
      " list([4, 5, 0]) list([4, 5, 1]) list([4, 5, 2]) list([4, 5, 3])\n",
      " list([4, 5, 4]) list([4, 5, 5])]\n",
      "[list([5, 0, 0]) list([5, 0, 1]) list([5, 0, 2]) list([5, 0, 3])\n",
      " list([5, 0, 4]) list([5, 0, 5]) list([5, 1, 0]) list([5, 1, 1])\n",
      " list([5, 1, 2]) list([5, 1, 3])]\n",
      "[list([5, 1, 4]) list([5, 1, 5]) list([5, 2, 0]) list([5, 2, 1])\n",
      " list([5, 2, 2]) list([5, 2, 3]) list([5, 2, 4]) list([5, 2, 5])\n",
      " list([5, 3, 0]) list([5, 3, 1])]\n",
      "[list([5, 3, 2]) list([5, 3, 3]) list([5, 3, 4]) list([5, 3, 5])\n",
      " list([5, 4, 0]) list([5, 4, 1]) list([5, 4, 2]) list([5, 4, 3])\n",
      " list([5, 4, 4]) list([5, 4, 5])]\n",
      "[list([5, 5, 0]) list([5, 5, 1]) list([5, 5, 2]) list([5, 5, 3])\n",
      " list([5, 5, 4]) list([5, 5, 5])]\n"
     ]
    },
    {
     "ename": "IndexError",
     "evalue": "index 6 is out of bounds for axis 0 with size 6",
     "output_type": "error",
     "traceback": [
      "\u001b[0;31m---------------------------------------------------------------------------\u001b[0m\n",
      "\u001b[0;31mIndexError\u001b[0m                                Traceback (most recent call last)\n",
      "Cell \u001b[0;32mIn [97], line 1\u001b[0m\n",
      "\u001b[0;32m----> 1\u001b[0m GenPOVMProbTable(\u001b[39m10\u001b[39;49m)\n",
      "\n",
      "Cell \u001b[0;32mIn [96], line 29\u001b[0m, in \u001b[0;36mGenPOVMProbTable\u001b[0;34m(batch_size)\u001b[0m\n",
      "\u001b[1;32m     27\u001b[0m \u001b[39mprint\u001b[39m(ret)\n",
      "\u001b[1;32m     28\u001b[0m \u001b[39mfor\u001b[39;00m j \u001b[39min\u001b[39;00m \u001b[39mrange\u001b[39m(batch_size):\n",
      "\u001b[0;32m---> 29\u001b[0m     batch_sequences[j] \u001b[39m=\u001b[39m ret[j]\n",
      "\u001b[1;32m     31\u001b[0m \u001b[39mif\u001b[39;00m i \u001b[39m==\u001b[39m n_batches\u001b[39m-\u001b[39m\u001b[39m1\u001b[39m:\n",
      "\u001b[1;32m     32\u001b[0m     probs[i\u001b[39m*\u001b[39mbatch_size:] \u001b[39m=\u001b[39m batch_sequences[:, \u001b[39m0\u001b[39m]\n",
      "\n",
      "\u001b[0;31mIndexError\u001b[0m: index 6 is out of bounds for axis 0 with size 6"
     ]
    }
   ],
   "source": [
    "GenPOVMProbTable(10)"
   ]
  },
  {
   "cell_type": "code",
   "execution_count": null,
   "metadata": {},
   "outputs": [
    {
     "ename": "ValueError",
     "evalue": "could not broadcast input array from shape (3,) into shape (1,)",
     "output_type": "error",
     "traceback": [
      "\u001b[0;31m---------------------------------------------------------------------------\u001b[0m\n",
      "\u001b[0;31mValueError\u001b[0m                                Traceback (most recent call last)\n",
      "Cell \u001b[0;32mIn [98], line 2\u001b[0m\n",
      "\u001b[1;32m      1\u001b[0m a \u001b[39m=\u001b[39m np\u001b[39m.\u001b[39mones(\u001b[39m10\u001b[39m)\n",
      "\u001b[0;32m----> 2\u001b[0m a[\u001b[39m9\u001b[39m:\u001b[39m12\u001b[39m] \u001b[39m=\u001b[39m np\u001b[39m.\u001b[39mzeros(\u001b[39m3\u001b[39m)\n",
      "\n",
      "\u001b[0;31mValueError\u001b[0m: could not broadcast input array from shape (3,) into shape (1,)"
     ]
    }
   ],
   "source": [
    "a = np.ones(10)\n",
    "a[9:12] = np.zeros(3)"
   ]
  },
  {
   "cell_type": "code",
   "execution_count": null,
   "metadata": {},
   "outputs": [],
   "source": [
    "from torch.utils.data import DataLoader"
   ]
  },
  {
   "cell_type": "code",
   "execution_count": null,
   "metadata": {},
   "outputs": [],
   "source": [
    "def GenPOVMProbTable(batch_size):\n",
    "    \"\"\"Build POVM probability table using the generator\n",
    "\n",
    "    Args:\n",
    "        gen (nn.Module) : Generative model under which to calculate the \n",
    "                          probabilities for all possible POVM outcomes\n",
    "    Returns:\n",
    "        (np.ndarray) : Shape (Na**Nq, 1) with prob. for each possible possible\n",
    "                       tensor product POVM outcome\n",
    "    \"\"\"\n",
    "    # No. of qubits and no. of POVM elements\n",
    "    Nq, Na = 4, 4\n",
    "    outcomes, probs = np.arange(Na**Nq), np.ones(Na**Nq)\n",
    "    n_batches = math.ceil(len(outcomes)/batch_size)\n",
    "\n",
    "    # Trying to vectorize int2basestr\n",
    "    v_int2basestr = np.vectorize(int2basestr, otypes=[np.ndarray])\n",
    "    sequences = np.zeros((len(outcomes), Nq))\n",
    "    \n",
    "    # Construct sequences\n",
    "    ret = v_int2basestr(outcomes, Na, l=Nq)\n",
    "    for j in range(batch_size):\n",
    "        sequences[j] = ret[j]\n",
    "        \n",
    "    seq_data = DataLoader(sequences, batch_size=batch_size)\n",
    "\n",
    "    for i, seq_batch in enumerate(seq_data):\n",
    "        if i == n_batches-1:\n",
    "            probs[i*batch_size:] = (seq_batch[:, 3]).detach().cpu().numpy()\n",
    "        else:\n",
    "            probs[i*batch_size:(i+1)*batch_size] = (seq_batch[:, 3]).detach().cpu().numpy()\n",
    "\n",
    "    # Vector of dimension (Na**Nq x 1) - main place that could be taking too\n",
    "    # Note that the samples are not being batched - batch_size = 1\n",
    "    return probs"
   ]
  },
  {
   "cell_type": "code",
   "execution_count": null,
   "metadata": {},
   "outputs": [
    {
     "data": {
      "text/plain": [
       "tensor([[1., 0., 0., 0., 0., 0., 0., 2.],\n",
       "        [1., 0., 0., 0., 0., 0., 0., 2.],\n",
       "        [1., 0., 0., 0., 0., 0., 0., 2.],\n",
       "        [1., 0., 0., 0., 0., 0., 0., 2.]])"
      ]
     },
     "metadata": {},
     "output_type": "display_data"
    }
   ],
   "source": [
    "outcomes = torch.zeros(4, 6)\n",
    "outcomes = torch.nn.ConstantPad1d(1, 1)(outcomes)\n",
    "outcomes[:, -1] = outcomes[:, -1]*2.\n",
    "outcomes"
   ]
  },
  {
   "cell_type": "code",
   "execution_count": null,
   "metadata": {},
   "outputs": [],
   "source": [
    "torch.constant_pad_nd"
   ]
  },
  {
   "cell_type": "code",
   "execution_count": null,
   "metadata": {},
   "outputs": [
    {
     "data": {
      "text/plain": [
       "4"
      ]
     },
     "metadata": {},
     "output_type": "display_data"
    }
   ],
   "source": [
    "outcomes += 3\n",
    "outcomes.size(0)"
   ]
  },
  {
   "cell_type": "code",
   "execution_count": null,
   "metadata": {},
   "outputs": [
    {
     "ename": "RuntimeError",
     "evalue": "Tensors must have same number of dimensions: got 1 and 2",
     "output_type": "error",
     "traceback": [
      "\u001b[0;31m---------------------------------------------------------------------------\u001b[0m\n",
      "\u001b[0;31mRuntimeError\u001b[0m                              Traceback (most recent call last)\n",
      "Cell \u001b[0;32mIn [123], line 1\u001b[0m\n",
      "\u001b[0;32m----> 1\u001b[0m trg \u001b[39m=\u001b[39m torch\u001b[39m.\u001b[39;49mcat((start, outcomes, end), dim\u001b[39m=\u001b[39;49m\u001b[39m-\u001b[39;49m\u001b[39m1\u001b[39;49m)\n",
      "\u001b[1;32m      2\u001b[0m trg\n",
      "\n",
      "\u001b[0;31mRuntimeError\u001b[0m: Tensors must have same number of dimensions: got 1 and 2"
     ]
    }
   ],
   "source": [
    "trg = torch.cat((start, outcomes, end), dim=-1)\n",
    "trg"
   ]
  },
  {
   "cell_type": "code",
   "execution_count": null,
   "metadata": {},
   "outputs": [
    {
     "data": {
      "text/plain": [
       "tensor([1., 1., 1., 1.], device='cuda:0')"
      ]
     },
     "metadata": {},
     "output_type": "display_data"
    }
   ],
   "source": [
    "ones = torch.ones(4).to(torch.device('cuda:0'))\n",
    "ones"
   ]
  },
  {
   "cell_type": "code",
   "execution_count": null,
   "metadata": {},
   "outputs": [
    {
     "data": {
      "text/plain": [
       "tensor([1, 1, 1, 1], device='cuda:0', dtype=torch.int32)"
      ]
     },
     "metadata": {},
     "output_type": "display_data"
    }
   ],
   "source": [
    "ones = ones.int()\n",
    "ones"
   ]
  },
  {
   "cell_type": "code",
   "execution_count": null,
   "metadata": {},
   "outputs": [
    {
     "data": {
      "text/plain": [
       "True"
      ]
     },
     "metadata": {},
     "output_type": "display_data"
    }
   ],
   "source": [
    "torch.cuda.is_available()"
   ]
  }
 ],
 "metadata": {
  "kernelspec": {
   "display_name": "Python 3.8.13 ('qsar')",
   "language": "python",
   "name": "python3"
  },
  "language_info": {
   "name": "python",
   "version": "3.8.13"
  },
  "orig_nbformat": 4,
  "vscode": {
   "interpreter": {
    "hash": "7dd5b4facb55a7ee9dc192750a18a69a765275ec5ae75bed654023c88176ceb4"
   }
  }
 },
 "nbformat": 4,
 "nbformat_minor": 2
}
