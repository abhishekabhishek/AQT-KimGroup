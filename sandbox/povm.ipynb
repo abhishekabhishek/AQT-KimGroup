{
 "cells": [
  {
   "cell_type": "code",
   "execution_count": 1,
   "metadata": {},
   "outputs": [],
   "source": [
    "# Testing methods and functions in POVM.py\n",
    "import numpy as np"
   ]
  },
  {
   "cell_type": "code",
   "execution_count": 31,
   "metadata": {},
   "outputs": [
    {
     "name": "stdout",
     "output_type": "stream",
     "text": [
      "/home/abhishekabhishek/git/AQT-KimGroup\n"
     ]
    }
   ],
   "source": [
    "cd .."
   ]
  },
  {
   "cell_type": "code",
   "execution_count": 32,
   "metadata": {},
   "outputs": [],
   "source": [
    "import povm as P"
   ]
  },
  {
   "cell_type": "markdown",
   "metadata": {},
   "source": [
    "Exploring Pauli-6 and Pauli-4 POVMs"
   ]
  },
  {
   "cell_type": "code",
   "execution_count": 13,
   "metadata": {},
   "outputs": [],
   "source": [
    "Na = 6"
   ]
  },
  {
   "cell_type": "code",
   "execution_count": 14,
   "metadata": {},
   "outputs": [
    {
     "name": "stdout",
     "output_type": "stream",
     "text": [
      "[[1]\n",
      " [0]] (2, 1)\n"
     ]
    }
   ],
   "source": [
    "v0 = np.array([[1], [0]])\n",
    "print(v0, v0.shape)"
   ]
  },
  {
   "cell_type": "code",
   "execution_count": 15,
   "metadata": {},
   "outputs": [
    {
     "name": "stdout",
     "output_type": "stream",
     "text": [
      "[[1 0]\n",
      " [0 0]]\n"
     ]
    }
   ],
   "source": [
    "m00 = np.matmul(v0, np.conj(np.transpose(v0)))\n",
    "print(m00)"
   ]
  },
  {
   "cell_type": "code",
   "execution_count": 16,
   "metadata": {},
   "outputs": [],
   "source": [
    "V0 = np.array([[1], [0]])\n",
    "V1 = np.array([[0], [1]])\n",
    "Vp = (1./np.sqrt(2))*np.array([[1], [1]])\n",
    "Vm = (1./np.sqrt(2))*np.array([[1], [-1]])\n",
    "Vr = (1./np.sqrt(2))*np.array([[1], [1j]])\n",
    "Vl = (1./np.sqrt(2))*np.array([[1], [-1j]])\n",
    "\n",
    "M00 = np.matmul(V0, np.conj(np.transpose(V0)))\n",
    "M11 = np.matmul(V1, np.conj(np.transpose(V1)))\n",
    "Mpp = np.matmul(Vp, np.conj(np.transpose(Vp)))\n",
    "Mmm = np.matmul(Vm, np.conj(np.transpose(Vm)))\n",
    "Mrr = np.matmul(Vr, np.conj(np.transpose(Vr)))\n",
    "Mll = np.matmul(Vl, np.conj(np.transpose(Vl)))"
   ]
  },
  {
   "cell_type": "code",
   "execution_count": 17,
   "metadata": {},
   "outputs": [
    {
     "name": "stdout",
     "output_type": "stream",
     "text": [
      "[[1 0]\n",
      " [0 0]]\n",
      "[[0 0]\n",
      " [0 1]]\n",
      "[[0.5 0.5]\n",
      " [0.5 0.5]]\n",
      "[[ 0.5 -0.5]\n",
      " [-0.5  0.5]]\n",
      "[[0.5+0.j  0. -0.5j]\n",
      " [0. +0.5j 0.5+0.j ]]\n",
      "[[0.5+0.j  0. +0.5j]\n",
      " [0. -0.5j 0.5+0.j ]]\n"
     ]
    }
   ],
   "source": [
    "print(M00, M11, Mpp, Mmm, Mrr, Mll, sep='\\n')"
   ]
  },
  {
   "cell_type": "code",
   "execution_count": 19,
   "metadata": {},
   "outputs": [
    {
     "name": "stdout",
     "output_type": "stream",
     "text": [
      "[[[ 0.33333333+0.j          0.        +0.j        ]\n",
      "  [ 0.        +0.j          0.        +0.j        ]]\n",
      "\n",
      " [[ 0.16666667+0.j          0.16666667+0.j        ]\n",
      "  [ 0.16666667+0.j          0.16666667+0.j        ]]\n",
      "\n",
      " [[ 0.16666667+0.j          0.        -0.16666667j]\n",
      "  [ 0.        +0.16666667j  0.16666667+0.j        ]]\n",
      "\n",
      " [[ 0.        +0.j          0.        +0.j        ]\n",
      "  [ 0.        +0.j          0.33333333+0.j        ]]\n",
      "\n",
      " [[ 0.16666667+0.j         -0.16666667+0.j        ]\n",
      "  [-0.16666667+0.j          0.16666667+0.j        ]]\n",
      "\n",
      " [[ 0.16666667+0.j          0.        +0.16666667j]\n",
      "  [ 0.        -0.16666667j  0.16666667+0.j        ]]]\n"
     ]
    }
   ],
   "source": [
    "M = np.zeros((Na, len(V0), len(V0)), dtype=complex)\n",
    "M[0] = (1./3)*M00\n",
    "M[1] = (1./3)*Mpp\n",
    "M[2] = (1./3)*Mrr\n",
    "M[3] = (1./3)*M11\n",
    "M[4] = (1./3)*Mmm\n",
    "M[5] = (1./3)*Mll\n",
    "print(M)"
   ]
  },
  {
   "cell_type": "code",
   "execution_count": 33,
   "metadata": {},
   "outputs": [
    {
     "name": "stdout",
     "output_type": "stream",
     "text": [
      "[0, 0, 0]\n",
      "[0, 0, 1]\n",
      "[0, 1, 0]\n",
      "[0, 1, 1]\n",
      "[1, 0, 0]\n",
      "[1, 0, 1]\n",
      "[1, 1, 0]\n",
      "[1, 1, 1]\n"
     ]
    }
   ],
   "source": [
    "for xyz in range(8):\n",
    "    print(P.int2basestr(xyz, 2, l=3))"
   ]
  },
  {
   "cell_type": "code",
   "execution_count": 35,
   "metadata": {},
   "outputs": [
    {
     "data": {
      "text/plain": [
       "3"
      ]
     },
     "execution_count": 35,
     "metadata": {},
     "output_type": "execute_result"
    }
   ],
   "source": [
    "P.basestr2int([0, 1, 1], 2)"
   ]
  },
  {
   "cell_type": "markdown",
   "metadata": {},
   "source": [
    "Pauli-4 POVM"
   ]
  },
  {
   "cell_type": "code",
   "execution_count": 37,
   "metadata": {},
   "outputs": [
    {
     "name": "stdout",
     "output_type": "stream",
     "text": [
      "[[[1]\n",
      "  [0]]\n",
      "\n",
      " [[0]\n",
      "  [1]]]\n",
      "[[[ 0.70710678]\n",
      "  [ 0.70710678]]\n",
      "\n",
      " [[ 0.70710678]\n",
      "  [-0.70710678]]]\n",
      "[[[0.70710678+0.j        ]\n",
      "  [0.        +0.70710678j]]\n",
      "\n",
      " [[0.70710678+0.j        ]\n",
      "  [0.        -0.70710678j]]]\n",
      "(2, 2, 1)\n"
     ]
    }
   ],
   "source": [
    "Vz = np.array([[[1],[0]], [[0],[1]]])\n",
    "Vx = (1./np.sqrt(2))*np.array([[[1],[1]], [[1],[-1]]])\n",
    "Vy = (1./np.sqrt(2))*np.array([[[1],[1j]], [[1],[-1j]]])\n",
    "\n",
    "print(Vz, Vx, Vy, Vz.shape, sep='\\n')"
   ]
  },
  {
   "cell_type": "code",
   "execution_count": 38,
   "metadata": {},
   "outputs": [
    {
     "name": "stdout",
     "output_type": "stream",
     "text": [
      "[[[1 0]\n",
      "  [0 0]]\n",
      "\n",
      " [[0 0]\n",
      "  [0 1]]]\n",
      "[[[ 0.5  0.5]\n",
      "  [ 0.5  0.5]]\n",
      "\n",
      " [[ 0.5 -0.5]\n",
      "  [-0.5  0.5]]]\n",
      "[[[0.5+0.j  0. -0.5j]\n",
      "  [0. +0.5j 0.5+0.j ]]\n",
      "\n",
      " [[0.5+0.j  0. +0.5j]\n",
      "  [0. -0.5j 0.5+0.j ]]]\n",
      "(2, 2, 2)\n"
     ]
    }
   ],
   "source": [
    "Mz = np.array([np.matmul(V, np.conj(np.transpose(V))) for V in Vz])\n",
    "Mx = np.array([np.matmul(V, np.conj(np.transpose(V))) for V in Vx])\n",
    "My = np.array([np.matmul(V, np.conj(np.transpose(V))) for V in Vy])\n",
    "\n",
    "print(Mz, Mx, My, Mz.shape, sep='\\n')"
   ]
  },
  {
   "cell_type": "code",
   "execution_count": 39,
   "metadata": {},
   "outputs": [],
   "source": [
    "import time"
   ]
  },
  {
   "cell_type": "code",
   "execution_count": 40,
   "metadata": {},
   "outputs": [],
   "source": [
    "t = time.time()"
   ]
  },
  {
   "cell_type": "code",
   "execution_count": 44,
   "metadata": {},
   "outputs": [
    {
     "name": "stdout",
     "output_type": "stream",
     "text": [
      "Took 0.62 minutes\n"
     ]
    }
   ],
   "source": [
    "print(f'Took {round(((time.time()-t)/60), 2)} minutes')"
   ]
  },
  {
   "cell_type": "code",
   "execution_count": 46,
   "metadata": {},
   "outputs": [
    {
     "name": "stdout",
     "output_type": "stream",
     "text": [
      "[[0, 0], [0, 1], [0, 2], [0, 3], [0, 4], [0, 5], [1, 0], [1, 1], [1, 2], [1, 3], [1, 4], [1, 5], [2, 0], [2, 1], [2, 2], [2, 3], [2, 4], [2, 5], [3, 0], [3, 1], [3, 2], [3, 3], [3, 4], [3, 5], [4, 0], [4, 1], [4, 2], [4, 3], [4, 4], [4, 5], [5, 0], [5, 1], [5, 2], [5, 3], [5, 4], [5, 5]]\n"
     ]
    }
   ],
   "source": [
    "Na, Nq = 6, 2\n",
    "print([P.int2basestr(n, Na, l=Nq) for n in range(Na**Nq)])"
   ]
  },
  {
   "cell_type": "code",
   "execution_count": 47,
   "metadata": {},
   "outputs": [],
   "source": [
    "import torch"
   ]
  },
  {
   "cell_type": "code",
   "execution_count": 49,
   "metadata": {},
   "outputs": [],
   "source": [
    "trg = torch.Tensor([1, 3, 3, 3, 2])\n",
    "pad = 0"
   ]
  },
  {
   "cell_type": "code",
   "execution_count": 61,
   "metadata": {},
   "outputs": [
    {
     "data": {
      "text/plain": [
       "(tensor([True, True, True, True, True]), torch.Size([5]))"
      ]
     },
     "execution_count": 61,
     "metadata": {},
     "output_type": "execute_result"
    }
   ],
   "source": [
    "tgt_mask = (trg != pad)\n",
    "tgt_mask, tgt_mask.size()"
   ]
  },
  {
   "cell_type": "code",
   "execution_count": 62,
   "metadata": {},
   "outputs": [
    {
     "data": {
      "text/plain": [
       "(tensor([[True, True, True, True, True]]), torch.Size([1, 5]))"
      ]
     },
     "execution_count": 62,
     "metadata": {},
     "output_type": "execute_result"
    }
   ],
   "source": [
    "tgt_mask = tgt_mask.unsqueeze(-2)\n",
    "tgt_mask, tgt_mask.size()"
   ]
  },
  {
   "cell_type": "code",
   "execution_count": 1,
   "metadata": {},
   "outputs": [],
   "source": [
    "import torch"
   ]
  },
  {
   "cell_type": "code",
   "execution_count": 8,
   "metadata": {},
   "outputs": [],
   "source": [
    "a = torch.randn(2, 4)"
   ]
  },
  {
   "cell_type": "code",
   "execution_count": 9,
   "metadata": {},
   "outputs": [
    {
     "data": {
      "text/plain": [
       "tensor([[-0.8247, -1.1433, -2.3368,  0.1667],\n",
       "        [ 0.0287,  0.0677, -0.1217, -0.7830]])"
      ]
     },
     "execution_count": 9,
     "metadata": {},
     "output_type": "execute_result"
    }
   ],
   "source": [
    "a"
   ]
  },
  {
   "cell_type": "code",
   "execution_count": 25,
   "metadata": {},
   "outputs": [
    {
     "data": {
      "text/plain": [
       "(tensor([[-0.8247, -1.1433, -2.3368],\n",
       "         [ 0.0287,  0.0677, -0.1217]]),\n",
       " torch.Size([2, 3]))"
      ]
     },
     "execution_count": 25,
     "metadata": {},
     "output_type": "execute_result"
    }
   ],
   "source": [
    "tgt = a[:, :-1]\n",
    "tgt, tgt.size()"
   ]
  },
  {
   "cell_type": "code",
   "execution_count": 26,
   "metadata": {},
   "outputs": [],
   "source": [
    "pad = 0"
   ]
  },
  {
   "cell_type": "code",
   "execution_count": 27,
   "metadata": {},
   "outputs": [],
   "source": [
    "tgt_mask = (tgt != pad).unsqueeze(-2)"
   ]
  },
  {
   "cell_type": "code",
   "execution_count": 28,
   "metadata": {},
   "outputs": [
    {
     "data": {
      "text/plain": [
       "torch.Size([2, 1, 3])"
      ]
     },
     "execution_count": 28,
     "metadata": {},
     "output_type": "execute_result"
    }
   ],
   "source": [
    "tgt_mask.size()"
   ]
  },
  {
   "cell_type": "code",
   "execution_count": null,
   "metadata": {},
   "outputs": [],
   "source": [
    "n_qubits = 3\n",
    "size = n_qubits+1\n",
    "attn_shape = (1, size, size)\n",
    "subsequent_mask = np.triu(np.ones(attn_shape), k=1).astype('uint8')"
   ]
  }
 ],
 "metadata": {
  "kernelspec": {
   "display_name": "Python 3.8.13 ('qsar')",
   "language": "python",
   "name": "python3"
  },
  "language_info": {
   "codemirror_mode": {
    "name": "ipython",
    "version": 3
   },
   "file_extension": ".py",
   "mimetype": "text/x-python",
   "name": "python",
   "nbconvert_exporter": "python",
   "pygments_lexer": "ipython3",
   "version": "3.8.13"
  },
  "orig_nbformat": 4,
  "vscode": {
   "interpreter": {
    "hash": "7dd5b4facb55a7ee9dc192750a18a69a765275ec5ae75bed654023c88176ceb4"
   }
  }
 },
 "nbformat": 4,
 "nbformat_minor": 2
}
