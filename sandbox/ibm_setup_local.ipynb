{
 "cells": [
  {
   "cell_type": "code",
   "execution_count": 1,
   "metadata": {},
   "outputs": [
    {
     "name": "stdout",
     "output_type": "stream",
     "text": [
      "/home/abhishekabhishek/git/AQT-KimGroup\n"
     ]
    }
   ],
   "source": [
    "cd .."
   ]
  },
  {
   "cell_type": "code",
   "execution_count": 57,
   "metadata": {},
   "outputs": [],
   "source": [
    "from keys import keys\n",
    "from qiskit import IBMQ, assemble, QuantumCircuit, quantum_info\n",
    "from qiskit.visualization import plot_histogram\n",
    "\n",
    "%matplotlib inline"
   ]
  },
  {
   "cell_type": "code",
   "execution_count": 3,
   "metadata": {},
   "outputs": [],
   "source": [
    "import numpy as np"
   ]
  },
  {
   "cell_type": "code",
   "execution_count": 4,
   "metadata": {},
   "outputs": [],
   "source": [
    "# Setup account\n",
    "provider = IBMQ.enable_account(keys['ibmq_token'])"
   ]
  },
  {
   "cell_type": "code",
   "execution_count": 5,
   "metadata": {},
   "outputs": [],
   "source": [
    "#IBMQ.save_account(keys['ibmq_token'])"
   ]
  },
  {
   "cell_type": "code",
   "execution_count": 6,
   "metadata": {},
   "outputs": [
    {
     "name": "stdout",
     "output_type": "stream",
     "text": [
      "ibmq_qasm_simulator 32 0\n",
      "simulator_statevector 32 0\n",
      "simulator_mps 100 0\n",
      "simulator_extended_stabilizer 63 0\n",
      "simulator_stabilizer 5000 0\n"
     ]
    }
   ],
   "source": [
    "devices = provider.backends(simulator=True, operational=True)\n",
    "for x in devices:\n",
    "    print(x.name(), x.configuration().n_qubits, x.status().pending_jobs)"
   ]
  },
  {
   "cell_type": "code",
   "execution_count": 51,
   "metadata": {},
   "outputs": [],
   "source": [
    "simulator_backend = provider.backend.ibmq_qasm_simulator\n",
    "sim = provider.backend.ibmq_qasm_simulator"
   ]
  },
  {
   "cell_type": "markdown",
   "metadata": {},
   "source": [
    "Test the ordering or endian-ness of the Qiskit results"
   ]
  },
  {
   "cell_type": "code",
   "execution_count": 61,
   "metadata": {},
   "outputs": [
    {
     "data": {
      "text/html": [
       "<pre style=\"word-wrap: normal;white-space: pre;background: #fff0;line-height: 1.1;font-family: &quot;Courier New&quot;,Courier,monospace\">     ┌───┐┌─┐\n",
       "q_0: ┤ H ├┤M├\n",
       "     └┬─┬┘└╥┘\n",
       "q_1: ─┤M├──╫─\n",
       "      └╥┘  ║ \n",
       "c_0: ══╬═══╩═\n",
       "       ║     \n",
       "c_1: ══╩═════\n",
       "             </pre>"
      ],
      "text/plain": [
       "     ┌───┐┌─┐\n",
       "q_0: ┤ H ├┤M├\n",
       "     └┬─┬┘└╥┘\n",
       "q_1: ─┤M├──╫─\n",
       "      └╥┘  ║ \n",
       "c_0: ══╬═══╩═\n",
       "       ║     \n",
       "c_1: ══╩═════\n",
       "             "
      ]
     },
     "execution_count": 61,
     "metadata": {},
     "output_type": "execute_result"
    }
   ],
   "source": [
    "# No. of qubits\n",
    "n_qubits = 2\n",
    "\n",
    "# Initialize the quantum register and circuit\n",
    "circ = QuantumCircuit(n_qubits, n_qubits)\n",
    "\n",
    "# Add operations to the circuit to prepage a GHZ state\n",
    "circ.h(0)\n",
    "circ.measure([0, 1], [0, 1])\n",
    "circ.draw()"
   ]
  },
  {
   "cell_type": "code",
   "execution_count": 62,
   "metadata": {},
   "outputs": [
    {
     "data": {
      "image/png": "[encoded data removed]",
      "text/plain": [
       "<Figure size 700x500 with 1 Axes>"
      ]
     },
     "execution_count": 62,
     "metadata": {},
     "output_type": "execute_result"
    }
   ],
   "source": [
    "# Simple qiskit running\n",
    "qobj = assemble(circ)  # Assemble circuit into a Qobj that can be run\n",
    "counts = sim.run(qobj).result().get_counts()  # Do the simulation, returning the state vector\n",
    "plot_histogram(counts)"
   ]
  },
  {
   "cell_type": "code",
   "execution_count": 27,
   "metadata": {},
   "outputs": [],
   "source": [
    "res = simulator_backend.run(circ)"
   ]
  },
  {
   "cell_type": "code",
   "execution_count": 32,
   "metadata": {},
   "outputs": [
    {
     "data": {
      "text/plain": [
       "'63914de0bf5d5bc5447a9459'"
      ]
     },
     "execution_count": 32,
     "metadata": {},
     "output_type": "execute_result"
    }
   ],
   "source": [
    "res.job_id()"
   ]
  },
  {
   "cell_type": "code",
   "execution_count": 33,
   "metadata": {},
   "outputs": [],
   "source": [
    "job = simulator_backend.retrieve_job('63914de0bf5d5bc5447a9459')\n",
    "result = job.result()"
   ]
  },
  {
   "cell_type": "code",
   "execution_count": 37,
   "metadata": {},
   "outputs": [
    {
     "name": "stdout",
     "output_type": "stream",
     "text": [
      "<class 'qiskit.providers.ibmq.job.ibmqjob.IBMQJob'> <class 'qiskit.result.result.Result'>\n"
     ]
    }
   ],
   "source": [
    "print(type(res), type(result))"
   ]
  },
  {
   "cell_type": "code",
   "execution_count": 41,
   "metadata": {},
   "outputs": [
    {
     "data": {
      "text/plain": [
       "<bound method Result.data of Result(backend_name='ibmq_qasm_simulator', backend_version='0.11.0', qobj_id='05d298d9-4067-4cbe-8fcd-89ba94d7f5bf', job_id='63914de0bf5d5bc5447a9459', success=True, results=[ExperimentResult(shots=4000, success=True, meas_level=2, data=ExperimentResultData(), header=QobjExperimentHeader(clbit_labels=[], creg_sizes=[], global_phase=0.0, memory_slots=0, metadata={}, n_qubits=2, name='circuit-469', qreg_sizes=[['q1', 2]], qubit_labels=[['q1', 0], ['q1', 1]]), status=DONE, metadata={'active_input_qubits': [], 'batched_shots_optimization': False, 'device': 'CPU', 'input_qubit_map': [], 'measure_sampling': False, 'method': 'stabilizer', 'num_clbits': 0, 'num_qubits': 0, 'parallel_shots': 1, 'parallel_state_update': 16, 'remapped_qubits': False}, seed_simulator=3575260803, time_taken=1.3958e-05)], date=2022-12-07 18:37:23.765184-08:00, status=COMPLETED, header=QobjHeader(backend_name='ibmq_qasm_simulator', backend_version='0.1.547'), metadata={'max_gpu_memory_mb': 0, 'max_memory_mb': 386782, 'mpi_rank': 0, 'num_mpi_processes': 1, 'num_processes_per_experiments': 1, 'omp_enabled': True, 'parallel_experiments': 1, 'time_taken': 0.000163636, 'time_taken_execute': 5.8679e-05, 'time_taken_load_qobj': 9.2382e-05}, time_taken=0.000163636, client_version={'qiskit': '0.39.2'})>"
      ]
     },
     "execution_count": 41,
     "metadata": {},
     "output_type": "execute_result"
    }
   ],
   "source": [
    "result.data"
   ]
  },
  {
   "cell_type": "markdown",
   "metadata": {},
   "source": [
    "Reproducing Qiskit MLE"
   ]
  },
  {
   "cell_type": "markdown",
   "metadata": {},
   "source": [
    "\n",
    "The following was part of the old notebook but is now deprecated in qiskit - \n",
    "`from qiskit.ignis.verification.tomography import state_tomography_circuits, StateTomographyFitter`"
   ]
  },
  {
   "cell_type": "code",
   "execution_count": 8,
   "metadata": {},
   "outputs": [],
   "source": [
    "from qiskit_experiments.library import StateTomography, tomography"
   ]
  },
  {
   "cell_type": "code",
   "execution_count": 64,
   "metadata": {},
   "outputs": [
    {
     "data": {
      "text/html": [
       "<pre style=\"word-wrap: normal;white-space: pre;background: #fff0;line-height: 1.1;font-family: &quot;Courier New&quot;,Courier,monospace\">     ┌───┐          \n",
       "q_0: ┤ H ├──■───────\n",
       "     └───┘┌─┴─┐     \n",
       "q_1: ─────┤ X ├──■──\n",
       "          └───┘┌─┴─┐\n",
       "q_2: ──────────┤ X ├\n",
       "               └───┘</pre>"
      ],
      "text/plain": [
       "     ┌───┐          \n",
       "q_0: ┤ H ├──■───────\n",
       "     └───┘┌─┴─┐     \n",
       "q_1: ─────┤ X ├──■──\n",
       "          └───┘┌─┴─┐\n",
       "q_2: ──────────┤ X ├\n",
       "               └───┘"
      ]
     },
     "execution_count": 64,
     "metadata": {},
     "output_type": "execute_result"
    }
   ],
   "source": [
    "# No. of qubits\n",
    "n_qubits = 3\n",
    "\n",
    "# Initialize the quantum register and circuit\n",
    "ghz_circ = QuantumCircuit(n_qubits)\n",
    "\n",
    "# Add operations to the circuit to prepage a GHZ state\n",
    "ghz_circ.h(0)\n",
    "for idx in range(n_qubits-1):\n",
    "    ghz_circ.cx(idx, idx+1)\n",
    "\n",
    "ghz_circ.draw()"
   ]
  },
  {
   "cell_type": "code",
   "execution_count": 65,
   "metadata": {},
   "outputs": [
    {
     "name": "stdout",
     "output_type": "stream",
     "text": [
      "     ┌───┐           ░ ┌────────────┐ ░ ┌─┐      \n",
      "q_0: ┤ H ├──■────────░─┤ PauliMeasZ ├─░─┤M├──────\n",
      "     └───┘┌─┴─┐      ░ ├────────────┤ ░ └╥┘┌─┐   \n",
      "q_1: ─────┤ X ├──■───░─┤ PauliMeasZ ├─░──╫─┤M├───\n",
      "          └───┘┌─┴─┐ ░ ├────────────┤ ░  ║ └╥┘┌─┐\n",
      "q_2: ──────────┤ X ├─░─┤ PauliMeasZ ├─░──╫──╫─┤M├\n",
      "               └───┘ ░ └────────────┘ ░  ║  ║ └╥┘\n",
      "c_0: ════════════════════════════════════╩══╬══╬═\n",
      "                                            ║  ║ \n",
      "c_1: ═══════════════════════════════════════╩══╬═\n",
      "                                               ║ \n",
      "c_2: ══════════════════════════════════════════╩═\n",
      "                                                 \n",
      "     ┌───┐           ░ ┌────────────┐ ░ ┌─┐      \n",
      "q_0: ┤ H ├──■────────░─┤ PauliMeasZ ├─░─┤M├──────\n",
      "     └───┘┌─┴─┐      ░ ├────────────┤ ░ └╥┘┌─┐   \n",
      "q_1: ─────┤ X ├──■───░─┤ PauliMeasZ ├─░──╫─┤M├───\n",
      "          └───┘┌─┴─┐ ░ ├────────────┤ ░  ║ └╥┘┌─┐\n",
      "q_2: ──────────┤ X ├─░─┤ PauliMeasX ├─░──╫──╫─┤M├\n",
      "               └───┘ ░ └────────────┘ ░  ║  ║ └╥┘\n",
      "c_0: ════════════════════════════════════╩══╬══╬═\n",
      "                                            ║  ║ \n",
      "c_1: ═══════════════════════════════════════╩══╬═\n",
      "                                               ║ \n",
      "c_2: ══════════════════════════════════════════╩═\n",
      "                                                 \n",
      "     ┌───┐           ░ ┌────────────┐ ░ ┌─┐      \n",
      "q_0: ┤ H ├──■────────░─┤ PauliMeasZ ├─░─┤M├──────\n",
      "     └───┘┌─┴─┐      ░ ├────────────┤ ░ └╥┘┌─┐   \n",
      "q_1: ─────┤ X ├──■───░─┤ PauliMeasZ ├─░──╫─┤M├───\n",
      "          └───┘┌─┴─┐ ░ ├────────────┤ ░  ║ └╥┘┌─┐\n",
      "q_2: ──────────┤ X ├─░─┤ PauliMeasY ├─░──╫──╫─┤M├\n",
      "               └───┘ ░ └────────────┘ ░  ║  ║ └╥┘\n",
      "c_0: ════════════════════════════════════╩══╬══╬═\n",
      "                                            ║  ║ \n",
      "c_1: ═══════════════════════════════════════╩══╬═\n",
      "                                               ║ \n",
      "c_2: ══════════════════════════════════════════╩═\n",
      "                                                 \n",
      "     ┌───┐           ░ ┌────────────┐ ░ ┌─┐      \n",
      "q_0: ┤ H ├──■────────░─┤ PauliMeasZ ├─░─┤M├──────\n",
      "     └───┘┌─┴─┐      ░ ├────────────┤ ░ └╥┘┌─┐   \n",
      "q_1: ─────┤ X ├──■───░─┤ PauliMeasX ├─░──╫─┤M├───\n",
      "          └───┘┌─┴─┐ ░ ├────────────┤ ░  ║ └╥┘┌─┐\n",
      "q_2: ──────────┤ X ├─░─┤ PauliMeasZ ├─░──╫──╫─┤M├\n",
      "               └───┘ ░ └────────────┘ ░  ║  ║ └╥┘\n",
      "c_0: ════════════════════════════════════╩══╬══╬═\n",
      "                                            ║  ║ \n",
      "c_1: ═══════════════════════════════════════╩══╬═\n",
      "                                               ║ \n",
      "c_2: ══════════════════════════════════════════╩═\n",
      "                                                 \n",
      "     ┌───┐           ░ ┌────────────┐ ░ ┌─┐      \n",
      "q_0: ┤ H ├──■────────░─┤ PauliMeasZ ├─░─┤M├──────\n",
      "     └───┘┌─┴─┐      ░ ├────────────┤ ░ └╥┘┌─┐   \n",
      "q_1: ─────┤ X ├──■───░─┤ PauliMeasX ├─░──╫─┤M├───\n",
      "          └───┘┌─┴─┐ ░ ├────────────┤ ░  ║ └╥┘┌─┐\n",
      "q_2: ──────────┤ X ├─░─┤ PauliMeasX ├─░──╫──╫─┤M├\n",
      "               └───┘ ░ └────────────┘ ░  ║  ║ └╥┘\n",
      "c_0: ════════════════════════════════════╩══╬══╬═\n",
      "                                            ║  ║ \n",
      "c_1: ═══════════════════════════════════════╩══╬═\n",
      "                                               ║ \n",
      "c_2: ══════════════════════════════════════════╩═\n",
      "                                                 \n",
      "     ┌───┐           ░ ┌────────────┐ ░ ┌─┐      \n",
      "q_0: ┤ H ├──■────────░─┤ PauliMeasZ ├─░─┤M├──────\n",
      "     └───┘┌─┴─┐      ░ ├────────────┤ ░ └╥┘┌─┐   \n",
      "q_1: ─────┤ X ├──■───░─┤ PauliMeasX ├─░──╫─┤M├───\n",
      "          └───┘┌─┴─┐ ░ ├────────────┤ ░  ║ └╥┘┌─┐\n",
      "q_2: ──────────┤ X ├─░─┤ PauliMeasY ├─░──╫──╫─┤M├\n",
      "               └───┘ ░ └────────────┘ ░  ║  ║ └╥┘\n",
      "c_0: ════════════════════════════════════╩══╬══╬═\n",
      "                                            ║  ║ \n",
      "c_1: ═══════════════════════════════════════╩══╬═\n",
      "                                               ║ \n",
      "c_2: ══════════════════════════════════════════╩═\n",
      "                                                 \n",
      "     ┌───┐           ░ ┌────────────┐ ░ ┌─┐      \n",
      "q_0: ┤ H ├──■────────░─┤ PauliMeasZ ├─░─┤M├──────\n",
      "     └───┘┌─┴─┐      ░ ├────────────┤ ░ └╥┘┌─┐   \n",
      "q_1: ─────┤ X ├──■───░─┤ PauliMeasY ├─░──╫─┤M├───\n",
      "          └───┘┌─┴─┐ ░ ├────────────┤ ░  ║ └╥┘┌─┐\n",
      "q_2: ──────────┤ X ├─░─┤ PauliMeasZ ├─░──╫──╫─┤M├\n",
      "               └───┘ ░ └────────────┘ ░  ║  ║ └╥┘\n",
      "c_0: ════════════════════════════════════╩══╬══╬═\n",
      "                                            ║  ║ \n",
      "c_1: ═══════════════════════════════════════╩══╬═\n",
      "                                               ║ \n",
      "c_2: ══════════════════════════════════════════╩═\n",
      "                                                 \n",
      "     ┌───┐           ░ ┌────────────┐ ░ ┌─┐      \n",
      "q_0: ┤ H ├──■────────░─┤ PauliMeasZ ├─░─┤M├──────\n",
      "     └───┘┌─┴─┐      ░ ├────────────┤ ░ └╥┘┌─┐   \n",
      "q_1: ─────┤ X ├──■───░─┤ PauliMeasY ├─░──╫─┤M├───\n",
      "          └───┘┌─┴─┐ ░ ├────────────┤ ░  ║ └╥┘┌─┐\n",
      "q_2: ──────────┤ X ├─░─┤ PauliMeasX ├─░──╫──╫─┤M├\n",
      "               └───┘ ░ └────────────┘ ░  ║  ║ └╥┘\n",
      "c_0: ════════════════════════════════════╩══╬══╬═\n",
      "                                            ║  ║ \n",
      "c_1: ═══════════════════════════════════════╩══╬═\n",
      "                                               ║ \n",
      "c_2: ══════════════════════════════════════════╩═\n",
      "                                                 \n",
      "     ┌───┐           ░ ┌────────────┐ ░ ┌─┐      \n",
      "q_0: ┤ H ├──■────────░─┤ PauliMeasZ ├─░─┤M├──────\n",
      "     └───┘┌─┴─┐      ░ ├────────────┤ ░ └╥┘┌─┐   \n",
      "q_1: ─────┤ X ├──■───░─┤ PauliMeasY ├─░──╫─┤M├───\n",
      "          └───┘┌─┴─┐ ░ ├────────────┤ ░  ║ └╥┘┌─┐\n",
      "q_2: ──────────┤ X ├─░─┤ PauliMeasY ├─░──╫──╫─┤M├\n",
      "               └───┘ ░ └────────────┘ ░  ║  ║ └╥┘\n",
      "c_0: ════════════════════════════════════╩══╬══╬═\n",
      "                                            ║  ║ \n",
      "c_1: ═══════════════════════════════════════╩══╬═\n",
      "                                               ║ \n",
      "c_2: ══════════════════════════════════════════╩═\n",
      "                                                 \n",
      "     ┌───┐           ░ ┌────────────┐ ░ ┌─┐      \n",
      "q_0: ┤ H ├──■────────░─┤ PauliMeasX ├─░─┤M├──────\n",
      "     └───┘┌─┴─┐      ░ ├────────────┤ ░ └╥┘┌─┐   \n",
      "q_1: ─────┤ X ├──■───░─┤ PauliMeasZ ├─░──╫─┤M├───\n",
      "          └───┘┌─┴─┐ ░ ├────────────┤ ░  ║ └╥┘┌─┐\n",
      "q_2: ──────────┤ X ├─░─┤ PauliMeasZ ├─░──╫──╫─┤M├\n",
      "               └───┘ ░ └────────────┘ ░  ║  ║ └╥┘\n",
      "c_0: ════════════════════════════════════╩══╬══╬═\n",
      "                                            ║  ║ \n",
      "c_1: ═══════════════════════════════════════╩══╬═\n",
      "                                               ║ \n",
      "c_2: ══════════════════════════════════════════╩═\n",
      "                                                 \n",
      "     ┌───┐           ░ ┌────────────┐ ░ ┌─┐      \n",
      "q_0: ┤ H ├──■────────░─┤ PauliMeasX ├─░─┤M├──────\n",
      "     └───┘┌─┴─┐      ░ ├────────────┤ ░ └╥┘┌─┐   \n",
      "q_1: ─────┤ X ├──■───░─┤ PauliMeasZ ├─░──╫─┤M├───\n",
      "          └───┘┌─┴─┐ ░ ├────────────┤ ░  ║ └╥┘┌─┐\n",
      "q_2: ──────────┤ X ├─░─┤ PauliMeasX ├─░──╫──╫─┤M├\n",
      "               └───┘ ░ └────────────┘ ░  ║  ║ └╥┘\n",
      "c_0: ════════════════════════════════════╩══╬══╬═\n",
      "                                            ║  ║ \n",
      "c_1: ═══════════════════════════════════════╩══╬═\n",
      "                                               ║ \n",
      "c_2: ══════════════════════════════════════════╩═\n",
      "                                                 \n",
      "     ┌───┐           ░ ┌────────────┐ ░ ┌─┐      \n",
      "q_0: ┤ H ├──■────────░─┤ PauliMeasX ├─░─┤M├──────\n",
      "     └───┘┌─┴─┐      ░ ├────────────┤ ░ └╥┘┌─┐   \n",
      "q_1: ─────┤ X ├──■───░─┤ PauliMeasZ ├─░──╫─┤M├───\n",
      "          └───┘┌─┴─┐ ░ ├────────────┤ ░  ║ └╥┘┌─┐\n",
      "q_2: ──────────┤ X ├─░─┤ PauliMeasY ├─░──╫──╫─┤M├\n",
      "               └───┘ ░ └────────────┘ ░  ║  ║ └╥┘\n",
      "c_0: ════════════════════════════════════╩══╬══╬═\n",
      "                                            ║  ║ \n",
      "c_1: ═══════════════════════════════════════╩══╬═\n",
      "                                               ║ \n",
      "c_2: ══════════════════════════════════════════╩═\n",
      "                                                 \n",
      "     ┌───┐           ░ ┌────────────┐ ░ ┌─┐      \n",
      "q_0: ┤ H ├──■────────░─┤ PauliMeasX ├─░─┤M├──────\n",
      "     └───┘┌─┴─┐      ░ ├────────────┤ ░ └╥┘┌─┐   \n",
      "q_1: ─────┤ X ├──■───░─┤ PauliMeasX ├─░──╫─┤M├───\n",
      "          └───┘┌─┴─┐ ░ ├────────────┤ ░  ║ └╥┘┌─┐\n",
      "q_2: ──────────┤ X ├─░─┤ PauliMeasZ ├─░──╫──╫─┤M├\n",
      "               └───┘ ░ └────────────┘ ░  ║  ║ └╥┘\n",
      "c_0: ════════════════════════════════════╩══╬══╬═\n",
      "                                            ║  ║ \n",
      "c_1: ═══════════════════════════════════════╩══╬═\n",
      "                                               ║ \n",
      "c_2: ══════════════════════════════════════════╩═\n",
      "                                                 \n",
      "     ┌───┐           ░ ┌────────────┐ ░ ┌─┐      \n",
      "q_0: ┤ H ├──■────────░─┤ PauliMeasX ├─░─┤M├──────\n",
      "     └───┘┌─┴─┐      ░ ├────────────┤ ░ └╥┘┌─┐   \n",
      "q_1: ─────┤ X ├──■───░─┤ PauliMeasX ├─░──╫─┤M├───\n",
      "          └───┘┌─┴─┐ ░ ├────────────┤ ░  ║ └╥┘┌─┐\n",
      "q_2: ──────────┤ X ├─░─┤ PauliMeasX ├─░──╫──╫─┤M├\n",
      "               └───┘ ░ └────────────┘ ░  ║  ║ └╥┘\n",
      "c_0: ════════════════════════════════════╩══╬══╬═\n",
      "                                            ║  ║ \n",
      "c_1: ═══════════════════════════════════════╩══╬═\n",
      "                                               ║ \n",
      "c_2: ══════════════════════════════════════════╩═\n",
      "                                                 \n",
      "     ┌───┐           ░ ┌────────────┐ ░ ┌─┐      \n",
      "q_0: ┤ H ├──■────────░─┤ PauliMeasX ├─░─┤M├──────\n",
      "     └───┘┌─┴─┐      ░ ├────────────┤ ░ └╥┘┌─┐   \n",
      "q_1: ─────┤ X ├──■───░─┤ PauliMeasX ├─░──╫─┤M├───\n",
      "          └───┘┌─┴─┐ ░ ├────────────┤ ░  ║ └╥┘┌─┐\n",
      "q_2: ──────────┤ X ├─░─┤ PauliMeasY ├─░──╫──╫─┤M├\n",
      "               └───┘ ░ └────────────┘ ░  ║  ║ └╥┘\n",
      "c_0: ════════════════════════════════════╩══╬══╬═\n",
      "                                            ║  ║ \n",
      "c_1: ═══════════════════════════════════════╩══╬═\n",
      "                                               ║ \n",
      "c_2: ══════════════════════════════════════════╩═\n",
      "                                                 \n",
      "     ┌───┐           ░ ┌────────────┐ ░ ┌─┐      \n",
      "q_0: ┤ H ├──■────────░─┤ PauliMeasX ├─░─┤M├──────\n",
      "     └───┘┌─┴─┐      ░ ├────────────┤ ░ └╥┘┌─┐   \n",
      "q_1: ─────┤ X ├──■───░─┤ PauliMeasY ├─░──╫─┤M├───\n",
      "          └───┘┌─┴─┐ ░ ├────────────┤ ░  ║ └╥┘┌─┐\n",
      "q_2: ──────────┤ X ├─░─┤ PauliMeasZ ├─░──╫──╫─┤M├\n",
      "               └───┘ ░ └────────────┘ ░  ║  ║ └╥┘\n",
      "c_0: ════════════════════════════════════╩══╬══╬═\n",
      "                                            ║  ║ \n",
      "c_1: ═══════════════════════════════════════╩══╬═\n",
      "                                               ║ \n",
      "c_2: ══════════════════════════════════════════╩═\n",
      "                                                 \n",
      "     ┌───┐           ░ ┌────────────┐ ░ ┌─┐      \n",
      "q_0: ┤ H ├──■────────░─┤ PauliMeasX ├─░─┤M├──────\n",
      "     └───┘┌─┴─┐      ░ ├────────────┤ ░ └╥┘┌─┐   \n",
      "q_1: ─────┤ X ├──■───░─┤ PauliMeasY ├─░──╫─┤M├───\n",
      "          └───┘┌─┴─┐ ░ ├────────────┤ ░  ║ └╥┘┌─┐\n",
      "q_2: ──────────┤ X ├─░─┤ PauliMeasX ├─░──╫──╫─┤M├\n",
      "               └───┘ ░ └────────────┘ ░  ║  ║ └╥┘\n",
      "c_0: ════════════════════════════════════╩══╬══╬═\n",
      "                                            ║  ║ \n",
      "c_1: ═══════════════════════════════════════╩══╬═\n",
      "                                               ║ \n",
      "c_2: ══════════════════════════════════════════╩═\n",
      "                                                 \n",
      "     ┌───┐           ░ ┌────────────┐ ░ ┌─┐      \n",
      "q_0: ┤ H ├──■────────░─┤ PauliMeasX ├─░─┤M├──────\n",
      "     └───┘┌─┴─┐      ░ ├────────────┤ ░ └╥┘┌─┐   \n",
      "q_1: ─────┤ X ├──■───░─┤ PauliMeasY ├─░──╫─┤M├───\n",
      "          └───┘┌─┴─┐ ░ ├────────────┤ ░  ║ └╥┘┌─┐\n",
      "q_2: ──────────┤ X ├─░─┤ PauliMeasY ├─░──╫──╫─┤M├\n",
      "               └───┘ ░ └────────────┘ ░  ║  ║ └╥┘\n",
      "c_0: ════════════════════════════════════╩══╬══╬═\n",
      "                                            ║  ║ \n",
      "c_1: ═══════════════════════════════════════╩══╬═\n",
      "                                               ║ \n",
      "c_2: ══════════════════════════════════════════╩═\n",
      "                                                 \n",
      "     ┌───┐           ░ ┌────────────┐ ░ ┌─┐      \n",
      "q_0: ┤ H ├──■────────░─┤ PauliMeasY ├─░─┤M├──────\n",
      "     └───┘┌─┴─┐      ░ ├────────────┤ ░ └╥┘┌─┐   \n",
      "q_1: ─────┤ X ├──■───░─┤ PauliMeasZ ├─░──╫─┤M├───\n",
      "          └───┘┌─┴─┐ ░ ├────────────┤ ░  ║ └╥┘┌─┐\n",
      "q_2: ──────────┤ X ├─░─┤ PauliMeasZ ├─░──╫──╫─┤M├\n",
      "               └───┘ ░ └────────────┘ ░  ║  ║ └╥┘\n",
      "c_0: ════════════════════════════════════╩══╬══╬═\n",
      "                                            ║  ║ \n",
      "c_1: ═══════════════════════════════════════╩══╬═\n",
      "                                               ║ \n",
      "c_2: ══════════════════════════════════════════╩═\n",
      "                                                 \n",
      "     ┌───┐           ░ ┌────────────┐ ░ ┌─┐      \n",
      "q_0: ┤ H ├──■────────░─┤ PauliMeasY ├─░─┤M├──────\n",
      "     └───┘┌─┴─┐      ░ ├────────────┤ ░ └╥┘┌─┐   \n",
      "q_1: ─────┤ X ├──■───░─┤ PauliMeasZ ├─░──╫─┤M├───\n",
      "          └───┘┌─┴─┐ ░ ├────────────┤ ░  ║ └╥┘┌─┐\n",
      "q_2: ──────────┤ X ├─░─┤ PauliMeasX ├─░──╫──╫─┤M├\n",
      "               └───┘ ░ └────────────┘ ░  ║  ║ └╥┘\n",
      "c_0: ════════════════════════════════════╩══╬══╬═\n",
      "                                            ║  ║ \n",
      "c_1: ═══════════════════════════════════════╩══╬═\n",
      "                                               ║ \n",
      "c_2: ══════════════════════════════════════════╩═\n",
      "                                                 \n",
      "     ┌───┐           ░ ┌────────────┐ ░ ┌─┐      \n",
      "q_0: ┤ H ├──■────────░─┤ PauliMeasY ├─░─┤M├──────\n",
      "     └───┘┌─┴─┐      ░ ├────────────┤ ░ └╥┘┌─┐   \n",
      "q_1: ─────┤ X ├──■───░─┤ PauliMeasZ ├─░──╫─┤M├───\n",
      "          └───┘┌─┴─┐ ░ ├────────────┤ ░  ║ └╥┘┌─┐\n",
      "q_2: ──────────┤ X ├─░─┤ PauliMeasY ├─░──╫──╫─┤M├\n",
      "               └───┘ ░ └────────────┘ ░  ║  ║ └╥┘\n",
      "c_0: ════════════════════════════════════╩══╬══╬═\n",
      "                                            ║  ║ \n",
      "c_1: ═══════════════════════════════════════╩══╬═\n",
      "                                               ║ \n",
      "c_2: ══════════════════════════════════════════╩═\n",
      "                                                 \n",
      "     ┌───┐           ░ ┌────────────┐ ░ ┌─┐      \n",
      "q_0: ┤ H ├──■────────░─┤ PauliMeasY ├─░─┤M├──────\n",
      "     └───┘┌─┴─┐      ░ ├────────────┤ ░ └╥┘┌─┐   \n",
      "q_1: ─────┤ X ├──■───░─┤ PauliMeasX ├─░──╫─┤M├───\n",
      "          └───┘┌─┴─┐ ░ ├────────────┤ ░  ║ └╥┘┌─┐\n",
      "q_2: ──────────┤ X ├─░─┤ PauliMeasZ ├─░──╫──╫─┤M├\n",
      "               └───┘ ░ └────────────┘ ░  ║  ║ └╥┘\n",
      "c_0: ════════════════════════════════════╩══╬══╬═\n",
      "                                            ║  ║ \n",
      "c_1: ═══════════════════════════════════════╩══╬═\n",
      "                                               ║ \n",
      "c_2: ══════════════════════════════════════════╩═\n",
      "                                                 \n",
      "     ┌───┐           ░ ┌────────────┐ ░ ┌─┐      \n",
      "q_0: ┤ H ├──■────────░─┤ PauliMeasY ├─░─┤M├──────\n",
      "     └───┘┌─┴─┐      ░ ├────────────┤ ░ └╥┘┌─┐   \n",
      "q_1: ─────┤ X ├──■───░─┤ PauliMeasX ├─░──╫─┤M├───\n",
      "          └───┘┌─┴─┐ ░ ├────────────┤ ░  ║ └╥┘┌─┐\n",
      "q_2: ──────────┤ X ├─░─┤ PauliMeasX ├─░──╫──╫─┤M├\n",
      "               └───┘ ░ └────────────┘ ░  ║  ║ └╥┘\n",
      "c_0: ════════════════════════════════════╩══╬══╬═\n",
      "                                            ║  ║ \n",
      "c_1: ═══════════════════════════════════════╩══╬═\n",
      "                                               ║ \n",
      "c_2: ══════════════════════════════════════════╩═\n",
      "                                                 \n",
      "     ┌───┐           ░ ┌────────────┐ ░ ┌─┐      \n",
      "q_0: ┤ H ├──■────────░─┤ PauliMeasY ├─░─┤M├──────\n",
      "     └───┘┌─┴─┐      ░ ├────────────┤ ░ └╥┘┌─┐   \n",
      "q_1: ─────┤ X ├──■───░─┤ PauliMeasX ├─░──╫─┤M├───\n",
      "          └───┘┌─┴─┐ ░ ├────────────┤ ░  ║ └╥┘┌─┐\n",
      "q_2: ──────────┤ X ├─░─┤ PauliMeasY ├─░──╫──╫─┤M├\n",
      "               └───┘ ░ └────────────┘ ░  ║  ║ └╥┘\n",
      "c_0: ════════════════════════════════════╩══╬══╬═\n",
      "                                            ║  ║ \n",
      "c_1: ═══════════════════════════════════════╩══╬═\n",
      "                                               ║ \n",
      "c_2: ══════════════════════════════════════════╩═\n",
      "                                                 \n",
      "     ┌───┐           ░ ┌────────────┐ ░ ┌─┐      \n",
      "q_0: ┤ H ├──■────────░─┤ PauliMeasY ├─░─┤M├──────\n",
      "     └───┘┌─┴─┐      ░ ├────────────┤ ░ └╥┘┌─┐   \n",
      "q_1: ─────┤ X ├──■───░─┤ PauliMeasY ├─░──╫─┤M├───\n",
      "          └───┘┌─┴─┐ ░ ├────────────┤ ░  ║ └╥┘┌─┐\n",
      "q_2: ──────────┤ X ├─░─┤ PauliMeasZ ├─░──╫──╫─┤M├\n",
      "               └───┘ ░ └────────────┘ ░  ║  ║ └╥┘\n",
      "c_0: ════════════════════════════════════╩══╬══╬═\n",
      "                                            ║  ║ \n",
      "c_1: ═══════════════════════════════════════╩══╬═\n",
      "                                               ║ \n",
      "c_2: ══════════════════════════════════════════╩═\n",
      "                                                 \n",
      "     ┌───┐           ░ ┌────────────┐ ░ ┌─┐      \n",
      "q_0: ┤ H ├──■────────░─┤ PauliMeasY ├─░─┤M├──────\n",
      "     └───┘┌─┴─┐      ░ ├────────────┤ ░ └╥┘┌─┐   \n",
      "q_1: ─────┤ X ├──■───░─┤ PauliMeasY ├─░──╫─┤M├───\n",
      "          └───┘┌─┴─┐ ░ ├────────────┤ ░  ║ └╥┘┌─┐\n",
      "q_2: ──────────┤ X ├─░─┤ PauliMeasX ├─░──╫──╫─┤M├\n",
      "               └───┘ ░ └────────────┘ ░  ║  ║ └╥┘\n",
      "c_0: ════════════════════════════════════╩══╬══╬═\n",
      "                                            ║  ║ \n",
      "c_1: ═══════════════════════════════════════╩══╬═\n",
      "                                               ║ \n",
      "c_2: ══════════════════════════════════════════╩═\n",
      "                                                 \n",
      "     ┌───┐           ░ ┌────────────┐ ░ ┌─┐      \n",
      "q_0: ┤ H ├──■────────░─┤ PauliMeasY ├─░─┤M├──────\n",
      "     └───┘┌─┴─┐      ░ ├────────────┤ ░ └╥┘┌─┐   \n",
      "q_1: ─────┤ X ├──■───░─┤ PauliMeasY ├─░──╫─┤M├───\n",
      "          └───┘┌─┴─┐ ░ ├────────────┤ ░  ║ └╥┘┌─┐\n",
      "q_2: ──────────┤ X ├─░─┤ PauliMeasY ├─░──╫──╫─┤M├\n",
      "               └───┘ ░ └────────────┘ ░  ║  ║ └╥┘\n",
      "c_0: ════════════════════════════════════╩══╬══╬═\n",
      "                                            ║  ║ \n",
      "c_1: ═══════════════════════════════════════╩══╬═\n",
      "                                               ║ \n",
      "c_2: ══════════════════════════════════════════╩═\n",
      "                                                 \n"
     ]
    }
   ],
   "source": [
    "qst_exp = StateTomography(ghz_circ)\n",
    "qst_data_1 = qst_exp.run(simulator_backend, seed_simulation=100).block_for_results()\n",
    "for circuit in qst_exp.circuits():\n",
    "    print(circuit.draw())"
   ]
  },
  {
   "cell_type": "markdown",
   "metadata": {},
   "source": [
    "Following the introduction to the experiment framework at `https://qiskit.org/documentation/experiments/apidocs/framework.html#module-qiskit_experiments.framework`"
   ]
  },
  {
   "cell_type": "code",
   "execution_count": 68,
   "metadata": {},
   "outputs": [],
   "source": [
    "job = simulator_backend.retrieve_job(qst_data_1.job_ids[0])\n",
    "result = job.result()"
   ]
  },
  {
   "cell_type": "code",
   "execution_count": null,
   "metadata": {},
   "outputs": [],
   "source": [
    "# Saved experiments\n",
    "# 3 qubit GHZ - 6390ffde5252115aa3e127c1 "
   ]
  },
  {
   "cell_type": "code",
   "execution_count": 69,
   "metadata": {},
   "outputs": [
    {
     "name": "stdout",
     "output_type": "stream",
     "text": [
      "['0', '0', '0'] {'000': 2041, '111': 1959}\n",
      "['0', '0', '1'] {'000': 1012, '011': 967, '100': 1003, '111': 1018}\n",
      "['0', '0', '2'] {'000': 971, '011': 1011, '100': 975, '111': 1043}\n",
      "['0', '1', '0'] {'000': 951, '010': 1005, '101': 1029, '111': 1015}\n",
      "['0', '1', '1'] {'000': 524, '001': 501, '010': 485, '011': 468, '100': 545, '101': 501, '110': 494, '111': 482}\n",
      "['0', '1', '2'] {'000': 483, '001': 487, '010': 543, '011': 496, '100': 492, '101': 496, '110': 486, '111': 517}\n",
      "['0', '2', '0'] {'000': 960, '010': 1044, '101': 1017, '111': 979}\n",
      "['0', '2', '1'] {'000': 489, '001': 525, '010': 497, '011': 486, '100': 513, '101': 474, '110': 521, '111': 495}\n",
      "['0', '2', '2'] {'000': 489, '001': 523, '010': 513, '011': 512, '100': 455, '101': 515, '110': 476, '111': 517}\n",
      "['1', '0', '0'] {'000': 983, '001': 1003, '110': 989, '111': 1025}\n",
      "['1', '0', '1'] {'000': 505, '001': 494, '010': 494, '011': 546, '100': 494, '101': 484, '110': 496, '111': 487}\n",
      "['1', '0', '2'] {'000': 509, '001': 493, '010': 487, '011': 482, '100': 503, '101': 533, '110': 511, '111': 482}\n",
      "['1', '1', '0'] {'000': 506, '001': 485, '010': 511, '011': 527, '100': 470, '101': 492, '110': 485, '111': 524}\n",
      "['1', '1', '1'] {'000': 997, '011': 1018, '101': 1023, '110': 962}\n",
      "['1', '1', '2'] {'000': 492, '001': 479, '010': 472, '011': 498, '100': 536, '101': 488, '110': 534, '111': 501}\n",
      "['1', '2', '0'] {'000': 494, '001': 512, '010': 506, '011': 481, '100': 481, '101': 497, '110': 498, '111': 531}\n",
      "['1', '2', '1'] {'000': 494, '001': 506, '010': 512, '011': 479, '100': 511, '101': 515, '110': 486, '111': 497}\n",
      "['1', '2', '2'] {'001': 973, '010': 1013, '100': 1013, '111': 1001}\n",
      "['2', '0', '0'] {'000': 981, '001': 1011, '110': 1013, '111': 995}\n",
      "['2', '0', '1'] {'000': 485, '001': 509, '010': 487, '011': 493, '100': 495, '101': 514, '110': 515, '111': 502}\n",
      "['2', '0', '2'] {'000': 499, '001': 525, '010': 466, '011': 493, '100': 489, '101': 492, '110': 490, '111': 546}\n",
      "['2', '1', '0'] {'000': 506, '001': 489, '010': 514, '011': 495, '100': 482, '101': 518, '110': 504, '111': 492}\n",
      "['2', '1', '1'] {'000': 506, '001': 497, '010': 476, '011': 525, '100': 497, '101': 465, '110': 504, '111': 530}\n",
      "['2', '1', '2'] {'001': 1023, '010': 1017, '100': 960, '111': 1000}\n",
      "['2', '2', '0'] {'000': 500, '001': 474, '010': 495, '011': 486, '100': 507, '101': 506, '110': 495, '111': 537}\n",
      "['2', '2', '1'] {'001': 950, '010': 1002, '100': 1035, '111': 1013}\n",
      "['2', '2', '2'] {'000': 495, '001': 475, '010': 525, '011': 501, '100': 476, '101': 477, '110': 518, '111': 533}\n"
     ]
    }
   ],
   "source": [
    "Nq = 3\n",
    "Nset = 3**Nq\n",
    "for i in range(Nset):\n",
    "    print(result.results[i].header.name.split('_')[1][1:-1].split(', '), result.get_counts(i))"
   ]
  },
  {
   "cell_type": "markdown",
   "metadata": {},
   "source": [
    "By comparing the above expt. header names, with the circuits, it is clear to see the mapping Z -> 0, X -> 1, Y -> 2. This is similar to what was previously being used in the deprecated library."
   ]
  },
  {
   "cell_type": "code",
   "execution_count": 73,
   "metadata": {},
   "outputs": [
    {
     "name": "stdout",
     "output_type": "stream",
     "text": [
      "108000 2700\n"
     ]
    },
    {
     "ename": "AssertionError",
     "evalue": "",
     "output_type": "error",
     "traceback": [
      "\u001b[0;31m---------------------------------------------------------------------------\u001b[0m",
      "\u001b[0;31mAssertionError\u001b[0m                            Traceback (most recent call last)",
      "Cell \u001b[0;32mIn [73], line 24\u001b[0m\n\u001b[1;32m     21\u001b[0m         di \u001b[39m+\u001b[39m\u001b[39m=\u001b[39m rawdata[st]\n\u001b[1;32m     23\u001b[0m \u001b[39mprint\u001b[39m(di, \u001b[39mlen\u001b[39m(collateddata))\n\u001b[0;32m---> 24\u001b[0m \u001b[39massert\u001b[39;00m(di\u001b[39m==\u001b[39m\u001b[39m2700\u001b[39m)\n",
      "\u001b[0;31mAssertionError\u001b[0m: "
     ]
    }
   ],
   "source": [
    "Nq = 3\n",
    "Nset = 3**Nq\n",
    "\n",
    "collateddata = np.zeros((2700, 3), dtype=int)\n",
    "di = 0\n",
    "for nset in range(Nset):\n",
    "    # Raw measurement counts e.g. {'000':X, '111':Y}\n",
    "    rawdata = result.get_counts(nset)\n",
    "    # Measurement setup e.g. ['0', '0', '0'] -> [Z, Z, Z]\n",
    "    setting = result.results[nset].header.name.split('_')[1][1:-1].split(', ')\n",
    "    setstr = ''\n",
    "    for nq in range(Nq):\n",
    "        setstr += setting[nq]\n",
    "    \n",
    "    for st in rawdata:\n",
    "        # Map the projective outcomes to POVM outcomes\n",
    "        # e.g. given setting [100], map outcome [000] to [200] and [111] to\n",
    "        # [311]\n",
    "        outcome = np.array([3*int(st[2-i])+int(setstr[i]) for i in range(3)])\n",
    "        collateddata[di:di+rawdata[st]] = outcome\n",
    "        di += rawdata[st]\n",
    "\n",
    "print(di, len(collateddata))\n",
    "assert(di==2700)"
   ]
  },
  {
   "cell_type": "code",
   "execution_count": 27,
   "metadata": {},
   "outputs": [
    {
     "data": {
      "text/plain": [
       "<bound method Result.data of Result(backend_name='ibmq_qasm_simulator', backend_version='0.11.0', qobj_id='536c4a81-19a1-45fd-83ac-db8b1050e244', job_id='639020b8d26abd241a25a58b', success=True, results=[ExperimentResult(shots=4000, success=True, meas_level=2, data=ExperimentResultData(counts={'0x0': 1966, '0x7': 2034}), header=QobjExperimentHeader(clbit_labels=[['c', 0], ['c', 1], ['c', 2]], creg_sizes=[['c', 3]], global_phase=0.0, memory_slots=3, metadata={'clbits': [0, 1, 2], 'm_idx': [0, 0, 0]}, n_qubits=3, name='StateTomography_(0, 0, 0)', qreg_sizes=[['q', 3]], qubit_labels=[['q', 0], ['q', 1], ['q', 2]]), status=DONE, metadata={'active_input_qubits': [0, 1, 2], 'batched_shots_optimization': False, 'device': 'CPU', 'fusion': {'enabled': False}, 'input_qubit_map': [[2, 2], [1, 1], [0, 0]], 'measure_sampling': True, 'method': 'stabilizer', 'noise': 'ideal', 'num_clbits': 3, 'num_qubits': 3, 'parallel_shots': 1, 'parallel_state_update': 16, 'remapped_qubits': False, 'sample_measure_time': 0.003418572}, seed_simulator=417249451, time_taken=0.009916029), ExperimentResult(shots=4000, success=True, meas_level=2, data=ExperimentResultData(counts={'0x0': 981, '0x3': 961, '0x4': 1020, '0x7': 1038}), header=QobjExperimentHeader(clbit_labels=[['c', 0], ['c', 1], ['c', 2]], creg_sizes=[['c', 3]], global_phase=0.0, memory_slots=3, metadata={'clbits': [0, 1, 2], 'm_idx': [0, 0, 1]}, n_qubits=3, name='StateTomography_(0, 0, 1)', qreg_sizes=[['q', 3]], qubit_labels=[['q', 0], ['q', 1], ['q', 2]]), status=DONE, metadata={'active_input_qubits': [0, 1, 2], 'batched_shots_optimization': False, 'device': 'CPU', 'fusion': {'enabled': False}, 'input_qubit_map': [[2, 2], [1, 1], [0, 0]], 'measure_sampling': True, 'method': 'stabilizer', 'noise': 'ideal', 'num_clbits': 3, 'num_qubits': 3, 'parallel_shots': 1, 'parallel_state_update': 16, 'remapped_qubits': False, 'sample_measure_time': 0.0027013}, seed_simulator=417251564, time_taken=0.009102729), ExperimentResult(shots=4000, success=True, meas_level=2, data=ExperimentResultData(counts={'0x0': 1040, '0x3': 968, '0x4': 955, '0x7': 1037}), header=QobjExperimentHeader(clbit_labels=[['c', 0], ['c', 1], ['c', 2]], creg_sizes=[['c', 3]], global_phase=0.0, memory_slots=3, metadata={'clbits': [0, 1, 2], 'm_idx': [0, 0, 2]}, n_qubits=3, name='StateTomography_(0, 0, 2)', qreg_sizes=[['q', 3]], qubit_labels=[['q', 0], ['q', 1], ['q', 2]]), status=DONE, metadata={'active_input_qubits': [0, 1, 2], 'batched_shots_optimization': False, 'device': 'CPU', 'fusion': {'enabled': False}, 'input_qubit_map': [[2, 2], [1, 1], [0, 0]], 'measure_sampling': True, 'method': 'stabilizer', 'noise': 'ideal', 'num_clbits': 3, 'num_qubits': 3, 'parallel_shots': 1, 'parallel_state_update': 16, 'remapped_qubits': False, 'sample_measure_time': 0.003004448}, seed_simulator=417253677, time_taken=0.009640265), ExperimentResult(shots=4000, success=True, meas_level=2, data=ExperimentResultData(counts={'0x0': 975, '0x2': 1036, '0x5': 1010, '0x7': 979}), header=QobjExperimentHeader(clbit_labels=[['c', 0], ['c', 1], ['c', 2]], creg_sizes=[['c', 3]], global_phase=0.0, memory_slots=3, metadata={'clbits': [0, 1, 2], 'm_idx': [0, 1, 0]}, n_qubits=3, name='StateTomography_(0, 1, 0)', qreg_sizes=[['q', 3]], qubit_labels=[['q', 0], ['q', 1], ['q', 2]]), status=DONE, metadata={'active_input_qubits': [0, 1, 2], 'batched_shots_optimization': False, 'device': 'CPU', 'fusion': {'enabled': False}, 'input_qubit_map': [[2, 2], [1, 1], [0, 0]], 'measure_sampling': True, 'method': 'stabilizer', 'noise': 'ideal', 'num_clbits': 3, 'num_qubits': 3, 'parallel_shots': 1, 'parallel_state_update': 16, 'remapped_qubits': False, 'sample_measure_time': 0.00290195}, seed_simulator=417255790, time_taken=0.009346254), ExperimentResult(shots=4000, success=True, meas_level=2, data=ExperimentResultData(counts={'0x0': 491, '0x1': 527, '0x2': 526, '0x3': 449, '0x4': 552, '0x5': 491, '0x6': 452, '0x7': 512}), header=QobjExperimentHeader(clbit_labels=[['c', 0], ['c', 1], ['c', 2]], creg_sizes=[['c', 3]], global_phase=0.0, memory_slots=3, metadata={'clbits': [0, 1, 2], 'm_idx': [0, 1, 1]}, n_qubits=3, name='StateTomography_(0, 1, 1)', qreg_sizes=[['q', 3]], qubit_labels=[['q', 0], ['q', 1], ['q', 2]]), status=DONE, metadata={'active_input_qubits': [0, 1, 2], 'batched_shots_optimization': False, 'device': 'CPU', 'fusion': {'enabled': False}, 'input_qubit_map': [[2, 2], [1, 1], [0, 0]], 'measure_sampling': True, 'method': 'stabilizer', 'noise': 'ideal', 'num_clbits': 3, 'num_qubits': 3, 'parallel_shots': 1, 'parallel_state_update': 16, 'remapped_qubits': False, 'sample_measure_time': 0.002483718}, seed_simulator=417257903, time_taken=0.009084696), ExperimentResult(shots=4000, success=True, meas_level=2, data=ExperimentResultData(counts={'0x0': 484, '0x1': 497, '0x2': 540, '0x3': 477, '0x4': 521, '0x5': 487, '0x6': 485, '0x7': 509}), header=QobjExperimentHeader(clbit_labels=[['c', 0], ['c', 1], ['c', 2]], creg_sizes=[['c', 3]], global_phase=0.0, memory_slots=3, metadata={'clbits': [0, 1, 2], 'm_idx': [0, 1, 2]}, n_qubits=3, name='StateTomography_(0, 1, 2)', qreg_sizes=[['q', 3]], qubit_labels=[['q', 0], ['q', 1], ['q', 2]]), status=DONE, metadata={'active_input_qubits': [0, 1, 2], 'batched_shots_optimization': False, 'device': 'CPU', 'fusion': {'enabled': False}, 'input_qubit_map': [[2, 2], [1, 1], [0, 0]], 'measure_sampling': True, 'method': 'stabilizer', 'noise': 'ideal', 'num_clbits': 3, 'num_qubits': 3, 'parallel_shots': 1, 'parallel_state_update': 16, 'remapped_qubits': False, 'sample_measure_time': 0.002639332}, seed_simulator=417260016, time_taken=0.009153405), ExperimentResult(shots=4000, success=True, meas_level=2, data=ExperimentResultData(counts={'0x0': 1019, '0x2': 999, '0x5': 992, '0x7': 990}), header=QobjExperimentHeader(clbit_labels=[['c', 0], ['c', 1], ['c', 2]], creg_sizes=[['c', 3]], global_phase=0.0, memory_slots=3, metadata={'clbits': [0, 1, 2], 'm_idx': [0, 2, 0]}, n_qubits=3, name='StateTomography_(0, 2, 0)', qreg_sizes=[['q', 3]], qubit_labels=[['q', 0], ['q', 1], ['q', 2]]), status=DONE, metadata={'active_input_qubits': [0, 1, 2], 'batched_shots_optimization': False, 'device': 'CPU', 'fusion': {'enabled': False}, 'input_qubit_map': [[2, 2], [1, 1], [0, 0]], 'measure_sampling': True, 'method': 'stabilizer', 'noise': 'ideal', 'num_clbits': 3, 'num_qubits': 3, 'parallel_shots': 1, 'parallel_state_update': 16, 'remapped_qubits': False, 'sample_measure_time': 0.002986208}, seed_simulator=417262129, time_taken=0.009507209), ExperimentResult(shots=4000, success=True, meas_level=2, data=ExperimentResultData(counts={'0x0': 488, '0x1': 515, '0x2': 472, '0x3': 510, '0x4': 466, '0x5': 532, '0x6': 487, '0x7': 530}), header=QobjExperimentHeader(clbit_labels=[['c', 0], ['c', 1], ['c', 2]], creg_sizes=[['c', 3]], global_phase=0.0, memory_slots=3, metadata={'clbits': [0, 1, 2], 'm_idx': [0, 2, 1]}, n_qubits=3, name='StateTomography_(0, 2, 1)', qreg_sizes=[['q', 3]], qubit_labels=[['q', 0], ['q', 1], ['q', 2]]), status=DONE, metadata={'active_input_qubits': [0, 1, 2], 'batched_shots_optimization': False, 'device': 'CPU', 'fusion': {'enabled': False}, 'input_qubit_map': [[2, 2], [1, 1], [0, 0]], 'measure_sampling': True, 'method': 'stabilizer', 'noise': 'ideal', 'num_clbits': 3, 'num_qubits': 3, 'parallel_shots': 1, 'parallel_state_update': 16, 'remapped_qubits': False, 'sample_measure_time': 0.002628008}, seed_simulator=417264242, time_taken=0.009157264), ExperimentResult(shots=4000, success=True, meas_level=2, data=ExperimentResultData(counts={'0x0': 479, '0x1': 508, '0x2': 530, '0x3': 501, '0x4': 495, '0x5': 484, '0x6': 483, '0x7': 520}), header=QobjExperimentHeader(clbit_labels=[['c', 0], ['c', 1], ['c', 2]], creg_sizes=[['c', 3]], global_phase=0.0, memory_slots=3, metadata={'clbits': [0, 1, 2], 'm_idx': [0, 2, 2]}, n_qubits=3, name='StateTomography_(0, 2, 2)', qreg_sizes=[['q', 3]], qubit_labels=[['q', 0], ['q', 1], ['q', 2]]), status=DONE, metadata={'active_input_qubits': [0, 1, 2], 'batched_shots_optimization': False, 'device': 'CPU', 'fusion': {'enabled': False}, 'input_qubit_map': [[2, 2], [1, 1], [0, 0]], 'measure_sampling': True, 'method': 'stabilizer', 'noise': 'ideal', 'num_clbits': 3, 'num_qubits': 3, 'parallel_shots': 1, 'parallel_state_update': 16, 'remapped_qubits': False, 'sample_measure_time': 0.002787689}, seed_simulator=417266355, time_taken=0.009220113), ExperimentResult(shots=4000, success=True, meas_level=2, data=ExperimentResultData(counts={'0x0': 1040, '0x1': 1010, '0x6': 968, '0x7': 982}), header=QobjExperimentHeader(clbit_labels=[['c', 0], ['c', 1], ['c', 2]], creg_sizes=[['c', 3]], global_phase=0.0, memory_slots=3, metadata={'clbits': [0, 1, 2], 'm_idx': [1, 0, 0]}, n_qubits=3, name='StateTomography_(1, 0, 0)', qreg_sizes=[['q', 3]], qubit_labels=[['q', 0], ['q', 1], ['q', 2]]), status=DONE, metadata={'active_input_qubits': [0, 1, 2], 'batched_shots_optimization': False, 'device': 'CPU', 'fusion': {'enabled': False}, 'input_qubit_map': [[2, 2], [1, 1], [0, 0]], 'measure_sampling': True, 'method': 'stabilizer', 'noise': 'ideal', 'num_clbits': 3, 'num_qubits': 3, 'parallel_shots': 1, 'parallel_state_update': 16, 'remapped_qubits': False, 'sample_measure_time': 0.002849389}, seed_simulator=417268468, time_taken=0.00934532), ExperimentResult(shots=4000, success=True, meas_level=2, data=ExperimentResultData(counts={'0x0': 469, '0x1': 496, '0x2': 525, '0x3': 527, '0x4': 504, '0x5': 517, '0x6': 524, '0x7': 438}), header=QobjExperimentHeader(clbit_labels=[['c', 0], ['c', 1], ['c', 2]], creg_sizes=[['c', 3]], global_phase=0.0, memory_slots=3, metadata={'clbits': [0, 1, 2], 'm_idx': [1, 0, 1]}, n_qubits=3, name='StateTomography_(1, 0, 1)', qreg_sizes=[['q', 3]], qubit_labels=[['q', 0], ['q', 1], ['q', 2]]), status=DONE, metadata={'active_input_qubits': [0, 1, 2], 'batched_shots_optimization': False, 'device': 'CPU', 'fusion': {'enabled': False}, 'input_qubit_map': [[2, 2], [1, 1], [0, 0]], 'measure_sampling': True, 'method': 'stabilizer', 'noise': 'ideal', 'num_clbits': 3, 'num_qubits': 3, 'parallel_shots': 1, 'parallel_state_update': 16, 'remapped_qubits': False, 'sample_measure_time': 0.002490926}, seed_simulator=417270581, time_taken=0.009020309), ExperimentResult(shots=4000, success=True, meas_level=2, data=ExperimentResultData(counts={'0x0': 500, '0x1': 530, '0x2': 473, '0x3': 471, '0x4': 534, '0x5': 513, '0x6': 506, '0x7': 473}), header=QobjExperimentHeader(clbit_labels=[['c', 0], ['c', 1], ['c', 2]], creg_sizes=[['c', 3]], global_phase=0.0, memory_slots=3, metadata={'clbits': [0, 1, 2], 'm_idx': [1, 0, 2]}, n_qubits=3, name='StateTomography_(1, 0, 2)', qreg_sizes=[['q', 3]], qubit_labels=[['q', 0], ['q', 1], ['q', 2]]), status=DONE, metadata={'active_input_qubits': [0, 1, 2], 'batched_shots_optimization': False, 'device': 'CPU', 'fusion': {'enabled': False}, 'input_qubit_map': [[2, 2], [1, 1], [0, 0]], 'measure_sampling': True, 'method': 'stabilizer', 'noise': 'ideal', 'num_clbits': 3, 'num_qubits': 3, 'parallel_shots': 1, 'parallel_state_update': 16, 'remapped_qubits': False, 'sample_measure_time': 0.002656764}, seed_simulator=417272694, time_taken=0.009239117), ExperimentResult(shots=4000, success=True, meas_level=2, data=ExperimentResultData(counts={'0x0': 523, '0x1': 506, '0x2': 496, '0x3': 501, '0x4': 567, '0x5': 460, '0x6': 474, '0x7': 473}), header=QobjExperimentHeader(clbit_labels=[['c', 0], ['c', 1], ['c', 2]], creg_sizes=[['c', 3]], global_phase=0.0, memory_slots=3, metadata={'clbits': [0, 1, 2], 'm_idx': [1, 1, 0]}, n_qubits=3, name='StateTomography_(1, 1, 0)', qreg_sizes=[['q', 3]], qubit_labels=[['q', 0], ['q', 1], ['q', 2]]), status=DONE, metadata={'active_input_qubits': [0, 1, 2], 'batched_shots_optimization': False, 'device': 'CPU', 'fusion': {'enabled': False}, 'input_qubit_map': [[2, 2], [1, 1], [0, 0]], 'measure_sampling': True, 'method': 'stabilizer', 'noise': 'ideal', 'num_clbits': 3, 'num_qubits': 3, 'parallel_shots': 1, 'parallel_state_update': 16, 'remapped_qubits': False, 'sample_measure_time': 0.002765248}, seed_simulator=417274807, time_taken=0.00928444), ExperimentResult(shots=4000, success=True, meas_level=2, data=ExperimentResultData(counts={'0x0': 982, '0x3': 998, '0x5': 1014, '0x6': 1006}), header=QobjExperimentHeader(clbit_labels=[['c', 0], ['c', 1], ['c', 2]], creg_sizes=[['c', 3]], global_phase=0.0, memory_slots=3, metadata={'clbits': [0, 1, 2], 'm_idx': [1, 1, 1]}, n_qubits=3, name='StateTomography_(1, 1, 1)', qreg_sizes=[['q', 3]], qubit_labels=[['q', 0], ['q', 1], ['q', 2]]), status=DONE, metadata={'active_input_qubits': [0, 1, 2], 'batched_shots_optimization': False, 'device': 'CPU', 'fusion': {'enabled': False}, 'input_qubit_map': [[2, 2], [1, 1], [0, 0]], 'measure_sampling': True, 'method': 'stabilizer', 'noise': 'ideal', 'num_clbits': 3, 'num_qubits': 3, 'parallel_shots': 1, 'parallel_state_update': 16, 'remapped_qubits': False, 'sample_measure_time': 0.003293336}, seed_simulator=417276920, time_taken=0.009762409), ExperimentResult(shots=4000, success=True, meas_level=2, data=ExperimentResultData(counts={'0x0': 514, '0x1': 477, '0x2': 531, '0x3': 477, '0x4': 490, '0x5': 540, '0x6': 493, '0x7': 478}), header=QobjExperimentHeader(clbit_labels=[['c', 0], ['c', 1], ['c', 2]], creg_sizes=[['c', 3]], global_phase=0.0, memory_slots=3, metadata={'clbits': [0, 1, 2], 'm_idx': [1, 1, 2]}, n_qubits=3, name='StateTomography_(1, 1, 2)', qreg_sizes=[['q', 3]], qubit_labels=[['q', 0], ['q', 1], ['q', 2]]), status=DONE, metadata={'active_input_qubits': [0, 1, 2], 'batched_shots_optimization': False, 'device': 'CPU', 'fusion': {'enabled': False}, 'input_qubit_map': [[2, 2], [1, 1], [0, 0]], 'measure_sampling': True, 'method': 'stabilizer', 'noise': 'ideal', 'num_clbits': 3, 'num_qubits': 3, 'parallel_shots': 1, 'parallel_state_update': 16, 'remapped_qubits': False, 'sample_measure_time': 0.003079313}, seed_simulator=417279033, time_taken=0.009584944), ExperimentResult(shots=4000, success=True, meas_level=2, data=ExperimentResultData(counts={'0x0': 492, '0x1': 515, '0x2': 495, '0x3': 516, '0x4': 480, '0x5': 504, '0x6': 497, '0x7': 501}), header=QobjExperimentHeader(clbit_labels=[['c', 0], ['c', 1], ['c', 2]], creg_sizes=[['c', 3]], global_phase=0.0, memory_slots=3, metadata={'clbits': [0, 1, 2], 'm_idx': [1, 2, 0]}, n_qubits=3, name='StateTomography_(1, 2, 0)', qreg_sizes=[['q', 3]], qubit_labels=[['q', 0], ['q', 1], ['q', 2]]), status=DONE, metadata={'active_input_qubits': [0, 1, 2], 'batched_shots_optimization': False, 'device': 'CPU', 'fusion': {'enabled': False}, 'input_qubit_map': [[2, 2], [1, 1], [0, 0]], 'measure_sampling': True, 'method': 'stabilizer', 'noise': 'ideal', 'num_clbits': 3, 'num_qubits': 3, 'parallel_shots': 1, 'parallel_state_update': 16, 'remapped_qubits': False, 'sample_measure_time': 0.003054447}, seed_simulator=417281146, time_taken=0.009534554), ExperimentResult(shots=4000, success=True, meas_level=2, data=ExperimentResultData(counts={'0x0': 535, '0x1': 497, '0x2': 496, '0x3': 484, '0x4': 511, '0x5': 472, '0x6': 473, '0x7': 532}), header=QobjExperimentHeader(clbit_labels=[['c', 0], ['c', 1], ['c', 2]], creg_sizes=[['c', 3]], global_phase=0.0, memory_slots=3, metadata={'clbits': [0, 1, 2], 'm_idx': [1, 2, 1]}, n_qubits=3, name='StateTomography_(1, 2, 1)', qreg_sizes=[['q', 3]], qubit_labels=[['q', 0], ['q', 1], ['q', 2]]), status=DONE, metadata={'active_input_qubits': [0, 1, 2], 'batched_shots_optimization': False, 'device': 'CPU', 'fusion': {'enabled': False}, 'input_qubit_map': [[2, 2], [1, 1], [0, 0]], 'measure_sampling': True, 'method': 'stabilizer', 'noise': 'ideal', 'num_clbits': 3, 'num_qubits': 3, 'parallel_shots': 1, 'parallel_state_update': 16, 'remapped_qubits': False, 'sample_measure_time': 0.002782132}, seed_simulator=417283259, time_taken=0.009291585), ExperimentResult(shots=4000, success=True, meas_level=2, data=ExperimentResultData(counts={'0x1': 1035, '0x2': 993, '0x4': 964, '0x7': 1008}), header=QobjExperimentHeader(clbit_labels=[['c', 0], ['c', 1], ['c', 2]], creg_sizes=[['c', 3]], global_phase=0.0, memory_slots=3, metadata={'clbits': [0, 1, 2], 'm_idx': [1, 2, 2]}, n_qubits=3, name='StateTomography_(1, 2, 2)', qreg_sizes=[['q', 3]], qubit_labels=[['q', 0], ['q', 1], ['q', 2]]), status=DONE, metadata={'active_input_qubits': [0, 1, 2], 'batched_shots_optimization': False, 'device': 'CPU', 'fusion': {'enabled': False}, 'input_qubit_map': [[2, 2], [1, 1], [0, 0]], 'measure_sampling': True, 'method': 'stabilizer', 'noise': 'ideal', 'num_clbits': 3, 'num_qubits': 3, 'parallel_shots': 1, 'parallel_state_update': 16, 'remapped_qubits': False, 'sample_measure_time': 0.003297843}, seed_simulator=417285372, time_taken=0.009844248), ExperimentResult(shots=4000, success=True, meas_level=2, data=ExperimentResultData(counts={'0x0': 987, '0x1': 1000, '0x6': 989, '0x7': 1024}), header=QobjExperimentHeader(clbit_labels=[['c', 0], ['c', 1], ['c', 2]], creg_sizes=[['c', 3]], global_phase=0.0, memory_slots=3, metadata={'clbits': [0, 1, 2], 'm_idx': [2, 0, 0]}, n_qubits=3, name='StateTomography_(2, 0, 0)', qreg_sizes=[['q', 3]], qubit_labels=[['q', 0], ['q', 1], ['q', 2]]), status=DONE, metadata={'active_input_qubits': [0, 1, 2], 'batched_shots_optimization': False, 'device': 'CPU', 'fusion': {'enabled': False}, 'input_qubit_map': [[2, 2], [1, 1], [0, 0]], 'measure_sampling': True, 'method': 'stabilizer', 'noise': 'ideal', 'num_clbits': 3, 'num_qubits': 3, 'parallel_shots': 1, 'parallel_state_update': 16, 'remapped_qubits': False, 'sample_measure_time': 0.00310581}, seed_simulator=417287485, time_taken=0.009640892), ExperimentResult(shots=4000, success=True, meas_level=2, data=ExperimentResultData(counts={'0x0': 467, '0x1': 550, '0x2': 473, '0x3': 510, '0x4': 495, '0x5': 522, '0x6': 521, '0x7': 462}), header=QobjExperimentHeader(clbit_labels=[['c', 0], ['c', 1], ['c', 2]], creg_sizes=[['c', 3]], global_phase=0.0, memory_slots=3, metadata={'clbits': [0, 1, 2], 'm_idx': [2, 0, 1]}, n_qubits=3, name='StateTomography_(2, 0, 1)', qreg_sizes=[['q', 3]], qubit_labels=[['q', 0], ['q', 1], ['q', 2]]), status=DONE, metadata={'active_input_qubits': [0, 1, 2], 'batched_shots_optimization': False, 'device': 'CPU', 'fusion': {'enabled': False}, 'input_qubit_map': [[2, 2], [1, 1], [0, 0]], 'measure_sampling': True, 'method': 'stabilizer', 'noise': 'ideal', 'num_clbits': 3, 'num_qubits': 3, 'parallel_shots': 1, 'parallel_state_update': 16, 'remapped_qubits': False, 'sample_measure_time': 0.002730072}, seed_simulator=417289598, time_taken=0.009395558), ExperimentResult(shots=4000, success=True, meas_level=2, data=ExperimentResultData(counts={'0x0': 498, '0x1': 476, '0x2': 481, '0x3': 530, '0x4': 487, '0x5': 482, '0x6': 517, '0x7': 529}), header=QobjExperimentHeader(clbit_labels=[['c', 0], ['c', 1], ['c', 2]], creg_sizes=[['c', 3]], global_phase=0.0, memory_slots=3, metadata={'clbits': [0, 1, 2], 'm_idx': [2, 0, 2]}, n_qubits=3, name='StateTomography_(2, 0, 2)', qreg_sizes=[['q', 3]], qubit_labels=[['q', 0], ['q', 1], ['q', 2]]), status=DONE, metadata={'active_input_qubits': [0, 1, 2], 'batched_shots_optimization': False, 'device': 'CPU', 'fusion': {'enabled': False}, 'input_qubit_map': [[2, 2], [1, 1], [0, 0]], 'measure_sampling': True, 'method': 'stabilizer', 'noise': 'ideal', 'num_clbits': 3, 'num_qubits': 3, 'parallel_shots': 1, 'parallel_state_update': 16, 'remapped_qubits': False, 'sample_measure_time': 0.002900581}, seed_simulator=417291711, time_taken=0.0093127), ExperimentResult(shots=4000, success=True, meas_level=2, data=ExperimentResultData(counts={'0x0': 510, '0x1': 496, '0x2': 491, '0x3': 505, '0x4': 479, '0x5': 535, '0x6': 506, '0x7': 478}), header=QobjExperimentHeader(clbit_labels=[['c', 0], ['c', 1], ['c', 2]], creg_sizes=[['c', 3]], global_phase=0.0, memory_slots=3, metadata={'clbits': [0, 1, 2], 'm_idx': [2, 1, 0]}, n_qubits=3, name='StateTomography_(2, 1, 0)', qreg_sizes=[['q', 3]], qubit_labels=[['q', 0], ['q', 1], ['q', 2]]), status=DONE, metadata={'active_input_qubits': [0, 1, 2], 'batched_shots_optimization': False, 'device': 'CPU', 'fusion': {'enabled': False}, 'input_qubit_map': [[2, 2], [1, 1], [0, 0]], 'measure_sampling': True, 'method': 'stabilizer', 'noise': 'ideal', 'num_clbits': 3, 'num_qubits': 3, 'parallel_shots': 1, 'parallel_state_update': 16, 'remapped_qubits': False, 'sample_measure_time': 0.003031767}, seed_simulator=417293824, time_taken=0.009613907), ExperimentResult(shots=4000, success=True, meas_level=2, data=ExperimentResultData(counts={'0x0': 480, '0x1': 521, '0x2': 500, '0x3': 519, '0x4': 469, '0x5': 526, '0x6': 521, '0x7': 464}), header=QobjExperimentHeader(clbit_labels=[['c', 0], ['c', 1], ['c', 2]], creg_sizes=[['c', 3]], global_phase=0.0, memory_slots=3, metadata={'clbits': [0, 1, 2], 'm_idx': [2, 1, 1]}, n_qubits=3, name='StateTomography_(2, 1, 1)', qreg_sizes=[['q', 3]], qubit_labels=[['q', 0], ['q', 1], ['q', 2]]), status=DONE, metadata={'active_input_qubits': [0, 1, 2], 'batched_shots_optimization': False, 'device': 'CPU', 'fusion': {'enabled': False}, 'input_qubit_map': [[2, 2], [1, 1], [0, 0]], 'measure_sampling': True, 'method': 'stabilizer', 'noise': 'ideal', 'num_clbits': 3, 'num_qubits': 3, 'parallel_shots': 1, 'parallel_state_update': 16, 'remapped_qubits': False, 'sample_measure_time': 0.002663012}, seed_simulator=417295937, time_taken=0.009211835), ExperimentResult(shots=4000, success=True, meas_level=2, data=ExperimentResultData(counts={'0x1': 1009, '0x2': 987, '0x4': 1001, '0x7': 1003}), header=QobjExperimentHeader(clbit_labels=[['c', 0], ['c', 1], ['c', 2]], creg_sizes=[['c', 3]], global_phase=0.0, memory_slots=3, metadata={'clbits': [0, 1, 2], 'm_idx': [2, 1, 2]}, n_qubits=3, name='StateTomography_(2, 1, 2)', qreg_sizes=[['q', 3]], qubit_labels=[['q', 0], ['q', 1], ['q', 2]]), status=DONE, metadata={'active_input_qubits': [0, 1, 2], 'batched_shots_optimization': False, 'device': 'CPU', 'fusion': {'enabled': False}, 'input_qubit_map': [[2, 2], [1, 1], [0, 0]], 'measure_sampling': True, 'method': 'stabilizer', 'noise': 'ideal', 'num_clbits': 3, 'num_qubits': 3, 'parallel_shots': 1, 'parallel_state_update': 16, 'remapped_qubits': False, 'sample_measure_time': 0.003129479}, seed_simulator=417298050, time_taken=0.009544538), ExperimentResult(shots=4000, success=True, meas_level=2, data=ExperimentResultData(counts={'0x0': 485, '0x1': 510, '0x2': 521, '0x3': 505, '0x4': 505, '0x5': 506, '0x6': 497, '0x7': 471}), header=QobjExperimentHeader(clbit_labels=[['c', 0], ['c', 1], ['c', 2]], creg_sizes=[['c', 3]], global_phase=0.0, memory_slots=3, metadata={'clbits': [0, 1, 2], 'm_idx': [2, 2, 0]}, n_qubits=3, name='StateTomography_(2, 2, 0)', qreg_sizes=[['q', 3]], qubit_labels=[['q', 0], ['q', 1], ['q', 2]]), status=DONE, metadata={'active_input_qubits': [0, 1, 2], 'batched_shots_optimization': False, 'device': 'CPU', 'fusion': {'enabled': False}, 'input_qubit_map': [[2, 2], [1, 1], [0, 0]], 'measure_sampling': True, 'method': 'stabilizer', 'noise': 'ideal', 'num_clbits': 3, 'num_qubits': 3, 'parallel_shots': 1, 'parallel_state_update': 16, 'remapped_qubits': False, 'sample_measure_time': 0.002966281}, seed_simulator=417300163, time_taken=0.009632709), ExperimentResult(shots=4000, success=True, meas_level=2, data=ExperimentResultData(counts={'0x1': 994, '0x2': 997, '0x4': 1031, '0x7': 978}), header=QobjExperimentHeader(clbit_labels=[['c', 0], ['c', 1], ['c', 2]], creg_sizes=[['c', 3]], global_phase=0.0, memory_slots=3, metadata={'clbits': [0, 1, 2], 'm_idx': [2, 2, 1]}, n_qubits=3, name='StateTomography_(2, 2, 1)', qreg_sizes=[['q', 3]], qubit_labels=[['q', 0], ['q', 1], ['q', 2]]), status=DONE, metadata={'active_input_qubits': [0, 1, 2], 'batched_shots_optimization': False, 'device': 'CPU', 'fusion': {'enabled': False}, 'input_qubit_map': [[2, 2], [1, 1], [0, 0]], 'measure_sampling': True, 'method': 'stabilizer', 'noise': 'ideal', 'num_clbits': 3, 'num_qubits': 3, 'parallel_shots': 1, 'parallel_state_update': 16, 'remapped_qubits': False, 'sample_measure_time': 0.003349675}, seed_simulator=417302276, time_taken=0.009893236), ExperimentResult(shots=4000, success=True, meas_level=2, data=ExperimentResultData(counts={'0x0': 478, '0x1': 540, '0x2': 503, '0x3': 526, '0x4': 489, '0x5': 504, '0x6': 485, '0x7': 475}), header=QobjExperimentHeader(clbit_labels=[['c', 0], ['c', 1], ['c', 2]], creg_sizes=[['c', 3]], global_phase=0.0, memory_slots=3, metadata={'clbits': [0, 1, 2], 'm_idx': [2, 2, 2]}, n_qubits=3, name='StateTomography_(2, 2, 2)', qreg_sizes=[['q', 3]], qubit_labels=[['q', 0], ['q', 1], ['q', 2]]), status=DONE, metadata={'active_input_qubits': [0, 1, 2], 'batched_shots_optimization': False, 'device': 'CPU', 'fusion': {'enabled': False}, 'input_qubit_map': [[2, 2], [1, 1], [0, 0]], 'measure_sampling': True, 'method': 'stabilizer', 'noise': 'ideal', 'num_clbits': 3, 'num_qubits': 3, 'parallel_shots': 1, 'parallel_state_update': 16, 'remapped_qubits': False, 'sample_measure_time': 0.002927278}, seed_simulator=417304389, time_taken=0.009662482)], date=2022-12-06 21:12:29.650031-08:00, status=COMPLETED, header=QobjHeader(backend_name='ibmq_qasm_simulator', backend_version='0.1.547'), metadata={'max_gpu_memory_mb': 0, 'max_memory_mb': 386782, 'mpi_rank': 0, 'num_mpi_processes': 1, 'num_processes_per_experiments': 1, 'omp_enabled': True, 'parallel_experiments': 1, 'time_taken': 0.256857927, 'time_taken_execute': 0.25526968, 'time_taken_load_qobj': 0.001575589}, time_taken=0.256857927, client_version={'qiskit': '0.39.3'})>"
      ]
     },
     "execution_count": 27,
     "metadata": {},
     "output_type": "execute_result"
    }
   ],
   "source": [
    "result.data"
   ]
  },
  {
   "cell_type": "code",
   "execution_count": 44,
   "metadata": {},
   "outputs": [],
   "source": [
    "st_analysis = tomography.StateTomographyAnalysis()\n",
    "qst_exp_res = st_analysis.run(qst_exp_data)"
   ]
  },
  {
   "cell_type": "code",
   "execution_count": 45,
   "metadata": {},
   "outputs": [
    {
     "data": {
      "text/plain": [
       "[{'counts': {'000': 2005, '111': 1995},\n",
       "  'job_id': '636c55240565be2b3600742c',\n",
       "  'metadata': {'clbits': [0, 1, 2], 'm_idx': [0, 0, 0]},\n",
       "  'shots': 4000,\n",
       "  'meas_level': <MeasLevel.CLASSIFIED: 2>},\n",
       " {'counts': {'000': 1013, '011': 942, '100': 1042, '111': 1003},\n",
       "  'job_id': '636c55240565be2b3600742c',\n",
       "  'metadata': {'clbits': [0, 1, 2], 'm_idx': [0, 0, 1]},\n",
       "  'shots': 4000,\n",
       "  'meas_level': <MeasLevel.CLASSIFIED: 2>},\n",
       " {'counts': {'000': 1019, '011': 1005, '100': 980, '111': 996},\n",
       "  'job_id': '636c55240565be2b3600742c',\n",
       "  'metadata': {'clbits': [0, 1, 2], 'm_idx': [0, 0, 2]},\n",
       "  'shots': 4000,\n",
       "  'meas_level': <MeasLevel.CLASSIFIED: 2>},\n",
       " {'counts': {'000': 951, '010': 990, '101': 1017, '111': 1042},\n",
       "  'job_id': '636c55240565be2b3600742c',\n",
       "  'metadata': {'clbits': [0, 1, 2], 'm_idx': [0, 1, 0]},\n",
       "  'shots': 4000,\n",
       "  'meas_level': <MeasLevel.CLASSIFIED: 2>},\n",
       " {'counts': {'000': 482,\n",
       "   '001': 490,\n",
       "   '010': 517,\n",
       "   '011': 468,\n",
       "   '100': 511,\n",
       "   '101': 517,\n",
       "   '110': 513,\n",
       "   '111': 502},\n",
       "  'job_id': '636c55240565be2b3600742c',\n",
       "  'metadata': {'clbits': [0, 1, 2], 'm_idx': [0, 1, 1]},\n",
       "  'shots': 4000,\n",
       "  'meas_level': <MeasLevel.CLASSIFIED: 2>},\n",
       " {'counts': {'000': 482,\n",
       "   '001': 509,\n",
       "   '010': 486,\n",
       "   '011': 473,\n",
       "   '100': 515,\n",
       "   '101': 512,\n",
       "   '110': 516,\n",
       "   '111': 507},\n",
       "  'job_id': '636c55240565be2b3600742c',\n",
       "  'metadata': {'clbits': [0, 1, 2], 'm_idx': [0, 1, 2]},\n",
       "  'shots': 4000,\n",
       "  'meas_level': <MeasLevel.CLASSIFIED: 2>},\n",
       " {'counts': {'000': 991, '010': 987, '101': 990, '111': 1032},\n",
       "  'job_id': '636c55240565be2b3600742c',\n",
       "  'metadata': {'clbits': [0, 1, 2], 'm_idx': [0, 2, 0]},\n",
       "  'shots': 4000,\n",
       "  'meas_level': <MeasLevel.CLASSIFIED: 2>},\n",
       " {'counts': {'000': 504,\n",
       "   '001': 483,\n",
       "   '010': 493,\n",
       "   '011': 503,\n",
       "   '100': 521,\n",
       "   '101': 506,\n",
       "   '110': 506,\n",
       "   '111': 484},\n",
       "  'job_id': '636c55240565be2b3600742c',\n",
       "  'metadata': {'clbits': [0, 1, 2], 'm_idx': [0, 2, 1]},\n",
       "  'shots': 4000,\n",
       "  'meas_level': <MeasLevel.CLASSIFIED: 2>},\n",
       " {'counts': {'000': 490,\n",
       "   '001': 502,\n",
       "   '010': 533,\n",
       "   '011': 479,\n",
       "   '100': 496,\n",
       "   '101': 504,\n",
       "   '110': 490,\n",
       "   '111': 506},\n",
       "  'job_id': '636c55240565be2b3600742c',\n",
       "  'metadata': {'clbits': [0, 1, 2], 'm_idx': [0, 2, 2]},\n",
       "  'shots': 4000,\n",
       "  'meas_level': <MeasLevel.CLASSIFIED: 2>},\n",
       " {'counts': {'000': 1016, '001': 1022, '110': 956, '111': 1006},\n",
       "  'job_id': '636c55240565be2b3600742c',\n",
       "  'metadata': {'clbits': [0, 1, 2], 'm_idx': [1, 0, 0]},\n",
       "  'shots': 4000,\n",
       "  'meas_level': <MeasLevel.CLASSIFIED: 2>},\n",
       " {'counts': {'000': 500,\n",
       "   '001': 521,\n",
       "   '010': 505,\n",
       "   '011': 471,\n",
       "   '100': 484,\n",
       "   '101': 509,\n",
       "   '110': 502,\n",
       "   '111': 508},\n",
       "  'job_id': '636c55240565be2b3600742c',\n",
       "  'metadata': {'clbits': [0, 1, 2], 'm_idx': [1, 0, 1]},\n",
       "  'shots': 4000,\n",
       "  'meas_level': <MeasLevel.CLASSIFIED: 2>},\n",
       " {'counts': {'000': 495,\n",
       "   '001': 476,\n",
       "   '010': 540,\n",
       "   '011': 504,\n",
       "   '100': 449,\n",
       "   '101': 516,\n",
       "   '110': 513,\n",
       "   '111': 507},\n",
       "  'job_id': '636c55240565be2b3600742c',\n",
       "  'metadata': {'clbits': [0, 1, 2], 'm_idx': [1, 0, 2]},\n",
       "  'shots': 4000,\n",
       "  'meas_level': <MeasLevel.CLASSIFIED: 2>},\n",
       " {'counts': {'000': 473,\n",
       "   '001': 482,\n",
       "   '010': 477,\n",
       "   '011': 481,\n",
       "   '100': 504,\n",
       "   '101': 568,\n",
       "   '110': 501,\n",
       "   '111': 514},\n",
       "  'job_id': '636c55240565be2b3600742c',\n",
       "  'metadata': {'clbits': [0, 1, 2], 'm_idx': [1, 1, 0]},\n",
       "  'shots': 4000,\n",
       "  'meas_level': <MeasLevel.CLASSIFIED: 2>},\n",
       " {'counts': {'000': 1071, '011': 1022, '101': 969, '110': 938},\n",
       "  'job_id': '636c55240565be2b3600742c',\n",
       "  'metadata': {'clbits': [0, 1, 2], 'm_idx': [1, 1, 1]},\n",
       "  'shots': 4000,\n",
       "  'meas_level': <MeasLevel.CLASSIFIED: 2>},\n",
       " {'counts': {'000': 503,\n",
       "   '001': 466,\n",
       "   '010': 507,\n",
       "   '011': 490,\n",
       "   '100': 499,\n",
       "   '101': 535,\n",
       "   '110': 484,\n",
       "   '111': 516},\n",
       "  'job_id': '636c55240565be2b3600742c',\n",
       "  'metadata': {'clbits': [0, 1, 2], 'm_idx': [1, 1, 2]},\n",
       "  'shots': 4000,\n",
       "  'meas_level': <MeasLevel.CLASSIFIED: 2>},\n",
       " {'counts': {'000': 444,\n",
       "   '001': 531,\n",
       "   '010': 509,\n",
       "   '011': 528,\n",
       "   '100': 483,\n",
       "   '101': 506,\n",
       "   '110': 495,\n",
       "   '111': 504},\n",
       "  'job_id': '636c55240565be2b3600742c',\n",
       "  'metadata': {'clbits': [0, 1, 2], 'm_idx': [1, 2, 0]},\n",
       "  'shots': 4000,\n",
       "  'meas_level': <MeasLevel.CLASSIFIED: 2>},\n",
       " {'counts': {'000': 557,\n",
       "   '001': 484,\n",
       "   '010': 515,\n",
       "   '011': 504,\n",
       "   '100': 496,\n",
       "   '101': 509,\n",
       "   '110': 474,\n",
       "   '111': 461},\n",
       "  'job_id': '636c55240565be2b3600742c',\n",
       "  'metadata': {'clbits': [0, 1, 2], 'm_idx': [1, 2, 1]},\n",
       "  'shots': 4000,\n",
       "  'meas_level': <MeasLevel.CLASSIFIED: 2>},\n",
       " {'counts': {'001': 1019, '010': 992, '100': 1001, '111': 988},\n",
       "  'job_id': '636c55240565be2b3600742c',\n",
       "  'metadata': {'clbits': [0, 1, 2], 'm_idx': [1, 2, 2]},\n",
       "  'shots': 4000,\n",
       "  'meas_level': <MeasLevel.CLASSIFIED: 2>},\n",
       " {'counts': {'000': 1074, '001': 919, '110': 1011, '111': 996},\n",
       "  'job_id': '636c55240565be2b3600742c',\n",
       "  'metadata': {'clbits': [0, 1, 2], 'm_idx': [2, 0, 0]},\n",
       "  'shots': 4000,\n",
       "  'meas_level': <MeasLevel.CLASSIFIED: 2>},\n",
       " {'counts': {'000': 504,\n",
       "   '001': 524,\n",
       "   '010': 497,\n",
       "   '011': 467,\n",
       "   '100': 495,\n",
       "   '101': 537,\n",
       "   '110': 484,\n",
       "   '111': 492},\n",
       "  'job_id': '636c55240565be2b3600742c',\n",
       "  'metadata': {'clbits': [0, 1, 2], 'm_idx': [2, 0, 1]},\n",
       "  'shots': 4000,\n",
       "  'meas_level': <MeasLevel.CLASSIFIED: 2>},\n",
       " {'counts': {'000': 495,\n",
       "   '001': 497,\n",
       "   '010': 516,\n",
       "   '011': 492,\n",
       "   '100': 491,\n",
       "   '101': 493,\n",
       "   '110': 494,\n",
       "   '111': 522},\n",
       "  'job_id': '636c55240565be2b3600742c',\n",
       "  'metadata': {'clbits': [0, 1, 2], 'm_idx': [2, 0, 2]},\n",
       "  'shots': 4000,\n",
       "  'meas_level': <MeasLevel.CLASSIFIED: 2>},\n",
       " {'counts': {'000': 479,\n",
       "   '001': 500,\n",
       "   '010': 505,\n",
       "   '011': 515,\n",
       "   '100': 478,\n",
       "   '101': 506,\n",
       "   '110': 510,\n",
       "   '111': 507},\n",
       "  'job_id': '636c55240565be2b3600742c',\n",
       "  'metadata': {'clbits': [0, 1, 2], 'm_idx': [2, 1, 0]},\n",
       "  'shots': 4000,\n",
       "  'meas_level': <MeasLevel.CLASSIFIED: 2>},\n",
       " {'counts': {'000': 524,\n",
       "   '001': 522,\n",
       "   '010': 501,\n",
       "   '011': 466,\n",
       "   '100': 501,\n",
       "   '101': 512,\n",
       "   '110': 475,\n",
       "   '111': 499},\n",
       "  'job_id': '636c55240565be2b3600742c',\n",
       "  'metadata': {'clbits': [0, 1, 2], 'm_idx': [2, 1, 1]},\n",
       "  'shots': 4000,\n",
       "  'meas_level': <MeasLevel.CLASSIFIED: 2>},\n",
       " {'counts': {'001': 972, '010': 1028, '100': 986, '111': 1014},\n",
       "  'job_id': '636c55240565be2b3600742c',\n",
       "  'metadata': {'clbits': [0, 1, 2], 'm_idx': [2, 1, 2]},\n",
       "  'shots': 4000,\n",
       "  'meas_level': <MeasLevel.CLASSIFIED: 2>},\n",
       " {'counts': {'000': 513,\n",
       "   '001': 517,\n",
       "   '010': 496,\n",
       "   '011': 482,\n",
       "   '100': 467,\n",
       "   '101': 478,\n",
       "   '110': 528,\n",
       "   '111': 519},\n",
       "  'job_id': '636c55240565be2b3600742c',\n",
       "  'metadata': {'clbits': [0, 1, 2], 'm_idx': [2, 2, 0]},\n",
       "  'shots': 4000,\n",
       "  'meas_level': <MeasLevel.CLASSIFIED: 2>},\n",
       " {'counts': {'001': 1016, '010': 990, '100': 997, '111': 997},\n",
       "  'job_id': '636c55240565be2b3600742c',\n",
       "  'metadata': {'clbits': [0, 1, 2], 'm_idx': [2, 2, 1]},\n",
       "  'shots': 4000,\n",
       "  'meas_level': <MeasLevel.CLASSIFIED: 2>},\n",
       " {'counts': {'000': 543,\n",
       "   '001': 478,\n",
       "   '010': 464,\n",
       "   '011': 528,\n",
       "   '100': 490,\n",
       "   '101': 496,\n",
       "   '110': 501,\n",
       "   '111': 500},\n",
       "  'job_id': '636c55240565be2b3600742c',\n",
       "  'metadata': {'clbits': [0, 1, 2], 'm_idx': [2, 2, 2]},\n",
       "  'shots': 4000,\n",
       "  'meas_level': <MeasLevel.CLASSIFIED: 2>}]"
      ]
     },
     "execution_count": 45,
     "metadata": {},
     "output_type": "execute_result"
    }
   ],
   "source": [
    "qst_exp_res.data()"
   ]
  },
  {
   "cell_type": "code",
   "execution_count": 46,
   "metadata": {},
   "outputs": [
    {
     "name": "stdout",
     "output_type": "stream",
     "text": [
      "[dict_keys(['counts', 'job_id', 'metadata', 'shots', 'meas_level']), dict_keys(['counts', 'job_id', 'metadata', 'shots', 'meas_level']), dict_keys(['counts', 'job_id', 'metadata', 'shots', 'meas_level']), dict_keys(['counts', 'job_id', 'metadata', 'shots', 'meas_level']), dict_keys(['counts', 'job_id', 'metadata', 'shots', 'meas_level']), dict_keys(['counts', 'job_id', 'metadata', 'shots', 'meas_level']), dict_keys(['counts', 'job_id', 'metadata', 'shots', 'meas_level']), dict_keys(['counts', 'job_id', 'metadata', 'shots', 'meas_level']), dict_keys(['counts', 'job_id', 'metadata', 'shots', 'meas_level']), dict_keys(['counts', 'job_id', 'metadata', 'shots', 'meas_level']), dict_keys(['counts', 'job_id', 'metadata', 'shots', 'meas_level']), dict_keys(['counts', 'job_id', 'metadata', 'shots', 'meas_level']), dict_keys(['counts', 'job_id', 'metadata', 'shots', 'meas_level']), dict_keys(['counts', 'job_id', 'metadata', 'shots', 'meas_level']), dict_keys(['counts', 'job_id', 'metadata', 'shots', 'meas_level']), dict_keys(['counts', 'job_id', 'metadata', 'shots', 'meas_level']), dict_keys(['counts', 'job_id', 'metadata', 'shots', 'meas_level']), dict_keys(['counts', 'job_id', 'metadata', 'shots', 'meas_level']), dict_keys(['counts', 'job_id', 'metadata', 'shots', 'meas_level']), dict_keys(['counts', 'job_id', 'metadata', 'shots', 'meas_level']), dict_keys(['counts', 'job_id', 'metadata', 'shots', 'meas_level']), dict_keys(['counts', 'job_id', 'metadata', 'shots', 'meas_level']), dict_keys(['counts', 'job_id', 'metadata', 'shots', 'meas_level']), dict_keys(['counts', 'job_id', 'metadata', 'shots', 'meas_level']), dict_keys(['counts', 'job_id', 'metadata', 'shots', 'meas_level']), dict_keys(['counts', 'job_id', 'metadata', 'shots', 'meas_level']), dict_keys(['counts', 'job_id', 'metadata', 'shots', 'meas_level'])]\n"
     ]
    }
   ],
   "source": [
    "qst_exp_data = qst_exp_res.data()\n",
    "keys = [qst_exp_data[i].keys() for i in range(len(qst_exp_data))]\n",
    "print(keys)"
   ]
  },
  {
   "cell_type": "code",
   "execution_count": 49,
   "metadata": {},
   "outputs": [
    {
     "ename": "TypeError",
     "evalue": "linear_inversion() missing 3 required positional arguments: 'shot_data', 'measurement_data', and 'preparation_data'",
     "output_type": "error",
     "traceback": [
      "\u001b[0;31m---------------------------------------------------------------------------\u001b[0m",
      "\u001b[0;31mTypeError\u001b[0m                                 Traceback (most recent call last)",
      "Cell \u001b[0;32mIn [49], line 1\u001b[0m\n\u001b[0;32m----> 1\u001b[0m rho_li \u001b[39m=\u001b[39m tomography\u001b[39m.\u001b[39;49mfitters\u001b[39m.\u001b[39;49mlinear_inversion(qst_exp_res)\n",
      "\u001b[0;31mTypeError\u001b[0m: linear_inversion() missing 3 required positional arguments: 'shot_data', 'measurement_data', and 'preparation_data'"
     ]
    }
   ],
   "source": [
    "pauli_basis = tomography.basis.PauliMeasurementBasis\n",
    "\n",
    "rho_li = tomography.fitters.linear_inversion(None, None, None,\n",
    "                                             measurement_basis=pauli_basis)"
   ]
  },
  {
   "cell_type": "code",
   "execution_count": 51,
   "metadata": {},
   "outputs": [],
   "source": [
    "pauli_basis = tomography.basis.PauliMeasurementBasis()\n"
   ]
  },
  {
   "cell_type": "code",
   "execution_count": null,
   "metadata": {},
   "outputs": [],
   "source": []
  }
 ],
 "metadata": {
  "kernelspec": {
   "display_name": "Python 3.8.13 ('qsar')",
   "language": "python",
   "name": "python3"
  },
  "language_info": {
   "codemirror_mode": {
    "name": "ipython",
    "version": 3
   },
   "file_extension": ".py",
   "mimetype": "text/x-python",
   "name": "python",
   "nbconvert_exporter": "python",
   "pygments_lexer": "ipython3",
   "version": "3.8.13"
  },
  "orig_nbformat": 4,
  "vscode": {
   "interpreter": {
    "hash": "7dd5b4facb55a7ee9dc192750a18a69a765275ec5ae75bed654023c88176ceb4"
   }
  }
 },
 "nbformat": 4,
 "nbformat_minor": 2
}
