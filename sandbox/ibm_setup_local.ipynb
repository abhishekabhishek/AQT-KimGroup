{
 "cells": [
  {
   "cell_type": "code",
   "execution_count": 1,
   "metadata": {},
   "outputs": [
    {
     "name": "stdout",
     "output_type": "stream",
     "text": [
      "/Users/abhi/Documents/GitHub/AQT-KimGroup\n"
     ]
    }
   ],
   "source": [
    "cd .."
   ]
  },
  {
   "cell_type": "code",
   "execution_count": 4,
   "metadata": {},
   "outputs": [],
   "source": [
    "from keys import keys\n",
    "from qiskit import IBMQ, assemble, QuantumCircuit, quantum_info\n",
    "from qiskit.visualization import plot_histogram\n",
    "import numpy as np\n",
    "\n",
    "%matplotlib inline"
   ]
  },
  {
   "cell_type": "code",
   "execution_count": 5,
   "metadata": {},
   "outputs": [
    {
     "name": "stdout",
     "output_type": "stream",
     "text": [
      "ibmq_qasm_simulator 32 1\n",
      "simulator_statevector 32 1\n",
      "simulator_mps 100 1\n",
      "simulator_extended_stabilizer 63 1\n",
      "simulator_stabilizer 5000 1\n"
     ]
    }
   ],
   "source": [
    "# Setup account\n",
    "IBMQ.load_account()\n",
    "provider = IBMQ.get_provider(hub='ibm-q')\n",
    "\n",
    "# Find available devices\n",
    "devices = provider.backends(simulator=True, operational=True)\n",
    "for x in devices:\n",
    "    print(x.name(), x.configuration().n_qubits, x.status().pending_jobs)"
   ]
  },
  {
   "cell_type": "code",
   "execution_count": 6,
   "metadata": {},
   "outputs": [],
   "source": [
    "simulator_backend = provider.backend.ibmq_qasm_simulator"
   ]
  },
  {
   "cell_type": "markdown",
   "metadata": {},
   "source": [
    "Test the ordering or endian-ness of the Qiskit results - only ran to determine that unline qml, we need to read circuits from bottom-to-top"
   ]
  },
  {
   "cell_type": "code",
   "execution_count": 12,
   "metadata": {},
   "outputs": [
    {
     "name": "stdout",
     "output_type": "stream",
     "text": [
      "     ┌───┐┌─┐\n",
      "q_0: ┤ H ├┤M├\n",
      "     └┬─┬┘└╥┘\n",
      "q_1: ─┤M├──╫─\n",
      "      └╥┘  ║ \n",
      "c: 2/══╩═══╩═\n",
      "       1   0 \n"
     ]
    },
    {
     "data": {
      "image/png": "[encoded data removed]",
      "text/plain": [
       "<Figure size 700x500 with 1 Axes>"
      ]
     },
     "execution_count": 12,
     "metadata": {},
     "output_type": "execute_result"
    }
   ],
   "source": [
    "# No. of qubits\n",
    "n_qubits = 2\n",
    "\n",
    "# Initialize the quantum register and circuit\n",
    "circ = QuantumCircuit(n_qubits, n_qubits)\n",
    "\n",
    "# Add operations to the circuit to prepage a GHZ state\n",
    "circ.h(0)\n",
    "circ.measure([0, 1], [0, 1])\n",
    "print(circ.draw())\n",
    "\n",
    "# Simple qiskit running\n",
    "qobj = assemble(circ)  # Assemble circuit into a Qobj that can be run\n",
    "counts = simulator_backend.run(qobj).result().get_counts()  # Do the simulation, returning the state vector\n",
    "plot_histogram(counts)"
   ]
  },
  {
   "cell_type": "markdown",
   "metadata": {},
   "source": [
    "Reproducing Qiskit MLE"
   ]
  },
  {
   "cell_type": "markdown",
   "metadata": {},
   "source": [
    "\n",
    "The following was part of the old notebook but is now deprecated in qiskit - \n",
    "`from qiskit.ignis.verification.tomography import state_tomography_circuits, StateTomographyFitter`"
   ]
  },
  {
   "cell_type": "code",
   "execution_count": 7,
   "metadata": {},
   "outputs": [],
   "source": [
    "from qiskit_experiments.library import StateTomography, tomography"
   ]
  },
  {
   "cell_type": "code",
   "execution_count": 25,
   "metadata": {},
   "outputs": [],
   "source": [
    "# Setup system\n",
    "\n",
    "# No. of qubits\n",
    "n_qubits = 3\n",
    "n_shots = 100"
   ]
  },
  {
   "cell_type": "code",
   "execution_count": 18,
   "metadata": {},
   "outputs": [
    {
     "data": {
      "text/html": [
       "<pre style=\"word-wrap: normal;white-space: pre;background: #fff0;line-height: 1.1;font-family: &quot;Courier New&quot;,Courier,monospace\">     ┌───┐          \n",
       "q_0: ┤ H ├──■───────\n",
       "     └───┘┌─┴─┐     \n",
       "q_1: ─────┤ X ├──■──\n",
       "          └───┘┌─┴─┐\n",
       "q_2: ──────────┤ X ├\n",
       "               └───┘</pre>"
      ],
      "text/plain": [
       "     ┌───┐          \n",
       "q_0: ┤ H ├──■───────\n",
       "     └───┘┌─┴─┐     \n",
       "q_1: ─────┤ X ├──■──\n",
       "          └───┘┌─┴─┐\n",
       "q_2: ──────────┤ X ├\n",
       "               └───┘"
      ]
     },
     "execution_count": 18,
     "metadata": {},
     "output_type": "execute_result"
    }
   ],
   "source": [
    "# Initialize the quantum register and circuit\n",
    "ghz_circ = QuantumCircuit(n_qubits)\n",
    "\n",
    "# Add operations to the circuit to prepage a GHZ state\n",
    "ghz_circ.h(0)\n",
    "for idx in range(n_qubits-1):\n",
    "    ghz_circ.cx(idx, idx+1)\n",
    "\n",
    "ghz_circ.draw()"
   ]
  },
  {
   "cell_type": "code",
   "execution_count": 19,
   "metadata": {},
   "outputs": [
    {
     "name": "stdout",
     "output_type": "stream",
     "text": [
      "     ┌───┐           ░ ┌────────────┐ ░ ┌─┐      \n",
      "q_0: ┤ H ├──■────────░─┤ PauliMeasZ ├─░─┤M├──────\n",
      "     └───┘┌─┴─┐      ░ ├────────────┤ ░ └╥┘┌─┐   \n",
      "q_1: ─────┤ X ├──■───░─┤ PauliMeasZ ├─░──╫─┤M├───\n",
      "          └───┘┌─┴─┐ ░ ├────────────┤ ░  ║ └╥┘┌─┐\n",
      "q_2: ──────────┤ X ├─░─┤ PauliMeasZ ├─░──╫──╫─┤M├\n",
      "               └───┘ ░ └────────────┘ ░  ║  ║ └╥┘\n",
      "c: 3/════════════════════════════════════╩══╩══╩═\n",
      "                                         0  1  2 \n",
      "     ┌───┐           ░ ┌────────────┐ ░ ┌─┐      \n",
      "q_0: ┤ H ├──■────────░─┤ PauliMeasZ ├─░─┤M├──────\n",
      "     └───┘┌─┴─┐      ░ ├────────────┤ ░ └╥┘┌─┐   \n",
      "q_1: ─────┤ X ├──■───░─┤ PauliMeasZ ├─░──╫─┤M├───\n",
      "          └───┘┌─┴─┐ ░ ├────────────┤ ░  ║ └╥┘┌─┐\n",
      "q_2: ──────────┤ X ├─░─┤ PauliMeasX ├─░──╫──╫─┤M├\n",
      "               └───┘ ░ └────────────┘ ░  ║  ║ └╥┘\n",
      "c: 3/════════════════════════════════════╩══╩══╩═\n",
      "                                         0  1  2 \n",
      "     ┌───┐           ░ ┌────────────┐ ░ ┌─┐      \n",
      "q_0: ┤ H ├──■────────░─┤ PauliMeasZ ├─░─┤M├──────\n",
      "     └───┘┌─┴─┐      ░ ├────────────┤ ░ └╥┘┌─┐   \n",
      "q_1: ─────┤ X ├──■───░─┤ PauliMeasZ ├─░──╫─┤M├───\n",
      "          └───┘┌─┴─┐ ░ ├────────────┤ ░  ║ └╥┘┌─┐\n",
      "q_2: ──────────┤ X ├─░─┤ PauliMeasY ├─░──╫──╫─┤M├\n",
      "               └───┘ ░ └────────────┘ ░  ║  ║ └╥┘\n",
      "c: 3/════════════════════════════════════╩══╩══╩═\n",
      "                                         0  1  2 \n",
      "     ┌───┐           ░ ┌────────────┐ ░ ┌─┐      \n",
      "q_0: ┤ H ├──■────────░─┤ PauliMeasZ ├─░─┤M├──────\n",
      "     └───┘┌─┴─┐      ░ ├────────────┤ ░ └╥┘┌─┐   \n",
      "q_1: ─────┤ X ├──■───░─┤ PauliMeasX ├─░──╫─┤M├───\n",
      "          └───┘┌─┴─┐ ░ ├────────────┤ ░  ║ └╥┘┌─┐\n",
      "q_2: ──────────┤ X ├─░─┤ PauliMeasZ ├─░──╫──╫─┤M├\n",
      "               └───┘ ░ └────────────┘ ░  ║  ║ └╥┘\n",
      "c: 3/════════════════════════════════════╩══╩══╩═\n",
      "                                         0  1  2 \n",
      "     ┌───┐           ░ ┌────────────┐ ░ ┌─┐      \n",
      "q_0: ┤ H ├──■────────░─┤ PauliMeasZ ├─░─┤M├──────\n",
      "     └───┘┌─┴─┐      ░ ├────────────┤ ░ └╥┘┌─┐   \n",
      "q_1: ─────┤ X ├──■───░─┤ PauliMeasX ├─░──╫─┤M├───\n",
      "          └───┘┌─┴─┐ ░ ├────────────┤ ░  ║ └╥┘┌─┐\n",
      "q_2: ──────────┤ X ├─░─┤ PauliMeasX ├─░──╫──╫─┤M├\n",
      "               └───┘ ░ └────────────┘ ░  ║  ║ └╥┘\n",
      "c: 3/════════════════════════════════════╩══╩══╩═\n",
      "                                         0  1  2 \n",
      "     ┌───┐           ░ ┌────────────┐ ░ ┌─┐      \n",
      "q_0: ┤ H ├──■────────░─┤ PauliMeasZ ├─░─┤M├──────\n",
      "     └───┘┌─┴─┐      ░ ├────────────┤ ░ └╥┘┌─┐   \n",
      "q_1: ─────┤ X ├──■───░─┤ PauliMeasX ├─░──╫─┤M├───\n",
      "          └───┘┌─┴─┐ ░ ├────────────┤ ░  ║ └╥┘┌─┐\n",
      "q_2: ──────────┤ X ├─░─┤ PauliMeasY ├─░──╫──╫─┤M├\n",
      "               └───┘ ░ └────────────┘ ░  ║  ║ └╥┘\n",
      "c: 3/════════════════════════════════════╩══╩══╩═\n",
      "                                         0  1  2 \n",
      "     ┌───┐           ░ ┌────────────┐ ░ ┌─┐      \n",
      "q_0: ┤ H ├──■────────░─┤ PauliMeasZ ├─░─┤M├──────\n",
      "     └───┘┌─┴─┐      ░ ├────────────┤ ░ └╥┘┌─┐   \n",
      "q_1: ─────┤ X ├──■───░─┤ PauliMeasY ├─░──╫─┤M├───\n",
      "          └───┘┌─┴─┐ ░ ├────────────┤ ░  ║ └╥┘┌─┐\n",
      "q_2: ──────────┤ X ├─░─┤ PauliMeasZ ├─░──╫──╫─┤M├\n",
      "               └───┘ ░ └────────────┘ ░  ║  ║ └╥┘\n",
      "c: 3/════════════════════════════════════╩══╩══╩═\n",
      "                                         0  1  2 \n",
      "     ┌───┐           ░ ┌────────────┐ ░ ┌─┐      \n",
      "q_0: ┤ H ├──■────────░─┤ PauliMeasZ ├─░─┤M├──────\n",
      "     └───┘┌─┴─┐      ░ ├────────────┤ ░ └╥┘┌─┐   \n",
      "q_1: ─────┤ X ├──■───░─┤ PauliMeasY ├─░──╫─┤M├───\n",
      "          └───┘┌─┴─┐ ░ ├────────────┤ ░  ║ └╥┘┌─┐\n",
      "q_2: ──────────┤ X ├─░─┤ PauliMeasX ├─░──╫──╫─┤M├\n",
      "               └───┘ ░ └────────────┘ ░  ║  ║ └╥┘\n",
      "c: 3/════════════════════════════════════╩══╩══╩═\n",
      "                                         0  1  2 \n",
      "     ┌───┐           ░ ┌────────────┐ ░ ┌─┐      \n",
      "q_0: ┤ H ├──■────────░─┤ PauliMeasZ ├─░─┤M├──────\n",
      "     └───┘┌─┴─┐      ░ ├────────────┤ ░ └╥┘┌─┐   \n",
      "q_1: ─────┤ X ├──■───░─┤ PauliMeasY ├─░──╫─┤M├───\n",
      "          └───┘┌─┴─┐ ░ ├────────────┤ ░  ║ └╥┘┌─┐\n",
      "q_2: ──────────┤ X ├─░─┤ PauliMeasY ├─░──╫──╫─┤M├\n",
      "               └───┘ ░ └────────────┘ ░  ║  ║ └╥┘\n",
      "c: 3/════════════════════════════════════╩══╩══╩═\n",
      "                                         0  1  2 \n",
      "     ┌───┐           ░ ┌────────────┐ ░ ┌─┐      \n",
      "q_0: ┤ H ├──■────────░─┤ PauliMeasX ├─░─┤M├──────\n",
      "     └───┘┌─┴─┐      ░ ├────────────┤ ░ └╥┘┌─┐   \n",
      "q_1: ─────┤ X ├──■───░─┤ PauliMeasZ ├─░──╫─┤M├───\n",
      "          └───┘┌─┴─┐ ░ ├────────────┤ ░  ║ └╥┘┌─┐\n",
      "q_2: ──────────┤ X ├─░─┤ PauliMeasZ ├─░──╫──╫─┤M├\n",
      "               └───┘ ░ └────────────┘ ░  ║  ║ └╥┘\n",
      "c: 3/════════════════════════════════════╩══╩══╩═\n",
      "                                         0  1  2 \n",
      "     ┌───┐           ░ ┌────────────┐ ░ ┌─┐      \n",
      "q_0: ┤ H ├──■────────░─┤ PauliMeasX ├─░─┤M├──────\n",
      "     └───┘┌─┴─┐      ░ ├────────────┤ ░ └╥┘┌─┐   \n",
      "q_1: ─────┤ X ├──■───░─┤ PauliMeasZ ├─░──╫─┤M├───\n",
      "          └───┘┌─┴─┐ ░ ├────────────┤ ░  ║ └╥┘┌─┐\n",
      "q_2: ──────────┤ X ├─░─┤ PauliMeasX ├─░──╫──╫─┤M├\n",
      "               └───┘ ░ └────────────┘ ░  ║  ║ └╥┘\n",
      "c: 3/════════════════════════════════════╩══╩══╩═\n",
      "                                         0  1  2 \n",
      "     ┌───┐           ░ ┌────────────┐ ░ ┌─┐      \n",
      "q_0: ┤ H ├──■────────░─┤ PauliMeasX ├─░─┤M├──────\n",
      "     └───┘┌─┴─┐      ░ ├────────────┤ ░ └╥┘┌─┐   \n",
      "q_1: ─────┤ X ├──■───░─┤ PauliMeasZ ├─░──╫─┤M├───\n",
      "          └───┘┌─┴─┐ ░ ├────────────┤ ░  ║ └╥┘┌─┐\n",
      "q_2: ──────────┤ X ├─░─┤ PauliMeasY ├─░──╫──╫─┤M├\n",
      "               └───┘ ░ └────────────┘ ░  ║  ║ └╥┘\n",
      "c: 3/════════════════════════════════════╩══╩══╩═\n",
      "                                         0  1  2 \n",
      "     ┌───┐           ░ ┌────────────┐ ░ ┌─┐      \n",
      "q_0: ┤ H ├──■────────░─┤ PauliMeasX ├─░─┤M├──────\n",
      "     └───┘┌─┴─┐      ░ ├────────────┤ ░ └╥┘┌─┐   \n",
      "q_1: ─────┤ X ├──■───░─┤ PauliMeasX ├─░──╫─┤M├───\n",
      "          └───┘┌─┴─┐ ░ ├────────────┤ ░  ║ └╥┘┌─┐\n",
      "q_2: ──────────┤ X ├─░─┤ PauliMeasZ ├─░──╫──╫─┤M├\n",
      "               └───┘ ░ └────────────┘ ░  ║  ║ └╥┘\n",
      "c: 3/════════════════════════════════════╩══╩══╩═\n",
      "                                         0  1  2 \n",
      "     ┌───┐           ░ ┌────────────┐ ░ ┌─┐      \n",
      "q_0: ┤ H ├──■────────░─┤ PauliMeasX ├─░─┤M├──────\n",
      "     └───┘┌─┴─┐      ░ ├────────────┤ ░ └╥┘┌─┐   \n",
      "q_1: ─────┤ X ├──■───░─┤ PauliMeasX ├─░──╫─┤M├───\n",
      "          └───┘┌─┴─┐ ░ ├────────────┤ ░  ║ └╥┘┌─┐\n",
      "q_2: ──────────┤ X ├─░─┤ PauliMeasX ├─░──╫──╫─┤M├\n",
      "               └───┘ ░ └────────────┘ ░  ║  ║ └╥┘\n",
      "c: 3/════════════════════════════════════╩══╩══╩═\n",
      "                                         0  1  2 \n",
      "     ┌───┐           ░ ┌────────────┐ ░ ┌─┐      \n",
      "q_0: ┤ H ├──■────────░─┤ PauliMeasX ├─░─┤M├──────\n",
      "     └───┘┌─┴─┐      ░ ├────────────┤ ░ └╥┘┌─┐   \n",
      "q_1: ─────┤ X ├──■───░─┤ PauliMeasX ├─░──╫─┤M├───\n",
      "          └───┘┌─┴─┐ ░ ├────────────┤ ░  ║ └╥┘┌─┐\n",
      "q_2: ──────────┤ X ├─░─┤ PauliMeasY ├─░──╫──╫─┤M├\n",
      "               └───┘ ░ └────────────┘ ░  ║  ║ └╥┘\n",
      "c: 3/════════════════════════════════════╩══╩══╩═\n",
      "                                         0  1  2 \n",
      "     ┌───┐           ░ ┌────────────┐ ░ ┌─┐      \n",
      "q_0: ┤ H ├──■────────░─┤ PauliMeasX ├─░─┤M├──────\n",
      "     └───┘┌─┴─┐      ░ ├────────────┤ ░ └╥┘┌─┐   \n",
      "q_1: ─────┤ X ├──■───░─┤ PauliMeasY ├─░──╫─┤M├───\n",
      "          └───┘┌─┴─┐ ░ ├────────────┤ ░  ║ └╥┘┌─┐\n",
      "q_2: ──────────┤ X ├─░─┤ PauliMeasZ ├─░──╫──╫─┤M├\n",
      "               └───┘ ░ └────────────┘ ░  ║  ║ └╥┘\n",
      "c: 3/════════════════════════════════════╩══╩══╩═\n",
      "                                         0  1  2 \n",
      "     ┌───┐           ░ ┌────────────┐ ░ ┌─┐      \n",
      "q_0: ┤ H ├──■────────░─┤ PauliMeasX ├─░─┤M├──────\n",
      "     └───┘┌─┴─┐      ░ ├────────────┤ ░ └╥┘┌─┐   \n",
      "q_1: ─────┤ X ├──■───░─┤ PauliMeasY ├─░──╫─┤M├───\n",
      "          └───┘┌─┴─┐ ░ ├────────────┤ ░  ║ └╥┘┌─┐\n",
      "q_2: ──────────┤ X ├─░─┤ PauliMeasX ├─░──╫──╫─┤M├\n",
      "               └───┘ ░ └────────────┘ ░  ║  ║ └╥┘\n",
      "c: 3/════════════════════════════════════╩══╩══╩═\n",
      "                                         0  1  2 \n",
      "     ┌───┐           ░ ┌────────────┐ ░ ┌─┐      \n",
      "q_0: ┤ H ├──■────────░─┤ PauliMeasX ├─░─┤M├──────\n",
      "     └───┘┌─┴─┐      ░ ├────────────┤ ░ └╥┘┌─┐   \n",
      "q_1: ─────┤ X ├──■───░─┤ PauliMeasY ├─░──╫─┤M├───\n",
      "          └───┘┌─┴─┐ ░ ├────────────┤ ░  ║ └╥┘┌─┐\n",
      "q_2: ──────────┤ X ├─░─┤ PauliMeasY ├─░──╫──╫─┤M├\n",
      "               └───┘ ░ └────────────┘ ░  ║  ║ └╥┘\n",
      "c: 3/════════════════════════════════════╩══╩══╩═\n",
      "                                         0  1  2 \n",
      "     ┌───┐           ░ ┌────────────┐ ░ ┌─┐      \n",
      "q_0: ┤ H ├──■────────░─┤ PauliMeasY ├─░─┤M├──────\n",
      "     └───┘┌─┴─┐      ░ ├────────────┤ ░ └╥┘┌─┐   \n",
      "q_1: ─────┤ X ├──■───░─┤ PauliMeasZ ├─░──╫─┤M├───\n",
      "          └───┘┌─┴─┐ ░ ├────────────┤ ░  ║ └╥┘┌─┐\n",
      "q_2: ──────────┤ X ├─░─┤ PauliMeasZ ├─░──╫──╫─┤M├\n",
      "               └───┘ ░ └────────────┘ ░  ║  ║ └╥┘\n",
      "c: 3/════════════════════════════════════╩══╩══╩═\n",
      "                                         0  1  2 \n",
      "     ┌───┐           ░ ┌────────────┐ ░ ┌─┐      \n",
      "q_0: ┤ H ├──■────────░─┤ PauliMeasY ├─░─┤M├──────\n",
      "     └───┘┌─┴─┐      ░ ├────────────┤ ░ └╥┘┌─┐   \n",
      "q_1: ─────┤ X ├──■───░─┤ PauliMeasZ ├─░──╫─┤M├───\n",
      "          └───┘┌─┴─┐ ░ ├────────────┤ ░  ║ └╥┘┌─┐\n",
      "q_2: ──────────┤ X ├─░─┤ PauliMeasX ├─░──╫──╫─┤M├\n",
      "               └───┘ ░ └────────────┘ ░  ║  ║ └╥┘\n",
      "c: 3/════════════════════════════════════╩══╩══╩═\n",
      "                                         0  1  2 \n",
      "     ┌───┐           ░ ┌────────────┐ ░ ┌─┐      \n",
      "q_0: ┤ H ├──■────────░─┤ PauliMeasY ├─░─┤M├──────\n",
      "     └───┘┌─┴─┐      ░ ├────────────┤ ░ └╥┘┌─┐   \n",
      "q_1: ─────┤ X ├──■───░─┤ PauliMeasZ ├─░──╫─┤M├───\n",
      "          └───┘┌─┴─┐ ░ ├────────────┤ ░  ║ └╥┘┌─┐\n",
      "q_2: ──────────┤ X ├─░─┤ PauliMeasY ├─░──╫──╫─┤M├\n",
      "               └───┘ ░ └────────────┘ ░  ║  ║ └╥┘\n",
      "c: 3/════════════════════════════════════╩══╩══╩═\n",
      "                                         0  1  2 \n",
      "     ┌───┐           ░ ┌────────────┐ ░ ┌─┐      \n",
      "q_0: ┤ H ├──■────────░─┤ PauliMeasY ├─░─┤M├──────\n",
      "     └───┘┌─┴─┐      ░ ├────────────┤ ░ └╥┘┌─┐   \n",
      "q_1: ─────┤ X ├──■───░─┤ PauliMeasX ├─░──╫─┤M├───\n",
      "          └───┘┌─┴─┐ ░ ├────────────┤ ░  ║ └╥┘┌─┐\n",
      "q_2: ──────────┤ X ├─░─┤ PauliMeasZ ├─░──╫──╫─┤M├\n",
      "               └───┘ ░ └────────────┘ ░  ║  ║ └╥┘\n",
      "c: 3/════════════════════════════════════╩══╩══╩═\n",
      "                                         0  1  2 \n",
      "     ┌───┐           ░ ┌────────────┐ ░ ┌─┐      \n",
      "q_0: ┤ H ├──■────────░─┤ PauliMeasY ├─░─┤M├──────\n",
      "     └───┘┌─┴─┐      ░ ├────────────┤ ░ └╥┘┌─┐   \n",
      "q_1: ─────┤ X ├──■───░─┤ PauliMeasX ├─░──╫─┤M├───\n",
      "          └───┘┌─┴─┐ ░ ├────────────┤ ░  ║ └╥┘┌─┐\n",
      "q_2: ──────────┤ X ├─░─┤ PauliMeasX ├─░──╫──╫─┤M├\n",
      "               └───┘ ░ └────────────┘ ░  ║  ║ └╥┘\n",
      "c: 3/════════════════════════════════════╩══╩══╩═\n",
      "                                         0  1  2 \n",
      "     ┌───┐           ░ ┌────────────┐ ░ ┌─┐      \n",
      "q_0: ┤ H ├──■────────░─┤ PauliMeasY ├─░─┤M├──────\n",
      "     └───┘┌─┴─┐      ░ ├────────────┤ ░ └╥┘┌─┐   \n",
      "q_1: ─────┤ X ├──■───░─┤ PauliMeasX ├─░──╫─┤M├───\n",
      "          └───┘┌─┴─┐ ░ ├────────────┤ ░  ║ └╥┘┌─┐\n",
      "q_2: ──────────┤ X ├─░─┤ PauliMeasY ├─░──╫──╫─┤M├\n",
      "               └───┘ ░ └────────────┘ ░  ║  ║ └╥┘\n",
      "c: 3/════════════════════════════════════╩══╩══╩═\n",
      "                                         0  1  2 \n",
      "     ┌───┐           ░ ┌────────────┐ ░ ┌─┐      \n",
      "q_0: ┤ H ├──■────────░─┤ PauliMeasY ├─░─┤M├──────\n",
      "     └───┘┌─┴─┐      ░ ├────────────┤ ░ └╥┘┌─┐   \n",
      "q_1: ─────┤ X ├──■───░─┤ PauliMeasY ├─░──╫─┤M├───\n",
      "          └───┘┌─┴─┐ ░ ├────────────┤ ░  ║ └╥┘┌─┐\n",
      "q_2: ──────────┤ X ├─░─┤ PauliMeasZ ├─░──╫──╫─┤M├\n",
      "               └───┘ ░ └────────────┘ ░  ║  ║ └╥┘\n",
      "c: 3/════════════════════════════════════╩══╩══╩═\n",
      "                                         0  1  2 \n",
      "     ┌───┐           ░ ┌────────────┐ ░ ┌─┐      \n",
      "q_0: ┤ H ├──■────────░─┤ PauliMeasY ├─░─┤M├──────\n",
      "     └───┘┌─┴─┐      ░ ├────────────┤ ░ └╥┘┌─┐   \n",
      "q_1: ─────┤ X ├──■───░─┤ PauliMeasY ├─░──╫─┤M├───\n",
      "          └───┘┌─┴─┐ ░ ├────────────┤ ░  ║ └╥┘┌─┐\n",
      "q_2: ──────────┤ X ├─░─┤ PauliMeasX ├─░──╫──╫─┤M├\n",
      "               └───┘ ░ └────────────┘ ░  ║  ║ └╥┘\n",
      "c: 3/════════════════════════════════════╩══╩══╩═\n",
      "                                         0  1  2 \n",
      "     ┌───┐           ░ ┌────────────┐ ░ ┌─┐      \n",
      "q_0: ┤ H ├──■────────░─┤ PauliMeasY ├─░─┤M├──────\n",
      "     └───┘┌─┴─┐      ░ ├────────────┤ ░ └╥┘┌─┐   \n",
      "q_1: ─────┤ X ├──■───░─┤ PauliMeasY ├─░──╫─┤M├───\n",
      "          └───┘┌─┴─┐ ░ ├────────────┤ ░  ║ └╥┘┌─┐\n",
      "q_2: ──────────┤ X ├─░─┤ PauliMeasY ├─░──╫──╫─┤M├\n",
      "               └───┘ ░ └────────────┘ ░  ║  ║ └╥┘\n",
      "c: 3/════════════════════════════════════╩══╩══╩═\n",
      "                                         0  1  2 \n"
     ]
    }
   ],
   "source": [
    "qst_exp = StateTomography(ghz_circ)\n",
    "qst_data_1 = qst_exp.run(simulator_backend, seed_simulation=100, shots=n_shots).block_for_results()\n",
    "for circuit in qst_exp.circuits():\n",
    "    print(circuit.draw())"
   ]
  },
  {
   "cell_type": "markdown",
   "metadata": {},
   "source": [
    "Following the introduction to the experiment framework at `https://qiskit.org/documentation/experiments/apidocs/framework.html#module-qiskit_experiments.framework`"
   ]
  },
  {
   "cell_type": "code",
   "execution_count": 22,
   "metadata": {},
   "outputs": [
    {
     "data": {
      "text/plain": [
       "['63917e17d26abd301725ac8b']"
      ]
     },
     "execution_count": 22,
     "metadata": {},
     "output_type": "execute_result"
    }
   ],
   "source": [
    "qst_data_1.job_ids"
   ]
  },
  {
   "cell_type": "code",
   "execution_count": 23,
   "metadata": {},
   "outputs": [],
   "source": [
    "job = simulator_backend.retrieve_job('63917e17d26abd301725ac8b')\n",
    "result = job.result()"
   ]
  },
  {
   "cell_type": "code",
   "execution_count": null,
   "metadata": {},
   "outputs": [],
   "source": [
    "# Saved experiments\n",
    "# 3 qubit GHZ - 6390ffde5252115aa3e127c1 - 1024 shots\n",
    "# 3 qubit GHZ - 63917e17d26abd301725ac8b - 100 shots"
   ]
  },
  {
   "cell_type": "code",
   "execution_count": 27,
   "metadata": {},
   "outputs": [
    {
     "name": "stdout",
     "output_type": "stream",
     "text": [
      "['0', '0', '0'] {'000': 47, '111': 53}\n",
      "['0', '0', '1'] {'000': 27, '011': 26, '100': 26, '111': 21}\n",
      "['0', '0', '2'] {'000': 24, '011': 28, '100': 24, '111': 24}\n",
      "['0', '1', '0'] {'000': 26, '010': 26, '101': 28, '111': 20}\n",
      "['0', '1', '1'] {'000': 10, '001': 11, '010': 13, '011': 10, '100': 15, '101': 16, '110': 12, '111': 13}\n",
      "['0', '1', '2'] {'000': 8, '001': 10, '010': 10, '011': 12, '100': 11, '101': 17, '110': 14, '111': 18}\n",
      "['0', '2', '0'] {'000': 25, '010': 33, '101': 22, '111': 20}\n",
      "['0', '2', '1'] {'000': 13, '001': 16, '010': 9, '011': 15, '100': 14, '101': 11, '110': 15, '111': 7}\n",
      "['0', '2', '2'] {'000': 13, '001': 10, '010': 13, '011': 9, '100': 15, '101': 14, '110': 16, '111': 10}\n",
      "['1', '0', '0'] {'000': 21, '001': 31, '110': 24, '111': 24}\n",
      "['1', '0', '1'] {'000': 15, '001': 16, '010': 11, '011': 12, '100': 11, '101': 8, '110': 17, '111': 10}\n",
      "['1', '0', '2'] {'000': 11, '001': 16, '010': 11, '011': 7, '100': 13, '101': 16, '110': 11, '111': 15}\n",
      "['1', '1', '0'] {'000': 8, '001': 13, '010': 15, '011': 12, '100': 13, '101': 12, '110': 13, '111': 14}\n",
      "['1', '1', '1'] {'000': 28, '011': 15, '101': 26, '110': 31}\n",
      "['1', '1', '2'] {'000': 15, '001': 8, '010': 11, '011': 12, '100': 18, '101': 12, '110': 12, '111': 12}\n",
      "['1', '2', '0'] {'000': 12, '001': 7, '010': 14, '011': 20, '100': 13, '101': 5, '110': 14, '111': 15}\n",
      "['1', '2', '1'] {'000': 10, '001': 9, '010': 13, '011': 14, '100': 16, '101': 16, '110': 15, '111': 7}\n",
      "['1', '2', '2'] {'001': 19, '010': 29, '100': 26, '111': 26}\n",
      "['2', '0', '0'] {'000': 23, '001': 25, '110': 20, '111': 32}\n",
      "['2', '0', '1'] {'000': 9, '001': 18, '010': 12, '011': 10, '100': 15, '101': 17, '110': 12, '111': 7}\n",
      "['2', '0', '2'] {'000': 9, '001': 14, '010': 16, '011': 9, '100': 18, '101': 14, '110': 10, '111': 10}\n",
      "['2', '1', '0'] {'000': 12, '001': 10, '010': 17, '011': 16, '100': 8, '101': 14, '110': 11, '111': 12}\n",
      "['2', '1', '1'] {'000': 13, '001': 9, '010': 19, '011': 10, '100': 15, '101': 10, '110': 10, '111': 14}\n",
      "['2', '1', '2'] {'001': 26, '010': 23, '100': 19, '111': 32}\n",
      "['2', '2', '0'] {'000': 6, '001': 19, '010': 7, '011': 13, '100': 13, '101': 13, '110': 19, '111': 10}\n",
      "['2', '2', '1'] {'001': 29, '010': 30, '100': 23, '111': 18}\n",
      "['2', '2', '2'] {'000': 16, '001': 10, '010': 20, '011': 5, '100': 18, '101': 14, '110': 12, '111': 5}\n"
     ]
    }
   ],
   "source": [
    "n_sets = 3**n_qubits\n",
    "for i in range(n_sets):\n",
    "    print(result.results[i].header.name.split('_')[1][1:-1].split(', '), result.get_counts(i))"
   ]
  },
  {
   "cell_type": "markdown",
   "metadata": {},
   "source": [
    "By comparing the above expt. header names, with the circuits, it is clear to see the mapping Z -> 0, X -> 1, Y -> 2. This is similar to what was previously being used in the deprecated library. Now, we need to convert the readouts to POVM outcomes."
   ]
  },
  {
   "cell_type": "code",
   "execution_count": 32,
   "metadata": {},
   "outputs": [
    {
     "name": "stdout",
     "output_type": "stream",
     "text": [
      "2700 2700\n"
     ]
    }
   ],
   "source": [
    "data = np.zeros((n_sets*n_shots, n_qubits), dtype=int)\n",
    "idx = 0\n",
    "\n",
    "for n_set in range(n_sets):\n",
    "    # Raw measurement counts for 1 experiment e.g. {'000':X, '111':Y}\n",
    "    counts_dict = result.get_counts(n_set)\n",
    "    \n",
    "    # Measurement setup e.g. ['0', '0', '0'] -> [Z, Z, Z]\n",
    "    meas_setting = result.results[n_set].header.name.split('_')[1][1:-1].split(', ')\n",
    "    meas_setting.reverse()\n",
    "    \n",
    "    for bitstring, count in counts_dict.items():\n",
    "        # Map the projective outcomes to POVM outcomes\n",
    "        # e.g. given setting [100], map outcome [000] to [200] and [100] to [300]\n",
    "        outcome = np.array([2*int(meas_setting[i]) + int(bitstring[i]) for i in range(3)])\n",
    "        data[idx:idx+count] = outcome\n",
    "        idx += count\n",
    "\n",
    "print(idx, len(data))"
   ]
  },
  {
   "cell_type": "code",
   "execution_count": 35,
   "metadata": {},
   "outputs": [
    {
     "name": "stdout",
     "output_type": "stream",
     "text": [
      "[[2 0 0]\n",
      " [2 1 1]]\n"
     ]
    }
   ],
   "source": [
    "print(data[126:128])"
   ]
  }
 ],
 "metadata": {
  "kernelspec": {
   "display_name": "Python 3.8.13 ('qsar')",
   "language": "python",
   "name": "python3"
  },
  "language_info": {
   "codemirror_mode": {
    "name": "ipython",
    "version": 3
   },
   "file_extension": ".py",
   "mimetype": "text/x-python",
   "name": "python",
   "nbconvert_exporter": "python",
   "pygments_lexer": "ipython3",
   "version": "3.8.13"
  },
  "orig_nbformat": 4,
  "vscode": {
   "interpreter": {
    "hash": "7dd5b4facb55a7ee9dc192750a18a69a765275ec5ae75bed654023c88176ceb4"
   }
  }
 },
 "nbformat": 4,
 "nbformat_minor": 2
}
