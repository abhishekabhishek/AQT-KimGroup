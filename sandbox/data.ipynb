{
 "cells": [
  {
   "cell_type": "code",
   "execution_count": 1,
   "metadata": {},
   "outputs": [
    {
     "name": "stdout",
     "output_type": "stream",
     "text": [
      "/Users/abhi/Documents/GitHub/AQT-KimGroup\n"
     ]
    }
   ],
   "source": [
    "%cd .."
   ]
  },
  {
   "cell_type": "code",
   "execution_count": 2,
   "metadata": {},
   "outputs": [
    {
     "ename": "ModuleNotFoundError",
     "evalue": "No module named 'torch'",
     "output_type": "error",
     "traceback": [
      "\u001b[0;31m---------------------------------------------------------------------------\u001b[0m",
      "\u001b[0;31mModuleNotFoundError\u001b[0m                       Traceback (most recent call last)",
      "Cell \u001b[0;32mIn [2], line 2\u001b[0m\n\u001b[1;32m      1\u001b[0m \u001b[39mimport\u001b[39;00m \u001b[39mnumpy\u001b[39;00m \u001b[39mas\u001b[39;00m \u001b[39mnp\u001b[39;00m\n\u001b[0;32m----> 2\u001b[0m \u001b[39mimport\u001b[39;00m \u001b[39mtorch\u001b[39;00m\n",
      "\u001b[0;31mModuleNotFoundError\u001b[0m: No module named 'torch'"
     ]
    }
   ],
   "source": [
    "import numpy as np\n",
    "import torch"
   ]
  },
  {
   "cell_type": "code",
   "execution_count": 8,
   "metadata": {},
   "outputs": [],
   "source": [
    "datapath = 'ghz_3_ibmq/3_2700'"
   ]
  },
  {
   "cell_type": "code",
   "execution_count": 9,
   "metadata": {},
   "outputs": [],
   "source": [
    "data = np.load(f'{datapath}.npy')\n",
    "np.random.shuffle(data)"
   ]
  },
  {
   "cell_type": "code",
   "execution_count": 10,
   "metadata": {},
   "outputs": [
    {
     "data": {
      "text/plain": [
       "(2700, 3)"
      ]
     },
     "execution_count": 10,
     "metadata": {},
     "output_type": "execute_result"
    }
   ],
   "source": [
    "data.shape"
   ]
  },
  {
   "cell_type": "code",
   "execution_count": 11,
   "metadata": {},
   "outputs": [
    {
     "data": {
      "text/plain": [
       "array([[4, 1, 0],\n",
       "       [2, 3, 2],\n",
       "       [3, 5, 3],\n",
       "       [5, 2, 0],\n",
       "       [5, 0, 2],\n",
       "       [2, 5, 1],\n",
       "       [5, 2, 5],\n",
       "       [3, 2, 2],\n",
       "       [0, 1, 5],\n",
       "       [1, 5, 4],\n",
       "       [2, 3, 3],\n",
       "       [1, 3, 2],\n",
       "       [0, 0, 2],\n",
       "       [3, 2, 2],\n",
       "       [5, 3, 2],\n",
       "       [2, 3, 3],\n",
       "       [3, 4, 2],\n",
       "       [0, 0, 1],\n",
       "       [1, 0, 5],\n",
       "       [1, 2, 5],\n",
       "       [2, 0, 5],\n",
       "       [5, 3, 1],\n",
       "       [4, 1, 4],\n",
       "       [0, 0, 2],\n",
       "       [5, 0, 0],\n",
       "       [1, 4, 4],\n",
       "       [4, 1, 1],\n",
       "       [4, 4, 1],\n",
       "       [4, 0, 1],\n",
       "       [3, 3, 2],\n",
       "       [0, 0, 1],\n",
       "       [4, 2, 0],\n",
       "       [3, 1, 4],\n",
       "       [0, 1, 5],\n",
       "       [0, 5, 5],\n",
       "       [0, 4, 5],\n",
       "       [5, 5, 5],\n",
       "       [1, 1, 3],\n",
       "       [2, 4, 4],\n",
       "       [1, 3, 4],\n",
       "       [5, 3, 4],\n",
       "       [2, 4, 3],\n",
       "       [2, 4, 3],\n",
       "       [1, 4, 2],\n",
       "       [3, 3, 3],\n",
       "       [2, 3, 2],\n",
       "       [5, 4, 0],\n",
       "       [5, 3, 2],\n",
       "       [4, 0, 2],\n",
       "       [1, 3, 2],\n",
       "       [1, 5, 2],\n",
       "       [3, 3, 3],\n",
       "       [1, 1, 1],\n",
       "       [2, 0, 4],\n",
       "       [0, 1, 2],\n",
       "       [5, 3, 5],\n",
       "       [2, 2, 2],\n",
       "       [0, 5, 0],\n",
       "       [1, 1, 1],\n",
       "       [2, 4, 0],\n",
       "       [0, 2, 5],\n",
       "       [3, 4, 2],\n",
       "       [3, 5, 3],\n",
       "       [5, 5, 4],\n",
       "       [3, 2, 3],\n",
       "       [4, 3, 4],\n",
       "       [4, 3, 3],\n",
       "       [1, 3, 3],\n",
       "       [4, 3, 4],\n",
       "       [5, 3, 4],\n",
       "       [5, 0, 0],\n",
       "       [4, 1, 0],\n",
       "       [0, 1, 4],\n",
       "       [4, 1, 4],\n",
       "       [3, 3, 2],\n",
       "       [4, 3, 4],\n",
       "       [2, 3, 3],\n",
       "       [2, 4, 0],\n",
       "       [5, 1, 2],\n",
       "       [4, 5, 5],\n",
       "       [5, 2, 0],\n",
       "       [4, 1, 4],\n",
       "       [5, 1, 4],\n",
       "       [0, 1, 2],\n",
       "       [5, 0, 5],\n",
       "       [4, 0, 2],\n",
       "       [3, 5, 5],\n",
       "       [0, 0, 0],\n",
       "       [1, 2, 0],\n",
       "       [2, 5, 1],\n",
       "       [1, 4, 3],\n",
       "       [4, 3, 3],\n",
       "       [4, 2, 3],\n",
       "       [3, 5, 4],\n",
       "       [5, 1, 2],\n",
       "       [3, 3, 2],\n",
       "       [0, 2, 0],\n",
       "       [1, 3, 3],\n",
       "       [5, 1, 2],\n",
       "       [2, 3, 3]])"
      ]
     },
     "execution_count": 11,
     "metadata": {},
     "output_type": "execute_result"
    }
   ],
   "source": [
    "data[:100]"
   ]
  },
  {
   "cell_type": "code",
   "execution_count": null,
   "metadata": {},
   "outputs": [],
   "source": []
  }
 ],
 "metadata": {
  "kernelspec": {
   "display_name": "Python 3.8.12 ('qhack')",
   "language": "python",
   "name": "python3"
  },
  "language_info": {
   "codemirror_mode": {
    "name": "ipython",
    "version": 3
   },
   "file_extension": ".py",
   "mimetype": "text/x-python",
   "name": "python",
   "nbconvert_exporter": "python",
   "pygments_lexer": "ipython3",
   "version": "3.8.15"
  },
  "orig_nbformat": 4,
  "vscode": {
   "interpreter": {
    "hash": "a1a0eb45caf570ee32745c036817d76928c4e2a208988e47f833c0bc72b015d8"
   }
  }
 },
 "nbformat": 4,
 "nbformat_minor": 2
}
