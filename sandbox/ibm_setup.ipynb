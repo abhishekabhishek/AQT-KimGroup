{
 "cells": [
  {
   "cell_type": "code",
   "execution_count": 1,
   "metadata": {},
   "outputs": [
    {
     "name": "stdout",
     "output_type": "stream",
     "text": [
      "/home/abhishekabhishek/git/AQT-KimGroup\n"
     ]
    }
   ],
   "source": [
    "cd .."
   ]
  },
  {
   "cell_type": "code",
   "execution_count": 14,
   "metadata": {},
   "outputs": [],
   "source": [
    "from keys import keys\n",
    "from qiskit import IBMQ, QuantumRegister, QuantumCircuit, quantum_info\n",
    "\n",
    "%matplotlib inline"
   ]
  },
  {
   "cell_type": "code",
   "execution_count": 6,
   "metadata": {},
   "outputs": [],
   "source": [
    "# Setup account\n",
    "provider = IBMQ.enable_account(keys['ibmq_token'])"
   ]
  },
  {
   "cell_type": "code",
   "execution_count": 7,
   "metadata": {},
   "outputs": [],
   "source": [
    "IBMQ.save_account(keys['ibmq_token'])"
   ]
  },
  {
   "cell_type": "code",
   "execution_count": 8,
   "metadata": {},
   "outputs": [
    {
     "name": "stdout",
     "output_type": "stream",
     "text": [
      "ibmq_qasm_simulator 32 0\n",
      "simulator_statevector 32 0\n",
      "simulator_mps 100 0\n",
      "simulator_extended_stabilizer 63 0\n",
      "simulator_stabilizer 5000 0\n"
     ]
    }
   ],
   "source": [
    "devices = provider.backends(simulator=True, operational=True)\n",
    "for x in devices:\n",
    "    print(x.name(), x.configuration().n_qubits, x.status().pending_jobs)"
   ]
  },
  {
   "cell_type": "code",
   "execution_count": 9,
   "metadata": {},
   "outputs": [],
   "source": [
    "simulator_backend = provider.backend.ibmq_qasm_simulator"
   ]
  },
  {
   "cell_type": "markdown",
   "metadata": {},
   "source": [
    "Reproducing Qiskit MLE"
   ]
  },
  {
   "cell_type": "markdown",
   "metadata": {},
   "source": [
    "\n",
    "The following was part of the old notebook but is now deprecated in qiskit - \n",
    "`from qiskit.ignis.verification.tomography import state_tomography_circuits, StateTomographyFitter`"
   ]
  },
  {
   "cell_type": "code",
   "execution_count": 39,
   "metadata": {},
   "outputs": [],
   "source": [
    "from qiskit_experiments.library import StateTomography, tomography"
   ]
  },
  {
   "cell_type": "code",
   "execution_count": 18,
   "metadata": {},
   "outputs": [
    {
     "data": {
      "text/html": [
       "<pre style=\"word-wrap: normal;white-space: pre;background: #fff0;line-height: 1.1;font-family: &quot;Courier New&quot;,Courier,monospace\">      ┌───┐          \n",
       "q3_0: ┤ H ├──■───────\n",
       "      └───┘┌─┴─┐     \n",
       "q3_1: ─────┤ X ├──■──\n",
       "           └───┘┌─┴─┐\n",
       "q3_2: ──────────┤ X ├\n",
       "                └───┘</pre>"
      ],
      "text/plain": [
       "      ┌───┐          \n",
       "q3_0: ┤ H ├──■───────\n",
       "      └───┘┌─┴─┐     \n",
       "q3_1: ─────┤ X ├──■──\n",
       "           └───┘┌─┴─┐\n",
       "q3_2: ──────────┤ X ├\n",
       "                └───┘"
      ]
     },
     "execution_count": 18,
     "metadata": {},
     "output_type": "execute_result"
    }
   ],
   "source": [
    "# No. of qubits\n",
    "n_qubits = 3\n",
    "\n",
    "# Initialize the quantum register and circuit\n",
    "q_reg = QuantumRegister(n_qubits)\n",
    "ghz_circ = QuantumCircuit(q_reg)\n",
    "\n",
    "# Add operations to the circuit to prepage a GHZ state\n",
    "ghz_circ.h(0)\n",
    "for idx in range(n_qubits-1):\n",
    "    ghz_circ.cx(idx, idx+1)\n",
    "\n",
    "ghz_circ.draw()"
   ]
  },
  {
   "cell_type": "code",
   "execution_count": 22,
   "metadata": {},
   "outputs": [
    {
     "data": {
      "text/plain": [
       "27"
      ]
     },
     "execution_count": 22,
     "metadata": {},
     "output_type": "execute_result"
    }
   ],
   "source": [
    "qst_exp = StateTomography(ghz_circ)\n",
    "len(qst_exp.circuits())"
   ]
  },
  {
   "cell_type": "markdown",
   "metadata": {},
   "source": [
    "Following the introduction to the experiment framework at `https://qiskit.org/documentation/experiments/apidocs/framework.html#module-qiskit_experiments.framework`"
   ]
  },
  {
   "cell_type": "code",
   "execution_count": 41,
   "metadata": {},
   "outputs": [],
   "source": [
    "qst_exp_data = qst_exp.run(simulator_backend)"
   ]
  },
  {
   "cell_type": "code",
   "execution_count": 42,
   "metadata": {},
   "outputs": [
    {
     "data": {
      "text/plain": [
       "ExperimentData(StateTomography, 06a7b4f6-98fa-4fda-9cee-991ddc720952, job_ids=['636c55240565be2b3600742c'], metadata=<3 items>)"
      ]
     },
     "execution_count": 42,
     "metadata": {},
     "output_type": "execute_result"
    }
   ],
   "source": [
    "qst_exp_data"
   ]
  },
  {
   "cell_type": "code",
   "execution_count": 43,
   "metadata": {},
   "outputs": [
    {
     "name": "stderr",
     "output_type": "stream",
     "text": [
      "Experiment cannot be saved because no experiment service is available. An experiment service is available, for example, when using an IBM Quantum backend.\n"
     ]
    }
   ],
   "source": [
    "qst_exp_data.save()"
   ]
  },
  {
   "cell_type": "code",
   "execution_count": 44,
   "metadata": {},
   "outputs": [],
   "source": [
    "st_analysis = tomography.StateTomographyAnalysis()\n",
    "qst_exp_res = st_analysis.run(qst_exp_data)"
   ]
  },
  {
   "cell_type": "code",
   "execution_count": 45,
   "metadata": {},
   "outputs": [
    {
     "data": {
      "text/plain": [
       "[{'counts': {'000': 2005, '111': 1995},\n",
       "  'job_id': '636c55240565be2b3600742c',\n",
       "  'metadata': {'clbits': [0, 1, 2], 'm_idx': [0, 0, 0]},\n",
       "  'shots': 4000,\n",
       "  'meas_level': <MeasLevel.CLASSIFIED: 2>},\n",
       " {'counts': {'000': 1013, '011': 942, '100': 1042, '111': 1003},\n",
       "  'job_id': '636c55240565be2b3600742c',\n",
       "  'metadata': {'clbits': [0, 1, 2], 'm_idx': [0, 0, 1]},\n",
       "  'shots': 4000,\n",
       "  'meas_level': <MeasLevel.CLASSIFIED: 2>},\n",
       " {'counts': {'000': 1019, '011': 1005, '100': 980, '111': 996},\n",
       "  'job_id': '636c55240565be2b3600742c',\n",
       "  'metadata': {'clbits': [0, 1, 2], 'm_idx': [0, 0, 2]},\n",
       "  'shots': 4000,\n",
       "  'meas_level': <MeasLevel.CLASSIFIED: 2>},\n",
       " {'counts': {'000': 951, '010': 990, '101': 1017, '111': 1042},\n",
       "  'job_id': '636c55240565be2b3600742c',\n",
       "  'metadata': {'clbits': [0, 1, 2], 'm_idx': [0, 1, 0]},\n",
       "  'shots': 4000,\n",
       "  'meas_level': <MeasLevel.CLASSIFIED: 2>},\n",
       " {'counts': {'000': 482,\n",
       "   '001': 490,\n",
       "   '010': 517,\n",
       "   '011': 468,\n",
       "   '100': 511,\n",
       "   '101': 517,\n",
       "   '110': 513,\n",
       "   '111': 502},\n",
       "  'job_id': '636c55240565be2b3600742c',\n",
       "  'metadata': {'clbits': [0, 1, 2], 'm_idx': [0, 1, 1]},\n",
       "  'shots': 4000,\n",
       "  'meas_level': <MeasLevel.CLASSIFIED: 2>},\n",
       " {'counts': {'000': 482,\n",
       "   '001': 509,\n",
       "   '010': 486,\n",
       "   '011': 473,\n",
       "   '100': 515,\n",
       "   '101': 512,\n",
       "   '110': 516,\n",
       "   '111': 507},\n",
       "  'job_id': '636c55240565be2b3600742c',\n",
       "  'metadata': {'clbits': [0, 1, 2], 'm_idx': [0, 1, 2]},\n",
       "  'shots': 4000,\n",
       "  'meas_level': <MeasLevel.CLASSIFIED: 2>},\n",
       " {'counts': {'000': 991, '010': 987, '101': 990, '111': 1032},\n",
       "  'job_id': '636c55240565be2b3600742c',\n",
       "  'metadata': {'clbits': [0, 1, 2], 'm_idx': [0, 2, 0]},\n",
       "  'shots': 4000,\n",
       "  'meas_level': <MeasLevel.CLASSIFIED: 2>},\n",
       " {'counts': {'000': 504,\n",
       "   '001': 483,\n",
       "   '010': 493,\n",
       "   '011': 503,\n",
       "   '100': 521,\n",
       "   '101': 506,\n",
       "   '110': 506,\n",
       "   '111': 484},\n",
       "  'job_id': '636c55240565be2b3600742c',\n",
       "  'metadata': {'clbits': [0, 1, 2], 'm_idx': [0, 2, 1]},\n",
       "  'shots': 4000,\n",
       "  'meas_level': <MeasLevel.CLASSIFIED: 2>},\n",
       " {'counts': {'000': 490,\n",
       "   '001': 502,\n",
       "   '010': 533,\n",
       "   '011': 479,\n",
       "   '100': 496,\n",
       "   '101': 504,\n",
       "   '110': 490,\n",
       "   '111': 506},\n",
       "  'job_id': '636c55240565be2b3600742c',\n",
       "  'metadata': {'clbits': [0, 1, 2], 'm_idx': [0, 2, 2]},\n",
       "  'shots': 4000,\n",
       "  'meas_level': <MeasLevel.CLASSIFIED: 2>},\n",
       " {'counts': {'000': 1016, '001': 1022, '110': 956, '111': 1006},\n",
       "  'job_id': '636c55240565be2b3600742c',\n",
       "  'metadata': {'clbits': [0, 1, 2], 'm_idx': [1, 0, 0]},\n",
       "  'shots': 4000,\n",
       "  'meas_level': <MeasLevel.CLASSIFIED: 2>},\n",
       " {'counts': {'000': 500,\n",
       "   '001': 521,\n",
       "   '010': 505,\n",
       "   '011': 471,\n",
       "   '100': 484,\n",
       "   '101': 509,\n",
       "   '110': 502,\n",
       "   '111': 508},\n",
       "  'job_id': '636c55240565be2b3600742c',\n",
       "  'metadata': {'clbits': [0, 1, 2], 'm_idx': [1, 0, 1]},\n",
       "  'shots': 4000,\n",
       "  'meas_level': <MeasLevel.CLASSIFIED: 2>},\n",
       " {'counts': {'000': 495,\n",
       "   '001': 476,\n",
       "   '010': 540,\n",
       "   '011': 504,\n",
       "   '100': 449,\n",
       "   '101': 516,\n",
       "   '110': 513,\n",
       "   '111': 507},\n",
       "  'job_id': '636c55240565be2b3600742c',\n",
       "  'metadata': {'clbits': [0, 1, 2], 'm_idx': [1, 0, 2]},\n",
       "  'shots': 4000,\n",
       "  'meas_level': <MeasLevel.CLASSIFIED: 2>},\n",
       " {'counts': {'000': 473,\n",
       "   '001': 482,\n",
       "   '010': 477,\n",
       "   '011': 481,\n",
       "   '100': 504,\n",
       "   '101': 568,\n",
       "   '110': 501,\n",
       "   '111': 514},\n",
       "  'job_id': '636c55240565be2b3600742c',\n",
       "  'metadata': {'clbits': [0, 1, 2], 'm_idx': [1, 1, 0]},\n",
       "  'shots': 4000,\n",
       "  'meas_level': <MeasLevel.CLASSIFIED: 2>},\n",
       " {'counts': {'000': 1071, '011': 1022, '101': 969, '110': 938},\n",
       "  'job_id': '636c55240565be2b3600742c',\n",
       "  'metadata': {'clbits': [0, 1, 2], 'm_idx': [1, 1, 1]},\n",
       "  'shots': 4000,\n",
       "  'meas_level': <MeasLevel.CLASSIFIED: 2>},\n",
       " {'counts': {'000': 503,\n",
       "   '001': 466,\n",
       "   '010': 507,\n",
       "   '011': 490,\n",
       "   '100': 499,\n",
       "   '101': 535,\n",
       "   '110': 484,\n",
       "   '111': 516},\n",
       "  'job_id': '636c55240565be2b3600742c',\n",
       "  'metadata': {'clbits': [0, 1, 2], 'm_idx': [1, 1, 2]},\n",
       "  'shots': 4000,\n",
       "  'meas_level': <MeasLevel.CLASSIFIED: 2>},\n",
       " {'counts': {'000': 444,\n",
       "   '001': 531,\n",
       "   '010': 509,\n",
       "   '011': 528,\n",
       "   '100': 483,\n",
       "   '101': 506,\n",
       "   '110': 495,\n",
       "   '111': 504},\n",
       "  'job_id': '636c55240565be2b3600742c',\n",
       "  'metadata': {'clbits': [0, 1, 2], 'm_idx': [1, 2, 0]},\n",
       "  'shots': 4000,\n",
       "  'meas_level': <MeasLevel.CLASSIFIED: 2>},\n",
       " {'counts': {'000': 557,\n",
       "   '001': 484,\n",
       "   '010': 515,\n",
       "   '011': 504,\n",
       "   '100': 496,\n",
       "   '101': 509,\n",
       "   '110': 474,\n",
       "   '111': 461},\n",
       "  'job_id': '636c55240565be2b3600742c',\n",
       "  'metadata': {'clbits': [0, 1, 2], 'm_idx': [1, 2, 1]},\n",
       "  'shots': 4000,\n",
       "  'meas_level': <MeasLevel.CLASSIFIED: 2>},\n",
       " {'counts': {'001': 1019, '010': 992, '100': 1001, '111': 988},\n",
       "  'job_id': '636c55240565be2b3600742c',\n",
       "  'metadata': {'clbits': [0, 1, 2], 'm_idx': [1, 2, 2]},\n",
       "  'shots': 4000,\n",
       "  'meas_level': <MeasLevel.CLASSIFIED: 2>},\n",
       " {'counts': {'000': 1074, '001': 919, '110': 1011, '111': 996},\n",
       "  'job_id': '636c55240565be2b3600742c',\n",
       "  'metadata': {'clbits': [0, 1, 2], 'm_idx': [2, 0, 0]},\n",
       "  'shots': 4000,\n",
       "  'meas_level': <MeasLevel.CLASSIFIED: 2>},\n",
       " {'counts': {'000': 504,\n",
       "   '001': 524,\n",
       "   '010': 497,\n",
       "   '011': 467,\n",
       "   '100': 495,\n",
       "   '101': 537,\n",
       "   '110': 484,\n",
       "   '111': 492},\n",
       "  'job_id': '636c55240565be2b3600742c',\n",
       "  'metadata': {'clbits': [0, 1, 2], 'm_idx': [2, 0, 1]},\n",
       "  'shots': 4000,\n",
       "  'meas_level': <MeasLevel.CLASSIFIED: 2>},\n",
       " {'counts': {'000': 495,\n",
       "   '001': 497,\n",
       "   '010': 516,\n",
       "   '011': 492,\n",
       "   '100': 491,\n",
       "   '101': 493,\n",
       "   '110': 494,\n",
       "   '111': 522},\n",
       "  'job_id': '636c55240565be2b3600742c',\n",
       "  'metadata': {'clbits': [0, 1, 2], 'm_idx': [2, 0, 2]},\n",
       "  'shots': 4000,\n",
       "  'meas_level': <MeasLevel.CLASSIFIED: 2>},\n",
       " {'counts': {'000': 479,\n",
       "   '001': 500,\n",
       "   '010': 505,\n",
       "   '011': 515,\n",
       "   '100': 478,\n",
       "   '101': 506,\n",
       "   '110': 510,\n",
       "   '111': 507},\n",
       "  'job_id': '636c55240565be2b3600742c',\n",
       "  'metadata': {'clbits': [0, 1, 2], 'm_idx': [2, 1, 0]},\n",
       "  'shots': 4000,\n",
       "  'meas_level': <MeasLevel.CLASSIFIED: 2>},\n",
       " {'counts': {'000': 524,\n",
       "   '001': 522,\n",
       "   '010': 501,\n",
       "   '011': 466,\n",
       "   '100': 501,\n",
       "   '101': 512,\n",
       "   '110': 475,\n",
       "   '111': 499},\n",
       "  'job_id': '636c55240565be2b3600742c',\n",
       "  'metadata': {'clbits': [0, 1, 2], 'm_idx': [2, 1, 1]},\n",
       "  'shots': 4000,\n",
       "  'meas_level': <MeasLevel.CLASSIFIED: 2>},\n",
       " {'counts': {'001': 972, '010': 1028, '100': 986, '111': 1014},\n",
       "  'job_id': '636c55240565be2b3600742c',\n",
       "  'metadata': {'clbits': [0, 1, 2], 'm_idx': [2, 1, 2]},\n",
       "  'shots': 4000,\n",
       "  'meas_level': <MeasLevel.CLASSIFIED: 2>},\n",
       " {'counts': {'000': 513,\n",
       "   '001': 517,\n",
       "   '010': 496,\n",
       "   '011': 482,\n",
       "   '100': 467,\n",
       "   '101': 478,\n",
       "   '110': 528,\n",
       "   '111': 519},\n",
       "  'job_id': '636c55240565be2b3600742c',\n",
       "  'metadata': {'clbits': [0, 1, 2], 'm_idx': [2, 2, 0]},\n",
       "  'shots': 4000,\n",
       "  'meas_level': <MeasLevel.CLASSIFIED: 2>},\n",
       " {'counts': {'001': 1016, '010': 990, '100': 997, '111': 997},\n",
       "  'job_id': '636c55240565be2b3600742c',\n",
       "  'metadata': {'clbits': [0, 1, 2], 'm_idx': [2, 2, 1]},\n",
       "  'shots': 4000,\n",
       "  'meas_level': <MeasLevel.CLASSIFIED: 2>},\n",
       " {'counts': {'000': 543,\n",
       "   '001': 478,\n",
       "   '010': 464,\n",
       "   '011': 528,\n",
       "   '100': 490,\n",
       "   '101': 496,\n",
       "   '110': 501,\n",
       "   '111': 500},\n",
       "  'job_id': '636c55240565be2b3600742c',\n",
       "  'metadata': {'clbits': [0, 1, 2], 'm_idx': [2, 2, 2]},\n",
       "  'shots': 4000,\n",
       "  'meas_level': <MeasLevel.CLASSIFIED: 2>}]"
      ]
     },
     "execution_count": 45,
     "metadata": {},
     "output_type": "execute_result"
    }
   ],
   "source": [
    "qst_exp_res.data()"
   ]
  },
  {
   "cell_type": "code",
   "execution_count": 46,
   "metadata": {},
   "outputs": [
    {
     "name": "stdout",
     "output_type": "stream",
     "text": [
      "[dict_keys(['counts', 'job_id', 'metadata', 'shots', 'meas_level']), dict_keys(['counts', 'job_id', 'metadata', 'shots', 'meas_level']), dict_keys(['counts', 'job_id', 'metadata', 'shots', 'meas_level']), dict_keys(['counts', 'job_id', 'metadata', 'shots', 'meas_level']), dict_keys(['counts', 'job_id', 'metadata', 'shots', 'meas_level']), dict_keys(['counts', 'job_id', 'metadata', 'shots', 'meas_level']), dict_keys(['counts', 'job_id', 'metadata', 'shots', 'meas_level']), dict_keys(['counts', 'job_id', 'metadata', 'shots', 'meas_level']), dict_keys(['counts', 'job_id', 'metadata', 'shots', 'meas_level']), dict_keys(['counts', 'job_id', 'metadata', 'shots', 'meas_level']), dict_keys(['counts', 'job_id', 'metadata', 'shots', 'meas_level']), dict_keys(['counts', 'job_id', 'metadata', 'shots', 'meas_level']), dict_keys(['counts', 'job_id', 'metadata', 'shots', 'meas_level']), dict_keys(['counts', 'job_id', 'metadata', 'shots', 'meas_level']), dict_keys(['counts', 'job_id', 'metadata', 'shots', 'meas_level']), dict_keys(['counts', 'job_id', 'metadata', 'shots', 'meas_level']), dict_keys(['counts', 'job_id', 'metadata', 'shots', 'meas_level']), dict_keys(['counts', 'job_id', 'metadata', 'shots', 'meas_level']), dict_keys(['counts', 'job_id', 'metadata', 'shots', 'meas_level']), dict_keys(['counts', 'job_id', 'metadata', 'shots', 'meas_level']), dict_keys(['counts', 'job_id', 'metadata', 'shots', 'meas_level']), dict_keys(['counts', 'job_id', 'metadata', 'shots', 'meas_level']), dict_keys(['counts', 'job_id', 'metadata', 'shots', 'meas_level']), dict_keys(['counts', 'job_id', 'metadata', 'shots', 'meas_level']), dict_keys(['counts', 'job_id', 'metadata', 'shots', 'meas_level']), dict_keys(['counts', 'job_id', 'metadata', 'shots', 'meas_level']), dict_keys(['counts', 'job_id', 'metadata', 'shots', 'meas_level'])]\n"
     ]
    }
   ],
   "source": [
    "qst_exp_data = qst_exp_res.data()\n",
    "keys = [qst_exp_data[i].keys() for i in range(len(qst_exp_data))]\n",
    "print(keys)"
   ]
  },
  {
   "cell_type": "code",
   "execution_count": 49,
   "metadata": {},
   "outputs": [
    {
     "ename": "TypeError",
     "evalue": "linear_inversion() missing 3 required positional arguments: 'shot_data', 'measurement_data', and 'preparation_data'",
     "output_type": "error",
     "traceback": [
      "\u001b[0;31m---------------------------------------------------------------------------\u001b[0m",
      "\u001b[0;31mTypeError\u001b[0m                                 Traceback (most recent call last)",
      "Cell \u001b[0;32mIn [49], line 1\u001b[0m\n\u001b[0;32m----> 1\u001b[0m rho_li \u001b[39m=\u001b[39m tomography\u001b[39m.\u001b[39;49mfitters\u001b[39m.\u001b[39;49mlinear_inversion(qst_exp_res)\n",
      "\u001b[0;31mTypeError\u001b[0m: linear_inversion() missing 3 required positional arguments: 'shot_data', 'measurement_data', and 'preparation_data'"
     ]
    }
   ],
   "source": [
    "pauli_basis = tomography.basis.PauliMeasurementBasis\n",
    "\n",
    "rho_li = tomography.fitters.linear_inversion(None, None, None,\n",
    "                                             measurement_basis=pauli_basis)"
   ]
  },
  {
   "cell_type": "code",
   "execution_count": 51,
   "metadata": {},
   "outputs": [],
   "source": [
    "pauli_basis = tomography.basis.PauliMeasurementBasis()\n"
   ]
  },
  {
   "cell_type": "code",
   "execution_count": null,
   "metadata": {},
   "outputs": [],
   "source": []
  }
 ],
 "metadata": {
  "kernelspec": {
   "display_name": "Python 3.8.13 64-bit",
   "language": "python",
   "name": "python3"
  },
  "language_info": {
   "codemirror_mode": {
    "name": "ipython",
    "version": 3
   },
   "file_extension": ".py",
   "mimetype": "text/x-python",
   "name": "python",
   "nbconvert_exporter": "python",
   "pygments_lexer": "ipython3",
   "version": "3.8.13"
  },
  "orig_nbformat": 4,
  "vscode": {
   "interpreter": {
    "hash": "7dd5b4facb55a7ee9dc192750a18a69a765275ec5ae75bed654023c88176ceb4"
   }
  }
 },
 "nbformat": 4,
 "nbformat_minor": 2
}
